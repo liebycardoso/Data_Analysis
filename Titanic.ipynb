{
 "cells": [
  {
   "cell_type": "markdown",
   "metadata": {},
   "source": [
    "# <font color='DarkSlateBlue'>Intro Data Analysis</font> \n",
    "\n",
    "## <font color='NavyBlue'>Titanic Data</font>\n",
    "\n",
    "### <font color='Red'> Eu, mulher, 33 anos na 2º classe sobreviveria?</font>"
   ]
  },
  {
   "cell_type": "code",
   "execution_count": 37,
   "metadata": {
    "collapsed": true
   },
   "outputs": [],
   "source": [
    "#importando as bibliotecas\n",
    "import matplotlib.pyplot as plt\n",
    "%matplotlib inline\n",
    "import seaborn as sb\n",
    "import pandas as pd\n",
    "import numpy as np\n"
   ]
  },
  {
   "cell_type": "code",
   "execution_count": 2,
   "metadata": {
    "collapsed": true
   },
   "outputs": [],
   "source": [
    "#Machine learning\n",
    "from sklearn.ensemble import RandomForestClassifier\n",
    "from sklearn import preprocessing\n",
    "from sklearn import datasets, svm, model_selection, tree, preprocessing, metrics"
   ]
  },
  {
   "cell_type": "code",
   "execution_count": 3,
   "metadata": {
    "collapsed": true
   },
   "outputs": [],
   "source": [
    "filename = 'C:/Nanodegree/Intro_Data_Analys/titanic_data.csv'\n",
    "titanic_df = pd.read_csv(filename, header=0)"
   ]
  },
  {
   "cell_type": "code",
   "execution_count": 4,
   "metadata": {
    "collapsed": false
   },
   "outputs": [
    {
     "data": {
      "text/html": [
       "<div>\n",
       "<table border=\"1\" class=\"dataframe\">\n",
       "  <thead>\n",
       "    <tr style=\"text-align: right;\">\n",
       "      <th></th>\n",
       "      <th>PassengerId</th>\n",
       "      <th>Survived</th>\n",
       "      <th>Pclass</th>\n",
       "      <th>Name</th>\n",
       "      <th>Sex</th>\n",
       "      <th>Age</th>\n",
       "      <th>SibSp</th>\n",
       "      <th>Parch</th>\n",
       "      <th>Ticket</th>\n",
       "      <th>Fare</th>\n",
       "      <th>Cabin</th>\n",
       "      <th>Embarked</th>\n",
       "    </tr>\n",
       "  </thead>\n",
       "  <tbody>\n",
       "    <tr>\n",
       "      <th>0</th>\n",
       "      <td>1</td>\n",
       "      <td>0</td>\n",
       "      <td>3</td>\n",
       "      <td>Braund, Mr. Owen Harris</td>\n",
       "      <td>male</td>\n",
       "      <td>22.0</td>\n",
       "      <td>1</td>\n",
       "      <td>0</td>\n",
       "      <td>A/5 21171</td>\n",
       "      <td>7.2500</td>\n",
       "      <td>NaN</td>\n",
       "      <td>S</td>\n",
       "    </tr>\n",
       "    <tr>\n",
       "      <th>1</th>\n",
       "      <td>2</td>\n",
       "      <td>1</td>\n",
       "      <td>1</td>\n",
       "      <td>Cumings, Mrs. John Bradley (Florence Briggs Th...</td>\n",
       "      <td>female</td>\n",
       "      <td>38.0</td>\n",
       "      <td>1</td>\n",
       "      <td>0</td>\n",
       "      <td>PC 17599</td>\n",
       "      <td>71.2833</td>\n",
       "      <td>C85</td>\n",
       "      <td>C</td>\n",
       "    </tr>\n",
       "    <tr>\n",
       "      <th>2</th>\n",
       "      <td>3</td>\n",
       "      <td>1</td>\n",
       "      <td>3</td>\n",
       "      <td>Heikkinen, Miss. Laina</td>\n",
       "      <td>female</td>\n",
       "      <td>26.0</td>\n",
       "      <td>0</td>\n",
       "      <td>0</td>\n",
       "      <td>STON/O2. 3101282</td>\n",
       "      <td>7.9250</td>\n",
       "      <td>NaN</td>\n",
       "      <td>S</td>\n",
       "    </tr>\n",
       "    <tr>\n",
       "      <th>3</th>\n",
       "      <td>4</td>\n",
       "      <td>1</td>\n",
       "      <td>1</td>\n",
       "      <td>Futrelle, Mrs. Jacques Heath (Lily May Peel)</td>\n",
       "      <td>female</td>\n",
       "      <td>35.0</td>\n",
       "      <td>1</td>\n",
       "      <td>0</td>\n",
       "      <td>113803</td>\n",
       "      <td>53.1000</td>\n",
       "      <td>C123</td>\n",
       "      <td>S</td>\n",
       "    </tr>\n",
       "    <tr>\n",
       "      <th>4</th>\n",
       "      <td>5</td>\n",
       "      <td>0</td>\n",
       "      <td>3</td>\n",
       "      <td>Allen, Mr. William Henry</td>\n",
       "      <td>male</td>\n",
       "      <td>35.0</td>\n",
       "      <td>0</td>\n",
       "      <td>0</td>\n",
       "      <td>373450</td>\n",
       "      <td>8.0500</td>\n",
       "      <td>NaN</td>\n",
       "      <td>S</td>\n",
       "    </tr>\n",
       "  </tbody>\n",
       "</table>\n",
       "</div>"
      ],
      "text/plain": [
       "   PassengerId  Survived  Pclass  \\\n",
       "0            1         0       3   \n",
       "1            2         1       1   \n",
       "2            3         1       3   \n",
       "3            4         1       1   \n",
       "4            5         0       3   \n",
       "\n",
       "                                                Name     Sex   Age  SibSp  \\\n",
       "0                            Braund, Mr. Owen Harris    male  22.0      1   \n",
       "1  Cumings, Mrs. John Bradley (Florence Briggs Th...  female  38.0      1   \n",
       "2                             Heikkinen, Miss. Laina  female  26.0      0   \n",
       "3       Futrelle, Mrs. Jacques Heath (Lily May Peel)  female  35.0      1   \n",
       "4                           Allen, Mr. William Henry    male  35.0      0   \n",
       "\n",
       "   Parch            Ticket     Fare Cabin Embarked  \n",
       "0      0         A/5 21171   7.2500   NaN        S  \n",
       "1      0          PC 17599  71.2833   C85        C  \n",
       "2      0  STON/O2. 3101282   7.9250   NaN        S  \n",
       "3      0            113803  53.1000  C123        S  \n",
       "4      0            373450   8.0500   NaN        S  "
      ]
     },
     "execution_count": 4,
     "metadata": {},
     "output_type": "execute_result"
    }
   ],
   "source": [
    "titanic_df.head()"
   ]
  },
  {
   "cell_type": "markdown",
   "metadata": {},
   "source": []
  },
  {
   "cell_type": "code",
   "execution_count": null,
   "metadata": {
    "collapsed": false
   },
   "outputs": [],
   "source": []
  },
  {
   "cell_type": "markdown",
   "metadata": {},
   "source": [
    "## Data Wrangler\n",
    "Pontos focais:\n",
    "- Idade\n",
    "- Sexo\n",
    "- Acompanhantes: SibSp + Parch\n",
    "- Classe\n",
    "\n",
    "Descrição dos campos:\n",
    "- Embarked: Porto de embarque (C = Cherbourg; Q = Queenstown; S = Southampton)\n",
    "- Parch: Número de pais e filhos a bordo\n",
    "- Pclass: Classe que o passageiro embarcou (1 = 1º classe; 2 = 2º classe; 3 = 3º classe)\n",
    "- Sex: Gênero feminino (female) ou male (masculino)\n",
    "- Sibsp: Numero de irmãos e esposa a bordo\n",
    "- Survived: 0 - Não sobreviveu e 1 = sobreviveu"
   ]
  },
  {
   "cell_type": "code",
   "execution_count": 5,
   "metadata": {
    "collapsed": false
   },
   "outputs": [
    {
     "data": {
      "text/plain": [
       "PassengerId      int64\n",
       "Survived         int64\n",
       "Pclass           int64\n",
       "Name            object\n",
       "Sex             object\n",
       "Age            float64\n",
       "SibSp            int64\n",
       "Parch            int64\n",
       "Ticket          object\n",
       "Fare           float64\n",
       "Cabin           object\n",
       "Embarked        object\n",
       "dtype: object"
      ]
     },
     "execution_count": 5,
     "metadata": {},
     "output_type": "execute_result"
    }
   ],
   "source": [
    "#Conferindo o tipo dos dados criados\n",
    "titanic_df.dtypes"
   ]
  },
  {
   "cell_type": "code",
   "execution_count": 6,
   "metadata": {
    "collapsed": false
   },
   "outputs": [],
   "source": [
    "#SibSp e Parch tem a mesma raiz de informação (total de acompanhantes), para facilitar a análise, será criada \n",
    "#uma nova coluna com o total de acompanhantes\n",
    "titanic_df['Family'] = titanic_df['SibSp'] + titanic_df['Parch']"
   ]
  },
  {
   "cell_type": "code",
   "execution_count": 7,
   "metadata": {
    "collapsed": false
   },
   "outputs": [
    {
     "data": {
      "text/html": [
       "<div>\n",
       "<table border=\"1\" class=\"dataframe\">\n",
       "  <thead>\n",
       "    <tr style=\"text-align: right;\">\n",
       "      <th></th>\n",
       "      <th></th>\n",
       "      <th></th>\n",
       "      <th>PassengerId</th>\n",
       "      <th>Age</th>\n",
       "      <th>SibSp</th>\n",
       "      <th>Parch</th>\n",
       "      <th>Fare</th>\n",
       "      <th>Family</th>\n",
       "    </tr>\n",
       "    <tr>\n",
       "      <th>Pclass</th>\n",
       "      <th>Sex</th>\n",
       "      <th>Survived</th>\n",
       "      <th></th>\n",
       "      <th></th>\n",
       "      <th></th>\n",
       "      <th></th>\n",
       "      <th></th>\n",
       "      <th></th>\n",
       "    </tr>\n",
       "  </thead>\n",
       "  <tbody>\n",
       "    <tr>\n",
       "      <th rowspan=\"4\" valign=\"top\">1</th>\n",
       "      <th rowspan=\"2\" valign=\"top\">female</th>\n",
       "      <th>0</th>\n",
       "      <td>325.000000</td>\n",
       "      <td>25.666667</td>\n",
       "      <td>0.666667</td>\n",
       "      <td>1.333333</td>\n",
       "      <td>110.604167</td>\n",
       "      <td>2.000000</td>\n",
       "    </tr>\n",
       "    <tr>\n",
       "      <th>1</th>\n",
       "      <td>473.967033</td>\n",
       "      <td>34.939024</td>\n",
       "      <td>0.549451</td>\n",
       "      <td>0.428571</td>\n",
       "      <td>105.978159</td>\n",
       "      <td>0.978022</td>\n",
       "    </tr>\n",
       "    <tr>\n",
       "      <th rowspan=\"2\" valign=\"top\">male</th>\n",
       "      <th>0</th>\n",
       "      <td>413.623377</td>\n",
       "      <td>44.581967</td>\n",
       "      <td>0.272727</td>\n",
       "      <td>0.259740</td>\n",
       "      <td>62.894910</td>\n",
       "      <td>0.532468</td>\n",
       "    </tr>\n",
       "    <tr>\n",
       "      <th>1</th>\n",
       "      <td>527.777778</td>\n",
       "      <td>36.248000</td>\n",
       "      <td>0.377778</td>\n",
       "      <td>0.311111</td>\n",
       "      <td>74.637320</td>\n",
       "      <td>0.688889</td>\n",
       "    </tr>\n",
       "    <tr>\n",
       "      <th rowspan=\"4\" valign=\"top\">2</th>\n",
       "      <th rowspan=\"2\" valign=\"top\">female</th>\n",
       "      <th>0</th>\n",
       "      <td>423.500000</td>\n",
       "      <td>36.000000</td>\n",
       "      <td>0.500000</td>\n",
       "      <td>0.166667</td>\n",
       "      <td>18.250000</td>\n",
       "      <td>0.666667</td>\n",
       "    </tr>\n",
       "    <tr>\n",
       "      <th>1</th>\n",
       "      <td>444.785714</td>\n",
       "      <td>28.080882</td>\n",
       "      <td>0.485714</td>\n",
       "      <td>0.642857</td>\n",
       "      <td>22.288989</td>\n",
       "      <td>1.128571</td>\n",
       "    </tr>\n",
       "    <tr>\n",
       "      <th rowspan=\"2\" valign=\"top\">male</th>\n",
       "      <th>0</th>\n",
       "      <td>454.010989</td>\n",
       "      <td>33.369048</td>\n",
       "      <td>0.307692</td>\n",
       "      <td>0.142857</td>\n",
       "      <td>19.488965</td>\n",
       "      <td>0.450549</td>\n",
       "    </tr>\n",
       "    <tr>\n",
       "      <th>1</th>\n",
       "      <td>415.588235</td>\n",
       "      <td>16.022000</td>\n",
       "      <td>0.529412</td>\n",
       "      <td>0.647059</td>\n",
       "      <td>21.095100</td>\n",
       "      <td>1.176471</td>\n",
       "    </tr>\n",
       "    <tr>\n",
       "      <th rowspan=\"4\" valign=\"top\">3</th>\n",
       "      <th rowspan=\"2\" valign=\"top\">female</th>\n",
       "      <th>0</th>\n",
       "      <td>440.375000</td>\n",
       "      <td>23.818182</td>\n",
       "      <td>1.291667</td>\n",
       "      <td>1.097222</td>\n",
       "      <td>19.773093</td>\n",
       "      <td>2.388889</td>\n",
       "    </tr>\n",
       "    <tr>\n",
       "      <th>1</th>\n",
       "      <td>359.083333</td>\n",
       "      <td>19.329787</td>\n",
       "      <td>0.500000</td>\n",
       "      <td>0.500000</td>\n",
       "      <td>12.464526</td>\n",
       "      <td>1.000000</td>\n",
       "    </tr>\n",
       "    <tr>\n",
       "      <th rowspan=\"2\" valign=\"top\">male</th>\n",
       "      <th>0</th>\n",
       "      <td>456.750000</td>\n",
       "      <td>27.255814</td>\n",
       "      <td>0.523333</td>\n",
       "      <td>0.213333</td>\n",
       "      <td>12.204469</td>\n",
       "      <td>0.736667</td>\n",
       "    </tr>\n",
       "    <tr>\n",
       "      <th>1</th>\n",
       "      <td>447.638298</td>\n",
       "      <td>22.274211</td>\n",
       "      <td>0.340426</td>\n",
       "      <td>0.297872</td>\n",
       "      <td>15.579696</td>\n",
       "      <td>0.638298</td>\n",
       "    </tr>\n",
       "  </tbody>\n",
       "</table>\n",
       "</div>"
      ],
      "text/plain": [
       "                        PassengerId        Age     SibSp     Parch  \\\n",
       "Pclass Sex    Survived                                               \n",
       "1      female 0          325.000000  25.666667  0.666667  1.333333   \n",
       "              1          473.967033  34.939024  0.549451  0.428571   \n",
       "       male   0          413.623377  44.581967  0.272727  0.259740   \n",
       "              1          527.777778  36.248000  0.377778  0.311111   \n",
       "2      female 0          423.500000  36.000000  0.500000  0.166667   \n",
       "              1          444.785714  28.080882  0.485714  0.642857   \n",
       "       male   0          454.010989  33.369048  0.307692  0.142857   \n",
       "              1          415.588235  16.022000  0.529412  0.647059   \n",
       "3      female 0          440.375000  23.818182  1.291667  1.097222   \n",
       "              1          359.083333  19.329787  0.500000  0.500000   \n",
       "       male   0          456.750000  27.255814  0.523333  0.213333   \n",
       "              1          447.638298  22.274211  0.340426  0.297872   \n",
       "\n",
       "                              Fare    Family  \n",
       "Pclass Sex    Survived                        \n",
       "1      female 0         110.604167  2.000000  \n",
       "              1         105.978159  0.978022  \n",
       "       male   0          62.894910  0.532468  \n",
       "              1          74.637320  0.688889  \n",
       "2      female 0          18.250000  0.666667  \n",
       "              1          22.288989  1.128571  \n",
       "       male   0          19.488965  0.450549  \n",
       "              1          21.095100  1.176471  \n",
       "3      female 0          19.773093  2.388889  \n",
       "              1          12.464526  1.000000  \n",
       "       male   0          12.204469  0.736667  \n",
       "              1          15.579696  0.638298  "
      ]
     },
     "execution_count": 7,
     "metadata": {},
     "output_type": "execute_result"
    }
   ],
   "source": [
    "#influencia de Age, Fare e Family na sobrevivência\n",
    "titanic_df.groupby(['Pclass', 'Sex', 'Survived']).mean()"
   ]
  },
  {
   "cell_type": "markdown",
   "metadata": {
    "collapsed": false
   },
   "source": [
    "Como a coluna Sex está em formato texto o valor retornado não é significativo, portanto valor 0 -female e 1 - Male será atribuido."
   ]
  },
  {
   "cell_type": "code",
   "execution_count": 8,
   "metadata": {
    "collapsed": false
   },
   "outputs": [],
   "source": [
    "#Uma vez que o total de SEX é igual ao total de registros, posso testar o conteúdo de todos os valores\n",
    "titanic_df['Sex_temp'] = titanic_df.Sex == \"male\"\n",
    "\n",
    "#Transfa o False em 0 e o True em 1\n",
    "titanic_df['Sex'] = titanic_df['Sex_temp'].as_matrix().astype(np.int)\n",
    "#Apaga a coluna temporaria sex\n",
    "titanic_df.drop('Sex_temp', axis=1, inplace=True)\n",
    "\n",
    "#uma outra possibilidade:\n",
    "#pd.get_dummies(titanic_df, columns='Sex'), drop_first=True)"
   ]
  },
  {
   "cell_type": "markdown",
   "metadata": {},
   "source": [
    "Age tem valores nulos que serão substituidos pela idade média geral da coluna Age."
   ]
  },
  {
   "cell_type": "code",
   "execution_count": 9,
   "metadata": {
    "collapsed": true
   },
   "outputs": [],
   "source": [
    "titanic_df.Age = titanic_df.Age.fillna(titanic_df.Age.mean())"
   ]
  },
  {
   "cell_type": "markdown",
   "metadata": {},
   "source": [
    "### Excluíndo colunas \n",
    "Colunas que não serão consideradas na análise: \n",
    "1. O conteúdo de SibSp e Parch estão armazenado na nova coluna Family\n",
    "2. PassengerId, Ticket e Embarked não tem conteúdo significativo no contexto selecionado\n",
    "3. O dado da coluna Cabin pode ser trabalhado, por exemplo, se for considerado a primeira letra do conteúdo, mas como faltam muitos valores, e não encontrei um forte vinculo dessa variável no resultado procurado, optei por excluí-la. 77.10% de nulos\n"
   ]
  },
  {
   "cell_type": "code",
   "execution_count": 10,
   "metadata": {
    "collapsed": false
   },
   "outputs": [
    {
     "data": {
      "text/plain": [
       "77.10437710437711"
      ]
     },
     "execution_count": 10,
     "metadata": {},
     "output_type": "execute_result"
    }
   ],
   "source": [
    "#Calcula o % de nulos na coluna Cabin em relação ao total de registros\n",
    "perc_null_cabin = (float(sum(titanic_df['Cabin'].isnull()))/float(titanic_df['PassengerId'].count()))*100\n",
    "perc_null_cabin"
   ]
  },
  {
   "cell_type": "code",
   "execution_count": 11,
   "metadata": {
    "collapsed": false
   },
   "outputs": [
    {
     "data": {
      "text/html": [
       "<div>\n",
       "<table border=\"1\" class=\"dataframe\">\n",
       "  <thead>\n",
       "    <tr style=\"text-align: right;\">\n",
       "      <th></th>\n",
       "      <th>Survived</th>\n",
       "      <th>Pclass</th>\n",
       "      <th>Sex</th>\n",
       "      <th>Age</th>\n",
       "      <th>Fare</th>\n",
       "      <th>Family</th>\n",
       "    </tr>\n",
       "  </thead>\n",
       "  <tbody>\n",
       "    <tr>\n",
       "      <th>0</th>\n",
       "      <td>0</td>\n",
       "      <td>3</td>\n",
       "      <td>1</td>\n",
       "      <td>22.0</td>\n",
       "      <td>7.2500</td>\n",
       "      <td>1</td>\n",
       "    </tr>\n",
       "    <tr>\n",
       "      <th>1</th>\n",
       "      <td>1</td>\n",
       "      <td>1</td>\n",
       "      <td>0</td>\n",
       "      <td>38.0</td>\n",
       "      <td>71.2833</td>\n",
       "      <td>1</td>\n",
       "    </tr>\n",
       "    <tr>\n",
       "      <th>2</th>\n",
       "      <td>1</td>\n",
       "      <td>3</td>\n",
       "      <td>0</td>\n",
       "      <td>26.0</td>\n",
       "      <td>7.9250</td>\n",
       "      <td>0</td>\n",
       "    </tr>\n",
       "    <tr>\n",
       "      <th>3</th>\n",
       "      <td>1</td>\n",
       "      <td>1</td>\n",
       "      <td>0</td>\n",
       "      <td>35.0</td>\n",
       "      <td>53.1000</td>\n",
       "      <td>1</td>\n",
       "    </tr>\n",
       "    <tr>\n",
       "      <th>4</th>\n",
       "      <td>0</td>\n",
       "      <td>3</td>\n",
       "      <td>1</td>\n",
       "      <td>35.0</td>\n",
       "      <td>8.0500</td>\n",
       "      <td>0</td>\n",
       "    </tr>\n",
       "  </tbody>\n",
       "</table>\n",
       "</div>"
      ],
      "text/plain": [
       "   Survived  Pclass  Sex   Age     Fare  Family\n",
       "0         0       3    1  22.0   7.2500       1\n",
       "1         1       1    0  38.0  71.2833       1\n",
       "2         1       3    0  26.0   7.9250       0\n",
       "3         1       1    0  35.0  53.1000       1\n",
       "4         0       3    1  35.0   8.0500       0"
      ]
     },
     "execution_count": 11,
     "metadata": {},
     "output_type": "execute_result"
    }
   ],
   "source": [
    "#Apaga as colunas\n",
    "titanic_df.drop(['PassengerId','SibSp', 'Parch', 'Cabin','Embarked', 'Ticket','Name'], axis=1, inplace=True)\n",
    "\n",
    "titanic_df.head()"
   ]
  },
  {
   "cell_type": "markdown",
   "metadata": {},
   "source": [
    "Será trabalhado com a relação da variavel Survived com Pclass, Sex, Age."
   ]
  },
  {
   "cell_type": "markdown",
   "metadata": {
    "collapsed": false
   },
   "source": [
    "## Sumário estatístico\n",
    "Aplicada aos valores númericos\n",
    "\n",
    "- count: Total de elementos não nulos\n",
    "- mean: Média\n",
    "- std: Desvio Padrão\n",
    "- min: Maior valor da amostra\n",
    "- max: Menor valor da amostra\n",
    "- 25%: Quartil 1, corresponde a 25% da amostra\n",
    "- 50%: Quartil 2 ou mediana da amostra\n",
    "- 75%: Quartil 3, corresponde a % da amostra"
   ]
  },
  {
   "cell_type": "code",
   "execution_count": 12,
   "metadata": {
    "collapsed": false
   },
   "outputs": [
    {
     "data": {
      "text/html": [
       "<div>\n",
       "<table border=\"1\" class=\"dataframe\">\n",
       "  <thead>\n",
       "    <tr style=\"text-align: right;\">\n",
       "      <th></th>\n",
       "      <th>Survived</th>\n",
       "      <th>Pclass</th>\n",
       "      <th>Sex</th>\n",
       "      <th>Age</th>\n",
       "      <th>Fare</th>\n",
       "      <th>Family</th>\n",
       "    </tr>\n",
       "  </thead>\n",
       "  <tbody>\n",
       "    <tr>\n",
       "      <th>count</th>\n",
       "      <td>891.000000</td>\n",
       "      <td>891.000000</td>\n",
       "      <td>891.000000</td>\n",
       "      <td>891.000000</td>\n",
       "      <td>891.000000</td>\n",
       "      <td>891.000000</td>\n",
       "    </tr>\n",
       "    <tr>\n",
       "      <th>mean</th>\n",
       "      <td>0.383838</td>\n",
       "      <td>2.308642</td>\n",
       "      <td>0.647587</td>\n",
       "      <td>29.699118</td>\n",
       "      <td>32.204208</td>\n",
       "      <td>0.904602</td>\n",
       "    </tr>\n",
       "    <tr>\n",
       "      <th>std</th>\n",
       "      <td>0.486592</td>\n",
       "      <td>0.836071</td>\n",
       "      <td>0.477990</td>\n",
       "      <td>13.002015</td>\n",
       "      <td>49.693429</td>\n",
       "      <td>1.613459</td>\n",
       "    </tr>\n",
       "    <tr>\n",
       "      <th>min</th>\n",
       "      <td>0.000000</td>\n",
       "      <td>1.000000</td>\n",
       "      <td>0.000000</td>\n",
       "      <td>0.420000</td>\n",
       "      <td>0.000000</td>\n",
       "      <td>0.000000</td>\n",
       "    </tr>\n",
       "    <tr>\n",
       "      <th>25%</th>\n",
       "      <td>0.000000</td>\n",
       "      <td>2.000000</td>\n",
       "      <td>0.000000</td>\n",
       "      <td>22.000000</td>\n",
       "      <td>7.910400</td>\n",
       "      <td>0.000000</td>\n",
       "    </tr>\n",
       "    <tr>\n",
       "      <th>50%</th>\n",
       "      <td>0.000000</td>\n",
       "      <td>3.000000</td>\n",
       "      <td>1.000000</td>\n",
       "      <td>29.699118</td>\n",
       "      <td>14.454200</td>\n",
       "      <td>0.000000</td>\n",
       "    </tr>\n",
       "    <tr>\n",
       "      <th>75%</th>\n",
       "      <td>1.000000</td>\n",
       "      <td>3.000000</td>\n",
       "      <td>1.000000</td>\n",
       "      <td>35.000000</td>\n",
       "      <td>31.000000</td>\n",
       "      <td>1.000000</td>\n",
       "    </tr>\n",
       "    <tr>\n",
       "      <th>max</th>\n",
       "      <td>1.000000</td>\n",
       "      <td>3.000000</td>\n",
       "      <td>1.000000</td>\n",
       "      <td>80.000000</td>\n",
       "      <td>512.329200</td>\n",
       "      <td>10.000000</td>\n",
       "    </tr>\n",
       "  </tbody>\n",
       "</table>\n",
       "</div>"
      ],
      "text/plain": [
       "         Survived      Pclass         Sex         Age        Fare      Family\n",
       "count  891.000000  891.000000  891.000000  891.000000  891.000000  891.000000\n",
       "mean     0.383838    2.308642    0.647587   29.699118   32.204208    0.904602\n",
       "std      0.486592    0.836071    0.477990   13.002015   49.693429    1.613459\n",
       "min      0.000000    1.000000    0.000000    0.420000    0.000000    0.000000\n",
       "25%      0.000000    2.000000    0.000000   22.000000    7.910400    0.000000\n",
       "50%      0.000000    3.000000    1.000000   29.699118   14.454200    0.000000\n",
       "75%      1.000000    3.000000    1.000000   35.000000   31.000000    1.000000\n",
       "max      1.000000    3.000000    1.000000   80.000000  512.329200   10.000000"
      ]
     },
     "execution_count": 12,
     "metadata": {},
     "output_type": "execute_result"
    }
   ],
   "source": [
    "titanic_df.describe().fillna(0)"
   ]
  },
  {
   "cell_type": "markdown",
   "metadata": {
    "collapsed": false
   },
   "source": [
    "- Todas as linhas de todas as colunas estão preenchidas com 891 registros cada.\n",
    "- A idade dos passageiros está entre 0.42 e 80 anos. \n",
    "- Para a maior parte dos passageiros (537) não foi registrado acompanhantes, mas por causa de passageiros com muitos acompanhantes a média registrada foi 0.9."
   ]
  },
  {
   "cell_type": "markdown",
   "metadata": {
    "collapsed": true
   },
   "source": [
    "### Correlação de Pearson\n",
    "Qual a corelação das variáveis como fator sobrevivência? O método pearson (.corr) foi utilizado para demonstrar a \n",
    "dependencia entre elas. O valor pode variar entre 0 e 1, tanto negativo quanto positivo.\n",
    "Espera-se um grau de correlação superior a 0.5 para demonstrar uma correlação de moderada a muito forte.\n",
    "    "
   ]
  },
  {
   "cell_type": "code",
   "execution_count": 13,
   "metadata": {
    "collapsed": false
   },
   "outputs": [
    {
     "data": {
      "text/html": [
       "<div>\n",
       "<table border=\"1\" class=\"dataframe\">\n",
       "  <thead>\n",
       "    <tr style=\"text-align: right;\">\n",
       "      <th></th>\n",
       "      <th>Survived</th>\n",
       "      <th>Pclass</th>\n",
       "      <th>Sex</th>\n",
       "      <th>Age</th>\n",
       "      <th>Fare</th>\n",
       "      <th>Family</th>\n",
       "    </tr>\n",
       "  </thead>\n",
       "  <tbody>\n",
       "    <tr>\n",
       "      <th>Survived</th>\n",
       "      <td>1.000000</td>\n",
       "      <td>-0.338481</td>\n",
       "      <td>-0.543351</td>\n",
       "      <td>-0.069809</td>\n",
       "      <td>0.257307</td>\n",
       "      <td>0.016639</td>\n",
       "    </tr>\n",
       "    <tr>\n",
       "      <th>Pclass</th>\n",
       "      <td>-0.338481</td>\n",
       "      <td>1.000000</td>\n",
       "      <td>0.131900</td>\n",
       "      <td>-0.331339</td>\n",
       "      <td>-0.549500</td>\n",
       "      <td>0.065997</td>\n",
       "    </tr>\n",
       "    <tr>\n",
       "      <th>Sex</th>\n",
       "      <td>-0.543351</td>\n",
       "      <td>0.131900</td>\n",
       "      <td>1.000000</td>\n",
       "      <td>0.084153</td>\n",
       "      <td>-0.182333</td>\n",
       "      <td>-0.200988</td>\n",
       "    </tr>\n",
       "    <tr>\n",
       "      <th>Age</th>\n",
       "      <td>-0.069809</td>\n",
       "      <td>-0.331339</td>\n",
       "      <td>0.084153</td>\n",
       "      <td>1.000000</td>\n",
       "      <td>0.091566</td>\n",
       "      <td>-0.248512</td>\n",
       "    </tr>\n",
       "    <tr>\n",
       "      <th>Fare</th>\n",
       "      <td>0.257307</td>\n",
       "      <td>-0.549500</td>\n",
       "      <td>-0.182333</td>\n",
       "      <td>0.091566</td>\n",
       "      <td>1.000000</td>\n",
       "      <td>0.217138</td>\n",
       "    </tr>\n",
       "    <tr>\n",
       "      <th>Family</th>\n",
       "      <td>0.016639</td>\n",
       "      <td>0.065997</td>\n",
       "      <td>-0.200988</td>\n",
       "      <td>-0.248512</td>\n",
       "      <td>0.217138</td>\n",
       "      <td>1.000000</td>\n",
       "    </tr>\n",
       "  </tbody>\n",
       "</table>\n",
       "</div>"
      ],
      "text/plain": [
       "          Survived    Pclass       Sex       Age      Fare    Family\n",
       "Survived  1.000000 -0.338481 -0.543351 -0.069809  0.257307  0.016639\n",
       "Pclass   -0.338481  1.000000  0.131900 -0.331339 -0.549500  0.065997\n",
       "Sex      -0.543351  0.131900  1.000000  0.084153 -0.182333 -0.200988\n",
       "Age      -0.069809 -0.331339  0.084153  1.000000  0.091566 -0.248512\n",
       "Fare      0.257307 -0.549500 -0.182333  0.091566  1.000000  0.217138\n",
       "Family    0.016639  0.065997 -0.200988 -0.248512  0.217138  1.000000"
      ]
     },
     "execution_count": 13,
     "metadata": {},
     "output_type": "execute_result"
    }
   ],
   "source": [
    "titanic_df.corr(method='pearson', min_periods=1)"
   ]
  },
  {
   "cell_type": "markdown",
   "metadata": {
    "collapsed": true
   },
   "source": [
    "Entre os valores demonstrados, Sex e Age são as variáveis mais correlacionadas com Survived."
   ]
  },
  {
   "cell_type": "markdown",
   "metadata": {
    "collapsed": true
   },
   "source": [
    "# Visualizando os dados"
   ]
  },
  {
   "cell_type": "code",
   "execution_count": 14,
   "metadata": {
    "collapsed": false
   },
   "outputs": [
    {
     "data": {
      "text/plain": [
       "<matplotlib.legend.Legend at 0xbb97c50>"
      ]
     },
     "execution_count": 14,
     "metadata": {},
     "output_type": "execute_result"
    },
    {
     "data": {
      "image/png": "[encoded data removed]",
      "text/plain": [
       "<matplotlib.figure.Figure at 0xba99080>"
      ]
     },
     "metadata": {},
     "output_type": "display_data"
    }
   ],
   "source": [
    "fig = plt.figure(figsize=(18,6), dpi=1600) \n",
    "\n",
    "# criando o subplot1 \n",
    "ax1 = plt.subplot(2,2,1)\n",
    "#Histogram da coluna Age\n",
    "titanic_df.Age.hist(bins=10) \n",
    "#Definindo o label de x - Age\n",
    "plt.xlabel(\"Age\")\n",
    "#Definindo o titulo do grafico\n",
    "plt.title(\"Histrogram Age, (bin=10)\")    \n",
    "\n",
    "# criando o subplot2 \n",
    "ax2 = plt.subplot(2,2,2)\n",
    "#Plotando o grafico de densidade da coluna Age\n",
    "titanic_df['Age'].plot(kind='kde', style='k--')\n",
    "#Definindo o label do eixo y\n",
    "plt.ylabel(\"Density\")\n",
    "#Definindo o label do eixo de x\n",
    "plt.xlabel(\"Age\")\n",
    "#Definindo o titulo do grafico\n",
    "plt.title(\"Density - Age\")\n",
    "\n",
    "# criando o subplot3\n",
    "ax3 = plt.subplot(2,2,(3,4))\n",
    "#plotando a densidade por classe\n",
    "titanic_df.Age[titanic_df.Pclass == 1].plot(kind='kde')    \n",
    "titanic_df.Age[titanic_df.Pclass == 2].plot(kind='kde')\n",
    "titanic_df.Age[titanic_df.Pclass == 3].plot(kind='kde')\n",
    "#Definindo o label do eixo de x\n",
    "plt.xlabel(\"Age\")  \n",
    "#Definindo o titulo do grafico\n",
    "plt.title(\"Distribuicao Age/Class\")\n",
    "#Definindo a legenda\n",
    "plt.legend(('1 Classe', '2 Classe','3 Classe'),loc='best') "
   ]
  },
  {
   "cell_type": "markdown",
   "metadata": {
    "collapsed": false
   },
   "source": [
    "### Com os dados preparados, começa a pesquisa para descobrir se uma mulher de 32 anos está na faixa média dos sobreviventes"
   ]
  },
  {
   "cell_type": "code",
   "execution_count": 15,
   "metadata": {
    "collapsed": false
   },
   "outputs": [
    {
     "data": {
      "text/plain": [
       "<matplotlib.legend.Legend at 0xba89320>"
      ]
     },
     "execution_count": 15,
     "metadata": {},
     "output_type": "execute_result"
    },
    {
     "data": {
      "image/png": "[encoded data removed]",
      "text/plain": [
       "<matplotlib.figure.Figure at 0xba89710>"
      ]
     },
     "metadata": {},
     "output_type": "display_data"
    }
   ],
   "source": [
    "# Agrupa os dados por idade media dos sobreviventes por classe\n",
    "survived_yes = titanic_df[titanic_df['Survived']==1]\n",
    "survived_no = titanic_df[titanic_df['Survived']==0]\n",
    "grouped_yes = survived_yes.groupby(['Pclass','Sex']).mean()['Age'].unstack()\n",
    "\n",
    "#Imprime informações dos sobreviventes\n",
    "grouped_yes.plot(kind='bar')\n",
    "#formata configurações do grafico\n",
    "plt.xlabel(\"Classe\")\n",
    "plt.ylabel('Idade')\n",
    "plt.title(\"Idade media dos sobreviventes\")   \n",
    "plt.legend(('Mulheres', 'Homens'),loc='best') "
   ]
  },
  {
   "cell_type": "code",
   "execution_count": 16,
   "metadata": {
    "collapsed": false
   },
   "outputs": [
    {
     "data": {
      "text/html": [
       "<div>\n",
       "<table border=\"1\" class=\"dataframe\">\n",
       "  <thead>\n",
       "    <tr style=\"text-align: right;\">\n",
       "      <th>Sex</th>\n",
       "      <th>0</th>\n",
       "      <th>1</th>\n",
       "    </tr>\n",
       "    <tr>\n",
       "      <th>Pclass</th>\n",
       "      <th></th>\n",
       "      <th></th>\n",
       "    </tr>\n",
       "  </thead>\n",
       "  <tbody>\n",
       "    <tr>\n",
       "      <th>1</th>\n",
       "      <td>34.420792</td>\n",
       "      <td>35.520346</td>\n",
       "    </tr>\n",
       "    <tr>\n",
       "      <th>2</th>\n",
       "      <td>28.127118</td>\n",
       "      <td>17.631073</td>\n",
       "    </tr>\n",
       "    <tr>\n",
       "      <th>3</th>\n",
       "      <td>22.930249</td>\n",
       "      <td>23.696001</td>\n",
       "    </tr>\n",
       "  </tbody>\n",
       "</table>\n",
       "</div>"
      ],
      "text/plain": [
       "Sex             0          1\n",
       "Pclass                      \n",
       "1       34.420792  35.520346\n",
       "2       28.127118  17.631073\n",
       "3       22.930249  23.696001"
      ]
     },
     "execution_count": 16,
     "metadata": {},
     "output_type": "execute_result"
    }
   ],
   "source": [
    "grouped_yes"
   ]
  },
  {
   "cell_type": "markdown",
   "metadata": {},
   "source": [
    "As mulheres na 2º classe que sobreviveram tinham uma media de idade de 28 anos. \n",
    "Mas a media pode ter sido influenciada por algum outlier\n",
    "Quantas mulheres de 32 sobreviveram? qual a classe?"
   ]
  },
  {
   "cell_type": "code",
   "execution_count": 17,
   "metadata": {
    "collapsed": false
   },
   "outputs": [
    {
     "data": {
      "text/html": [
       "<div>\n",
       "<table border=\"1\" class=\"dataframe\">\n",
       "  <thead>\n",
       "    <tr style=\"text-align: right;\">\n",
       "      <th></th>\n",
       "      <th>Survived</th>\n",
       "      <th>Pclass</th>\n",
       "      <th>Sex</th>\n",
       "      <th>Age</th>\n",
       "      <th>Fare</th>\n",
       "      <th>Family</th>\n",
       "    </tr>\n",
       "  </thead>\n",
       "  <tbody>\n",
       "    <tr>\n",
       "      <th>190</th>\n",
       "      <td>1</td>\n",
       "      <td>2</td>\n",
       "      <td>0</td>\n",
       "      <td>32.0</td>\n",
       "      <td>13.0000</td>\n",
       "      <td>0</td>\n",
       "    </tr>\n",
       "    <tr>\n",
       "      <th>218</th>\n",
       "      <td>1</td>\n",
       "      <td>1</td>\n",
       "      <td>0</td>\n",
       "      <td>32.0</td>\n",
       "      <td>76.2917</td>\n",
       "      <td>0</td>\n",
       "    </tr>\n",
       "    <tr>\n",
       "      <th>657</th>\n",
       "      <td>0</td>\n",
       "      <td>3</td>\n",
       "      <td>0</td>\n",
       "      <td>32.0</td>\n",
       "      <td>15.5000</td>\n",
       "      <td>2</td>\n",
       "    </tr>\n",
       "  </tbody>\n",
       "</table>\n",
       "</div>"
      ],
      "text/plain": [
       "     Survived  Pclass  Sex   Age     Fare  Family\n",
       "190         1       2    0  32.0  13.0000       0\n",
       "218         1       1    0  32.0  76.2917       0\n",
       "657         0       3    0  32.0  15.5000       2"
      ]
     },
     "execution_count": 17,
     "metadata": {},
     "output_type": "execute_result"
    }
   ],
   "source": [
    "#Pesquisando por mulheres com 32 anos idependente de ter sobrevivido ou da classe\n",
    "titanic_df[(titanic_df.Age==32) &\n",
    "          (titanic_df.Sex == 0 )]"
   ]
  },
  {
   "cell_type": "markdown",
   "metadata": {},
   "source": [
    "A estatistica está a meu favor:\n",
    "- 2 das 3 (66%) mulheres de 32 anos no Titanic sobreviveram\n",
    "- A única mulher de 32 anos na segunda classe sobreviveu =)"
   ]
  },
  {
   "cell_type": "code",
   "execution_count": 18,
   "metadata": {
    "collapsed": true
   },
   "outputs": [],
   "source": [
    "#Normaliza a idade. Qual o std de 32 anos?\n",
    "def std_feature(df):\n",
    "    #retorna o standard deviation do valor solicitado\n",
    "    return (df - df.mean()) / df.std(ddof=0)\n",
    "\n",
    "#Transforma os valores do titanic_df em seu desvio padrão\n",
    "titanic_std = survived_yes.apply(std_feature) \n",
    "#Apura o desvio padrao para 32 anos \n",
    "std_32 = (32 - survived_yes.Age.mean())/survived_yes.Age.std(ddof=0) "
   ]
  },
  {
   "cell_type": "markdown",
   "metadata": {},
   "source": [
    "Imprime o gráfico com o std de cada idade, destacando 32 anos"
   ]
  },
  {
   "cell_type": "code",
   "execution_count": 19,
   "metadata": {
    "collapsed": false
   },
   "outputs": [
    {
     "data": {
      "text/plain": [
       "<matplotlib.legend.Legend at 0xc420a90>"
      ]
     },
     "execution_count": 19,
     "metadata": {},
     "output_type": "execute_result"
    },
    {
     "data": {
      "image/png": "[encoded data removed]",
      "text/plain": [
       "<matplotlib.figure.Figure at 0xba73048>"
      ]
     },
     "metadata": {},
     "output_type": "display_data"
    }
   ],
   "source": [
    "#Imprime scatter plot do std/Age\n",
    "plt.scatter(titanic_std.Age, titanic_std.index, color='grey' )\n",
    "plt.scatter(std_32, 0, color='red' )\n",
    "\n",
    "#Configura gráfico\n",
    "plt.xlabel(\"Id\")\n",
    "plt.ylabel('STD - Idade')\n",
    "plt.title(\"Distribuicao do std/Age - sobreviventes\")   \n",
    "plt.legend(('Passageiros', 'Eu'),loc='best') "
   ]
  },
  {
   "cell_type": "markdown",
   "metadata": {},
   "source": [
    "Conforme visto através do método .describe(), existem outliers. \n",
    "Se existem outliers, qual a mediana das mulheres sobreviventes sobreviventes da 2º classe?"
   ]
  },
  {
   "cell_type": "code",
   "execution_count": 20,
   "metadata": {
    "collapsed": false
   },
   "outputs": [
    {
     "data": {
      "text/plain": [
       "Survived     1.0\n",
       "Pclass       2.0\n",
       "Sex          0.0\n",
       "Age         32.0\n",
       "Fare        13.0\n",
       "Family       0.0\n",
       "dtype: float64"
      ]
     },
     "execution_count": 20,
     "metadata": {},
     "output_type": "execute_result"
    }
   ],
   "source": [
    "#Pesquisa a mediana para registros com as características: Mulhere, na 2º classe, com 32 anos e que tenha sobrevivido\n",
    "titanic_df[(titanic_df.Age==32) &\n",
    "          (titanic_df.Sex == 0) &\n",
    "          (titanic_df.Pclass == 2)&\n",
    "          (titanic_df.Survived == 1)].median()"
   ]
  },
  {
   "cell_type": "markdown",
   "metadata": {
    "collapsed": true
   },
   "source": [
    "## <font color='Red'>Sim, eu teria sobrevivido.</font>"
   ]
  },
  {
   "cell_type": "markdown",
   "metadata": {
    "collapsed": true
   },
   "source": [
    "## Prevendo o resultado"
   ]
  },
  {
   "cell_type": "code",
   "execution_count": 22,
   "metadata": {
    "collapsed": false
   },
   "outputs": [],
   "source": [
    "aux_df = titanic_df.copy()\n",
    "#X recebe todos os valores do dataset menos a coluna Survived que será usada na comparação y\n",
    "X = aux_df.drop(['Survived'], axis=1).values\n",
    "#y recebe os valores da coluna Survived\n",
    "y = aux_df['Survived'].values\n",
    "\n",
    "#Divide as matrizes em teste e treino\n",
    "X_train, X_test, y_train, y_test = model_selection.train_test_split(X,y,test_size=0.2)"
   ]
  },
  {
   "cell_type": "code",
   "execution_count": 23,
   "metadata": {
    "collapsed": false
   },
   "outputs": [
    {
     "data": {
      "text/plain": [
       "DecisionTreeClassifier(class_weight=None, criterion='gini', max_depth=10,\n",
       "            max_features=None, max_leaf_nodes=None,\n",
       "            min_impurity_split=1e-07, min_samples_leaf=1,\n",
       "            min_samples_split=2, min_weight_fraction_leaf=0.0,\n",
       "            presort=False, random_state=None, splitter='best')"
      ]
     },
     "execution_count": 23,
     "metadata": {},
     "output_type": "execute_result"
    }
   ],
   "source": [
    "decision_tree = tree.DecisionTreeClassifier(max_depth=10)\n",
    "#cria a arvore de decisão \n",
    "decision_tree.fit(X_train, y_train)"
   ]
  },
  {
   "cell_type": "code",
   "execution_count": 24,
   "metadata": {
    "collapsed": false
   },
   "outputs": [
    {
     "data": {
      "text/plain": [
       "0.82681564245810057"
      ]
     },
     "execution_count": 24,
     "metadata": {},
     "output_type": "execute_result"
    }
   ],
   "source": [
    " # Acurácia média dos dados de teste\n",
    "decision_tree.score (X_test, y_test)"
   ]
  },
  {
   "cell_type": "markdown",
   "metadata": {},
   "source": [
    "Percentual de acurácia da árvore de decisão: 85%"
   ]
  },
  {
   "cell_type": "code",
   "execution_count": 25,
   "metadata": {
    "collapsed": false
   },
   "outputs": [],
   "source": [
    "#Gera a representação GraphViz da decision tree. O dado é gravado no arquivo titanic_tree.dot\n",
    "#Os dados podem ser visualizados graficamente em http://www.webgraphviz.com/\n",
    "tree.export_graphviz(decision_tree, out_file='titanic_tree.dot')"
   ]
  },
  {
   "cell_type": "markdown",
   "metadata": {},
   "source": [
    "O arquivo 'titanic_tree.dot' está no github: https://github.com/liebycardoso/Intro_Data_Analysis"
   ]
  },
  {
   "cell_type": "markdown",
   "metadata": {},
   "source": [
    "A fim de facilitar a visualização, foi gerado a representação GraphViz da decision tree com max_depth=2. Nos testes foi utilizado max_depth=10.   \n",
    "\n",
    "![alt text](Tree_depth2.jpg \"tree\")"
   ]
  },
  {
   "cell_type": "code",
   "execution_count": 26,
   "metadata": {
    "collapsed": false
   },
   "outputs": [],
   "source": [
    "#cria o objeto Random Forest\n",
    "random_forest = RandomForestClassifier(n_estimators=100,oob_score=True)\n",
    "#Treina o modelo de dados\n",
    "random_forest.fit(X_train, y_train)\n",
    "\n",
    "#Prediz o resultado\n",
    "Y_pred = random_forest.predict(X_test)"
   ]
  },
  {
   "cell_type": "code",
   "execution_count": 27,
   "metadata": {
    "collapsed": false
   },
   "outputs": [
    {
     "data": {
      "text/plain": [
       "0.9803370786516854"
      ]
     },
     "execution_count": 27,
     "metadata": {},
     "output_type": "execute_result"
    }
   ],
   "source": [
    "#Verifica a precisao do modelo.\n",
    "random_forest.score(X_train, y_train)"
   ]
  },
  {
   "cell_type": "markdown",
   "metadata": {
    "collapsed": true
   },
   "source": [
    "Neste caso é possível prever a sobrevivência com 98% de precisao"
   ]
  },
  {
   "cell_type": "code",
   "execution_count": 28,
   "metadata": {
    "collapsed": false
   },
   "outputs": [
    {
     "data": {
      "text/plain": [
       "0.797752808988764"
      ]
     },
     "execution_count": 28,
     "metadata": {},
     "output_type": "execute_result"
    }
   ],
   "source": [
    "#Acuracia do resultado do modelo.82 da variável dependente pode ser explicada pelos features\n",
    "random_forest.oob_score_"
   ]
  },
  {
   "cell_type": "markdown",
   "metadata": {},
   "source": [
    "De acordo com o modelo utilizado, ranking de contribuição das colunas no resultado. "
   ]
  },
  {
   "cell_type": "code",
   "execution_count": 36,
   "metadata": {
    "collapsed": false
   },
   "outputs": [
    {
     "data": {
      "text/plain": [
       "Pclass    0.099067\n",
       "Sex       0.274465\n",
       "Age       0.270015\n",
       "Fare      0.289414\n",
       "Family    0.067039\n",
       "dtype: float64"
      ]
     },
     "execution_count": 36,
     "metadata": {},
     "output_type": "execute_result"
    }
   ],
   "source": [
    "feat_import = pd.Series(random_forest.feature_importances_, index=aux_df.drop(['Survived'], axis=1).columns)\n",
    "feat_import.sort_values()\n",
    "feat_import"
   ]
  },
  {
   "cell_type": "markdown",
   "metadata": {},
   "source": [
    "### BIBLIOGRAFIA\n",
    "\n",
    "- Wes McKinney; Python for Data Analysis: Data Wrangling with Pandas, NumPy, and IPython\n",
    "\n",
    "Sites consultados:\n",
    "- http://blog.socialcops.com/engineering/machine-learning-python\n",
    "- http://developers.hekima.com/machine%20learning/python/2016/05/17/churn-prediction/\n",
    "- http://hamelg.blogspot.com.br/2015/11/python-for-data-analysis-part-14.html\n",
    "- http://nbviewer.jupyter.org/github/agconti/US_Dollar_Vehicle_Currency/blob/master/US_Dollar_Vehicle_Currency.ipynb\n",
    "- http://nbviewer.jupyter.org/github/jrjohansson/scientific-python-lectures/blob/master/Lecture-4-Matplotlib.ipynb\n",
    "- http://scott.fortmann-roe.com/docs/BiasVariance.html\n",
    "- http://stackoverflow.com/questions/36288352/how-to-get-pandas-kde-density-with-horizontal-orientation\n",
    "- http://work.caltech.edu/library/014.html\n",
    "- http://work.caltech.edu/library/index.html\n",
    "- http://www.r2d3.us/visual-intro-to-machine-learning-part-1/\n",
    "- http://www.reshamsarkar.com/projects/2016/3/30/titanic-trauma-data-cleaning-and-munging\n",
    "- http://www.ultravioletanalytics.com/2014/11/03/kaggle-titanic-competition-part-ii-missing-values/\n",
    "- https://github.com/agconti/kaggle-titanic/blob/master/Titanic.ipynb\n",
    "- https://github.com/justmarkham/scikit-learn-videos\n",
    "- https://www.dataquest.io/mission/3/list-operations\n",
    "- https://www.kaggle.com/c/titanic\n",
    "- https://www.youtube.com/watch?v=0GrciaGYzV0\n"
   ]
  },
  {
   "cell_type": "code",
   "execution_count": null,
   "metadata": {
    "collapsed": true
   },
   "outputs": [],
   "source": []
  }
 ],
 "metadata": {
  "anaconda-cloud": {},
  "kernelspec": {
   "display_name": "Python [Root]",
   "language": "python",
   "name": "Python [Root]"
  },
  "language_info": {
   "codemirror_mode": {
    "name": "ipython",
    "version": 2
   },
   "file_extension": ".py",
   "mimetype": "text/x-python",
   "name": "python",
   "nbconvert_exporter": "python",
   "pygments_lexer": "ipython2",
   "version": "2.7.11"
  }
 },
 "nbformat": 4,
 "nbformat_minor": 0
}
