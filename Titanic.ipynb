{
 "cells": [
  {
   "cell_type": "markdown",
   "metadata": {},
   "source": [
    "# <font color='DarkSlateBlue'>Udacity - Intro Data Analysis</font>\n",
    "## <font color='NavyBlue'>Titanic Data</font>"
   ]
  },
  {
   "cell_type": "markdown",
   "metadata": {},
   "source": [
    "__ \"O Titanic foi pensado para ser o navio mais luxuoso e mais seguro de sua época, gerando lendas que era supostamente \"inafundável\".\" __ \n",
    "\n",
    "A viagem que cuminou com o naufrágio do RMS Titanic teve inicio em Southampton/Reino Unido em 10/04/1912, passando por Cherbourg-Octeville/França e por Queenstown/Irlanda. No dia 14 de abril ele colidiu com um iceberg e afundou, na madrugada seguinte, com mais 1500 pessoas a bordo.\n",
    "\n",
    "Um fato curioso, que pode nos auxiliar na análise de dados, foi que durante a evacuação dos passageiros o capitão Smith dirigiu-se para dois oficiais (Lightoller e Murdoch)  e disse: \"coloque as mulheres e crianças e abaixe-os\". Os dois interpretaram a ordem de forma diferente, sendo que Ligthtoller entendeu que somente podiam embarcar mulheres e crianças e quando não havia ninguém desse grupo, ele lançava os botes vazios. Murdoch permitia que homens embarcassem depois das mulheres e crianças. Por não saberem o total de pessoas que o bote suportava, vários foram lançados com metade de sua capacidade sem utilização.\n",
    "\n",
    "Fonte: https://pt.wikipedia.org/wiki/RMS_Titanic"
   ]
  },
  {
   "cell_type": "markdown",
   "metadata": {},
   "source": [
    "### Questões que irão guiar a análise:\n",
    "\n",
    "1. Sabendo que houve esse mal entendido na distribuição dos passageiros por botes, a fonte de dados titanic.cvs nos fornece alguma informação que reflete esse mal entendido entre os oficiais?\n",
    "2. Mulheres e crianças tiveram maior chance de sobreviver?\n",
    "3. A classe, foi um fator importante para a sobrevivência? \n",
    "4. E a pergunta me faço é se eu estivesse lá, mulher, jovem adulta, na 2º classe é provável que teria sobrevivido?"
   ]
  },
  {
   "cell_type": "markdown",
   "metadata": {},
   "source": [
    "Chega de dúvidas, vamos iniciar a análise dos dados!"
   ]
  },
  {
   "cell_type": "markdown",
   "metadata": {},
   "source": [
    "## Preparando o ambiente: Importando as bibliotecas e os dados"
   ]
  },
  {
   "cell_type": "code",
   "execution_count": 1,
   "metadata": {
    "collapsed": true
   },
   "outputs": [],
   "source": [
    "#importando as bibliotecas\n",
    "import matplotlib.pyplot as plt\n",
    "%matplotlib inline\n",
    "import seaborn as sb\n",
    "import pandas as pd\n",
    "import numpy as np"
   ]
  },
  {
   "cell_type": "code",
   "execution_count": 2,
   "metadata": {
    "collapsed": false
   },
   "outputs": [],
   "source": [
    "#Machine learning\n",
    "from sklearn.ensemble import RandomForestClassifier\n",
    "from sklearn import  model_selection, tree, preprocessing, metrics"
   ]
  },
  {
   "cell_type": "code",
   "execution_count": 3,
   "metadata": {
    "collapsed": true
   },
   "outputs": [],
   "source": [
    "filename = 'C:/Nanodegree/Intro_Data_Analys/titanic_data.csv'\n",
    "titanic_df = pd.read_csv(filename, header=0)"
   ]
  },
  {
   "cell_type": "code",
   "execution_count": 4,
   "metadata": {
    "collapsed": false
   },
   "outputs": [
    {
     "data": {
      "text/html": [
       "<div>\n",
       "<table border=\"1\" class=\"dataframe\">\n",
       "  <thead>\n",
       "    <tr style=\"text-align: right;\">\n",
       "      <th></th>\n",
       "      <th>PassengerId</th>\n",
       "      <th>Survived</th>\n",
       "      <th>Pclass</th>\n",
       "      <th>Name</th>\n",
       "      <th>Sex</th>\n",
       "      <th>Age</th>\n",
       "      <th>SibSp</th>\n",
       "      <th>Parch</th>\n",
       "      <th>Ticket</th>\n",
       "      <th>Fare</th>\n",
       "      <th>Cabin</th>\n",
       "      <th>Embarked</th>\n",
       "    </tr>\n",
       "  </thead>\n",
       "  <tbody>\n",
       "    <tr>\n",
       "      <th>0</th>\n",
       "      <td>1</td>\n",
       "      <td>0</td>\n",
       "      <td>3</td>\n",
       "      <td>Braund, Mr. Owen Harris</td>\n",
       "      <td>male</td>\n",
       "      <td>22.0</td>\n",
       "      <td>1</td>\n",
       "      <td>0</td>\n",
       "      <td>A/5 21171</td>\n",
       "      <td>7.2500</td>\n",
       "      <td>NaN</td>\n",
       "      <td>S</td>\n",
       "    </tr>\n",
       "    <tr>\n",
       "      <th>1</th>\n",
       "      <td>2</td>\n",
       "      <td>1</td>\n",
       "      <td>1</td>\n",
       "      <td>Cumings, Mrs. John Bradley (Florence Briggs Th...</td>\n",
       "      <td>female</td>\n",
       "      <td>38.0</td>\n",
       "      <td>1</td>\n",
       "      <td>0</td>\n",
       "      <td>PC 17599</td>\n",
       "      <td>71.2833</td>\n",
       "      <td>C85</td>\n",
       "      <td>C</td>\n",
       "    </tr>\n",
       "    <tr>\n",
       "      <th>2</th>\n",
       "      <td>3</td>\n",
       "      <td>1</td>\n",
       "      <td>3</td>\n",
       "      <td>Heikkinen, Miss. Laina</td>\n",
       "      <td>female</td>\n",
       "      <td>26.0</td>\n",
       "      <td>0</td>\n",
       "      <td>0</td>\n",
       "      <td>STON/O2. 3101282</td>\n",
       "      <td>7.9250</td>\n",
       "      <td>NaN</td>\n",
       "      <td>S</td>\n",
       "    </tr>\n",
       "    <tr>\n",
       "      <th>3</th>\n",
       "      <td>4</td>\n",
       "      <td>1</td>\n",
       "      <td>1</td>\n",
       "      <td>Futrelle, Mrs. Jacques Heath (Lily May Peel)</td>\n",
       "      <td>female</td>\n",
       "      <td>35.0</td>\n",
       "      <td>1</td>\n",
       "      <td>0</td>\n",
       "      <td>113803</td>\n",
       "      <td>53.1000</td>\n",
       "      <td>C123</td>\n",
       "      <td>S</td>\n",
       "    </tr>\n",
       "    <tr>\n",
       "      <th>4</th>\n",
       "      <td>5</td>\n",
       "      <td>0</td>\n",
       "      <td>3</td>\n",
       "      <td>Allen, Mr. William Henry</td>\n",
       "      <td>male</td>\n",
       "      <td>35.0</td>\n",
       "      <td>0</td>\n",
       "      <td>0</td>\n",
       "      <td>373450</td>\n",
       "      <td>8.0500</td>\n",
       "      <td>NaN</td>\n",
       "      <td>S</td>\n",
       "    </tr>\n",
       "    <tr>\n",
       "      <th>5</th>\n",
       "      <td>6</td>\n",
       "      <td>0</td>\n",
       "      <td>3</td>\n",
       "      <td>Moran, Mr. James</td>\n",
       "      <td>male</td>\n",
       "      <td>NaN</td>\n",
       "      <td>0</td>\n",
       "      <td>0</td>\n",
       "      <td>330877</td>\n",
       "      <td>8.4583</td>\n",
       "      <td>NaN</td>\n",
       "      <td>Q</td>\n",
       "    </tr>\n",
       "    <tr>\n",
       "      <th>6</th>\n",
       "      <td>7</td>\n",
       "      <td>0</td>\n",
       "      <td>1</td>\n",
       "      <td>McCarthy, Mr. Timothy J</td>\n",
       "      <td>male</td>\n",
       "      <td>54.0</td>\n",
       "      <td>0</td>\n",
       "      <td>0</td>\n",
       "      <td>17463</td>\n",
       "      <td>51.8625</td>\n",
       "      <td>E46</td>\n",
       "      <td>S</td>\n",
       "    </tr>\n",
       "    <tr>\n",
       "      <th>7</th>\n",
       "      <td>8</td>\n",
       "      <td>0</td>\n",
       "      <td>3</td>\n",
       "      <td>Palsson, Master. Gosta Leonard</td>\n",
       "      <td>male</td>\n",
       "      <td>2.0</td>\n",
       "      <td>3</td>\n",
       "      <td>1</td>\n",
       "      <td>349909</td>\n",
       "      <td>21.0750</td>\n",
       "      <td>NaN</td>\n",
       "      <td>S</td>\n",
       "    </tr>\n",
       "    <tr>\n",
       "      <th>8</th>\n",
       "      <td>9</td>\n",
       "      <td>1</td>\n",
       "      <td>3</td>\n",
       "      <td>Johnson, Mrs. Oscar W (Elisabeth Vilhelmina Berg)</td>\n",
       "      <td>female</td>\n",
       "      <td>27.0</td>\n",
       "      <td>0</td>\n",
       "      <td>2</td>\n",
       "      <td>347742</td>\n",
       "      <td>11.1333</td>\n",
       "      <td>NaN</td>\n",
       "      <td>S</td>\n",
       "    </tr>\n",
       "    <tr>\n",
       "      <th>9</th>\n",
       "      <td>10</td>\n",
       "      <td>1</td>\n",
       "      <td>2</td>\n",
       "      <td>Nasser, Mrs. Nicholas (Adele Achem)</td>\n",
       "      <td>female</td>\n",
       "      <td>14.0</td>\n",
       "      <td>1</td>\n",
       "      <td>0</td>\n",
       "      <td>237736</td>\n",
       "      <td>30.0708</td>\n",
       "      <td>NaN</td>\n",
       "      <td>C</td>\n",
       "    </tr>\n",
       "    <tr>\n",
       "      <th>10</th>\n",
       "      <td>11</td>\n",
       "      <td>1</td>\n",
       "      <td>3</td>\n",
       "      <td>Sandstrom, Miss. Marguerite Rut</td>\n",
       "      <td>female</td>\n",
       "      <td>4.0</td>\n",
       "      <td>1</td>\n",
       "      <td>1</td>\n",
       "      <td>PP 9549</td>\n",
       "      <td>16.7000</td>\n",
       "      <td>G6</td>\n",
       "      <td>S</td>\n",
       "    </tr>\n",
       "    <tr>\n",
       "      <th>11</th>\n",
       "      <td>12</td>\n",
       "      <td>1</td>\n",
       "      <td>1</td>\n",
       "      <td>Bonnell, Miss. Elizabeth</td>\n",
       "      <td>female</td>\n",
       "      <td>58.0</td>\n",
       "      <td>0</td>\n",
       "      <td>0</td>\n",
       "      <td>113783</td>\n",
       "      <td>26.5500</td>\n",
       "      <td>C103</td>\n",
       "      <td>S</td>\n",
       "    </tr>\n",
       "    <tr>\n",
       "      <th>12</th>\n",
       "      <td>13</td>\n",
       "      <td>0</td>\n",
       "      <td>3</td>\n",
       "      <td>Saundercock, Mr. William Henry</td>\n",
       "      <td>male</td>\n",
       "      <td>20.0</td>\n",
       "      <td>0</td>\n",
       "      <td>0</td>\n",
       "      <td>A/5. 2151</td>\n",
       "      <td>8.0500</td>\n",
       "      <td>NaN</td>\n",
       "      <td>S</td>\n",
       "    </tr>\n",
       "    <tr>\n",
       "      <th>13</th>\n",
       "      <td>14</td>\n",
       "      <td>0</td>\n",
       "      <td>3</td>\n",
       "      <td>Andersson, Mr. Anders Johan</td>\n",
       "      <td>male</td>\n",
       "      <td>39.0</td>\n",
       "      <td>1</td>\n",
       "      <td>5</td>\n",
       "      <td>347082</td>\n",
       "      <td>31.2750</td>\n",
       "      <td>NaN</td>\n",
       "      <td>S</td>\n",
       "    </tr>\n",
       "    <tr>\n",
       "      <th>14</th>\n",
       "      <td>15</td>\n",
       "      <td>0</td>\n",
       "      <td>3</td>\n",
       "      <td>Vestrom, Miss. Hulda Amanda Adolfina</td>\n",
       "      <td>female</td>\n",
       "      <td>14.0</td>\n",
       "      <td>0</td>\n",
       "      <td>0</td>\n",
       "      <td>350406</td>\n",
       "      <td>7.8542</td>\n",
       "      <td>NaN</td>\n",
       "      <td>S</td>\n",
       "    </tr>\n",
       "  </tbody>\n",
       "</table>\n",
       "</div>"
      ],
      "text/plain": [
       "    PassengerId  Survived  Pclass  \\\n",
       "0             1         0       3   \n",
       "1             2         1       1   \n",
       "2             3         1       3   \n",
       "3             4         1       1   \n",
       "4             5         0       3   \n",
       "5             6         0       3   \n",
       "6             7         0       1   \n",
       "7             8         0       3   \n",
       "8             9         1       3   \n",
       "9            10         1       2   \n",
       "10           11         1       3   \n",
       "11           12         1       1   \n",
       "12           13         0       3   \n",
       "13           14         0       3   \n",
       "14           15         0       3   \n",
       "\n",
       "                                                 Name     Sex   Age  SibSp  \\\n",
       "0                             Braund, Mr. Owen Harris    male  22.0      1   \n",
       "1   Cumings, Mrs. John Bradley (Florence Briggs Th...  female  38.0      1   \n",
       "2                              Heikkinen, Miss. Laina  female  26.0      0   \n",
       "3        Futrelle, Mrs. Jacques Heath (Lily May Peel)  female  35.0      1   \n",
       "4                            Allen, Mr. William Henry    male  35.0      0   \n",
       "5                                    Moran, Mr. James    male   NaN      0   \n",
       "6                             McCarthy, Mr. Timothy J    male  54.0      0   \n",
       "7                      Palsson, Master. Gosta Leonard    male   2.0      3   \n",
       "8   Johnson, Mrs. Oscar W (Elisabeth Vilhelmina Berg)  female  27.0      0   \n",
       "9                 Nasser, Mrs. Nicholas (Adele Achem)  female  14.0      1   \n",
       "10                    Sandstrom, Miss. Marguerite Rut  female   4.0      1   \n",
       "11                           Bonnell, Miss. Elizabeth  female  58.0      0   \n",
       "12                     Saundercock, Mr. William Henry    male  20.0      0   \n",
       "13                        Andersson, Mr. Anders Johan    male  39.0      1   \n",
       "14               Vestrom, Miss. Hulda Amanda Adolfina  female  14.0      0   \n",
       "\n",
       "    Parch            Ticket     Fare Cabin Embarked  \n",
       "0       0         A/5 21171   7.2500   NaN        S  \n",
       "1       0          PC 17599  71.2833   C85        C  \n",
       "2       0  STON/O2. 3101282   7.9250   NaN        S  \n",
       "3       0            113803  53.1000  C123        S  \n",
       "4       0            373450   8.0500   NaN        S  \n",
       "5       0            330877   8.4583   NaN        Q  \n",
       "6       0             17463  51.8625   E46        S  \n",
       "7       1            349909  21.0750   NaN        S  \n",
       "8       2            347742  11.1333   NaN        S  \n",
       "9       0            237736  30.0708   NaN        C  \n",
       "10      1           PP 9549  16.7000    G6        S  \n",
       "11      0            113783  26.5500  C103        S  \n",
       "12      0         A/5. 2151   8.0500   NaN        S  \n",
       "13      5            347082  31.2750   NaN        S  \n",
       "14      0            350406   7.8542   NaN        S  "
      ]
     },
     "execution_count": 4,
     "metadata": {},
     "output_type": "execute_result"
    }
   ],
   "source": [
    "titanic_df.head(15)"
   ]
  },
  {
   "cell_type": "markdown",
   "metadata": {},
   "source": [
    "## Trabalhando os dados\n",
    "\n",
    "Nesta fase vamos fazer uma faxina nos dados e retirar tudo que possa interferir no resultado da análise e da predição de dados.\n",
    "Como tudo, você pode considerar valores nulos, colunas com muitos valores nulos, colunas com informações que não pertinentes para o foco do análise, valores muito acima ou abaixo da média e valores zerados.\n",
    "Os números e a decisão de manter ou não um dado será demonstrado nesta seção."
   ]
  },
  {
   "cell_type": "markdown",
   "metadata": {},
   "source": [
    "**Conhecendo melhor as colunas do dataset:**\n",
    "- Embarked: Porto de embarque (C = Cherbourg; Q = Queenstown; S = Southampton)\n",
    "- Parch: Número de pais e filhos a bordo\n",
    "- Pclass: Classe que o passageiro embarcou (1 = 1º classe; 2 = 2º classe; 3 = 3º classe)\n",
    "- Sex: Gênero feminino (female) ou male (masculino)\n",
    "- Sibsp: Numero de irmãos e esposa a bordo\n",
    "- Survived: 0 - Não sobreviveu e 1 = sobreviveu\n",
    "\n",
    "\n",
    "Pelas questões que foram levantandas vamos assumir que as variáveis que devem ser investigadas mais afundo são:\n",
    "- Idade\n",
    "- Sexo\n",
    "- Acompanhantes: SibSp + Parch\n",
    "- Classe"
   ]
  },
  {
   "cell_type": "code",
   "execution_count": 5,
   "metadata": {
    "collapsed": false
   },
   "outputs": [
    {
     "data": {
      "text/plain": [
       "PassengerId      int64\n",
       "Survived         int64\n",
       "Pclass           int64\n",
       "Name            object\n",
       "Sex             object\n",
       "Age            float64\n",
       "SibSp            int64\n",
       "Parch            int64\n",
       "Ticket          object\n",
       "Fare           float64\n",
       "Cabin           object\n",
       "Embarked        object\n",
       "dtype: object"
      ]
     },
     "execution_count": 5,
     "metadata": {},
     "output_type": "execute_result"
    }
   ],
   "source": [
    "# Verifica  o tipo dos dados criados\n",
    "titanic_df.dtypes"
   ]
  },
  {
   "cell_type": "markdown",
   "metadata": {
    "collapsed": false
   },
   "source": [
    "### Manipulando as variáveis"
   ]
  },
  {
   "cell_type": "markdown",
   "metadata": {
    "collapsed": false
   },
   "source": [
    "#### 1º Tipo de manipulação: Valores ausentes\n",
    "\n",
    "A existência de colunas com dados ausentes será verificada porque estas ausências podem interferir na análise. \n",
    "O tratamento do dado ausente levará em consideração o percentual (%) de ausências e a relevância da informação para a conclusão. \n",
    "\n",
    "Começaremos este processo identificando quais são as colunas com valores ausentes através da contagem dos valores existentes e divisão pelo total de linhas da coluna."
   ]
  },
  {
   "cell_type": "code",
   "execution_count": 7,
   "metadata": {
    "collapsed": false
   },
   "outputs": [
    {
     "data": {
      "text/plain": [
       "PassengerId     0.000000\n",
       "Survived        0.000000\n",
       "Pclass          0.000000\n",
       "Name            0.000000\n",
       "Sex             0.000000\n",
       "Age            19.865320\n",
       "SibSp           0.000000\n",
       "Parch           0.000000\n",
       "Ticket          0.000000\n",
       "Fare            0.000000\n",
       "Cabin          77.104377\n",
       "Embarked        0.224467\n",
       "dtype: float64"
      ]
     },
     "execution_count": 7,
     "metadata": {},
     "output_type": "execute_result"
    }
   ],
   "source": [
    "((len(titanic_df) - titanic_df.count()) / len(titanic_df)) *100"
   ]
  },
  {
   "cell_type": "markdown",
   "metadata": {},
   "source": [
    "** Valores ausentes: Age **"
   ]
  },
  {
   "cell_type": "markdown",
   "metadata": {},
   "source": [
    "20% dos dados da coluna Age estão ausentes. Sabemos que a idade foi um dos critérios de seleção que permitia o passageiro entrar ou não no bote salva vidas. Então, presumindo uma importância, não vou optar por excluir a coluna ou as linhas sem valores. Para este caso, uma boa estratégia será atribuir a média da coluna para em todos ausentes."
   ]
  },
  {
   "cell_type": "code",
   "execution_count": 8,
   "metadata": {
    "collapsed": false
   },
   "outputs": [
    {
     "data": {
      "text/plain": [
       "count    891.000000\n",
       "mean      23.799293\n",
       "std       17.596074\n",
       "min        0.000000\n",
       "25%        6.000000\n",
       "50%       24.000000\n",
       "75%       35.000000\n",
       "max       80.000000\n",
       "Name: Age, dtype: float64"
      ]
     },
     "execution_count": 8,
     "metadata": {},
     "output_type": "execute_result"
    }
   ],
   "source": [
    "titanic_df.Age.fillna(0).describe()"
   ]
  },
  {
   "cell_type": "markdown",
   "metadata": {},
   "source": [
    "Atribuindo a média da coluna em todas as células com valores NaN:"
   ]
  },
  {
   "cell_type": "code",
   "execution_count": 9,
   "metadata": {
    "collapsed": true
   },
   "outputs": [],
   "source": [
    "titanic_df.Age = titanic_df.Age.fillna(titanic_df.Age.mean())"
   ]
  },
  {
   "cell_type": "markdown",
   "metadata": {},
   "source": [
    "**Valores ausentes: Cabin**"
   ]
  },
  {
   "cell_type": "code",
   "execution_count": 10,
   "metadata": {
    "collapsed": false
   },
   "outputs": [
    {
     "data": {
      "text/plain": [
       "count             204\n",
       "unique            147\n",
       "top       C23 C25 C27\n",
       "freq                4\n",
       "Name: Cabin, dtype: object"
      ]
     },
     "execution_count": 10,
     "metadata": {},
     "output_type": "execute_result"
    }
   ],
   "source": [
    "titanic_df.Cabin.describe()"
   ]
  },
  {
   "cell_type": "markdown",
   "metadata": {},
   "source": [
    "* 77% da coluna é composta por valores nulos. Dos 204 valores existentes, 147 são únicos e os registros mais repetidos \n",
    "aparecem apenas 4 vezes. Como top foram listados os valores C23, C25, C27, todos eles são iniciados pela letra C, o que pode \n",
    "indicar a existência de um padrão na montagem do campo. Esta possibilidade não será investigada nesta análise, e o campo será \n",
    "excluído devido ao alto percentual de nulos."
   ]
  },
  {
   "cell_type": "markdown",
   "metadata": {},
   "source": [
    "** Valores ausentes: Embarked ** \n",
    "\n",
    "Embarked tem pouquíssimos valores ausentes (0.2%), nesse caso seria cabível até excluir estes registros, mas o porto onde o passageiro embarcou não tem relevância na ótica desta análise. Esta coluna será excluida por completo ao fim desta seção."
   ]
  },
  {
   "cell_type": "code",
   "execution_count": 11,
   "metadata": {
    "collapsed": false
   },
   "outputs": [
    {
     "data": {
      "text/plain": [
       "count     889\n",
       "unique      3\n",
       "top         S\n",
       "freq      644\n",
       "Name: Embarked, dtype: object"
      ]
     },
     "execution_count": 11,
     "metadata": {},
     "output_type": "execute_result"
    }
   ],
   "source": [
    "# Embarked tem valores nulos\n",
    "titanic_df.Embarked.describe()"
   ]
  },
  {
   "cell_type": "markdown",
   "metadata": {},
   "source": [
    "#### 2º Tipo de manipulação: Dados derivados \n",
    "\n",
    "Durante a análise pode ser necessário criar outros dados a partir dos existentes, esse recurso será usado sempre que for identificado um benefício em ver a informação sob outra perspectiva ou acessá-la mais facilmente.\n",
    "\n",
    "** Dados derivados: Acompanhantes (Family) **\n",
    "\n",
    "* As variáveis SibSp e Parch tem a mesma raiz de informação (total de acompanhantes), para facilitar a análise, será criada \n",
    "uma nova coluna derivada chamada Family que conterá o total de acompanhantes (SibSp + Parch). Estar acompanhado tem alguma importância para a sobrevivência? Ter toda a informação em uma só coluna facilitará a análise."
   ]
  },
  {
   "cell_type": "code",
   "execution_count": 12,
   "metadata": {
    "collapsed": true
   },
   "outputs": [],
   "source": [
    "# Cria a coluna Family\n",
    "titanic_df['Family'] = titanic_df['SibSp'] + titanic_df['Parch']"
   ]
  },
  {
   "cell_type": "markdown",
   "metadata": {},
   "source": [
    "** Dados derivados: Faixa etária (AgeRange) **"
   ]
  },
  {
   "cell_type": "markdown",
   "metadata": {},
   "source": [
    "A coluna AgeRange será criada para facilitar a análise da faixa etária sobrevivente. Apesar de ter 32 anos, expandirei a pesquisa para faixa etária para que a análise não fique tão pontual. "
   ]
  },
  {
   "cell_type": "code",
   "execution_count": 13,
   "metadata": {
    "collapsed": false
   },
   "outputs": [],
   "source": [
    "# Descobre a faixa etária baseado na idade do passageiro(Titanic_df.Age)\n",
    "def age_range(idade):\n",
    "    \"\"\" \n",
    "    Retorna a faixa etária para a idade informada.\n",
    "\n",
    "    Args:\n",
    "        idade: Valor número que representa a idade.\n",
    "    Returns:\n",
    "        Retorna uma string com a faixa etária identificada para idade.\n",
    "        Domínio de valores = Idoso, Adulto, Jovem Adulto, Adolescente e Crianca.\n",
    "    \"\"\"    \n",
    "    \n",
    "    if idade >= 65:\n",
    "        return 'Idoso'\n",
    "    elif idade >= 33:\n",
    "        return 'Adulto'\n",
    "    elif idade >= 18:\n",
    "        return 'Jovem Adulto'\n",
    "    elif idade >= 12:\n",
    "        return 'Adolescente'\n",
    "    else:\n",
    "        return 'Crianca'    "
   ]
  },
  {
   "cell_type": "code",
   "execution_count": 14,
   "metadata": {
    "collapsed": true
   },
   "outputs": [],
   "source": [
    "# Chama a função age_range passando como o parametro a coluna Age e atribui o resultado a nova coluna AgeRange\n",
    "titanic_df['AgeRange']= titanic_df.Age.apply(age_range) "
   ]
  },
  {
   "cell_type": "code",
   "execution_count": 15,
   "metadata": {
    "collapsed": false
   },
   "outputs": [
    {
     "data": {
      "text/plain": [
       "count              891\n",
       "unique               5\n",
       "top       Jovem Adulto\n",
       "freq               512\n",
       "Name: AgeRange, dtype: object"
      ]
     },
     "execution_count": 15,
     "metadata": {},
     "output_type": "execute_result"
    }
   ],
   "source": [
    "titanic_df.AgeRange.describe()"
   ]
  },
  {
   "cell_type": "markdown",
   "metadata": {},
   "source": [
    "O meu grupo \"Jovem Adulto\" é o mais frequente do conjunto de dados. Veja a distribuição dos dados:"
   ]
  },
  {
   "cell_type": "code",
   "execution_count": 16,
   "metadata": {
    "collapsed": false
   },
   "outputs": [
    {
     "data": {
      "text/plain": [
       "<matplotlib.axes._subplots.AxesSubplot at 0xb9eaac8>"
      ]
     },
     "execution_count": 16,
     "metadata": {},
     "output_type": "execute_result"
    },
    {
     "data": {
      "image/png": "[encoded data removed]",
      "text/plain": [
       "<matplotlib.figure.Figure at 0xb9eacf8>"
      ]
     },
     "metadata": {},
     "output_type": "display_data"
    }
   ],
   "source": [
    "# Imprime gráfico com o total de passageiros por faixa etária.\n",
    "titanic_df.groupby(['AgeRange']).size().plot()"
   ]
  },
  {
   "cell_type": "markdown",
   "metadata": {},
   "source": [
    "#### 3º Tipo de manipulação: Dados irrelevantes ou inadequados \n",
    "\n",
    "- Embarked, Ticket, PassengerId e Name são colunas irrelevantes para o contexto da análise. \n",
    "- Saber onde Nome do passageiro, ou seu número de identificação não irá interferir no tipo de análise que será feito.\n",
    "- Embarked e Ticket são variáveis que podem, em outra análise, serem aprofundadas. Isto não será realizado neste estudo."
   ]
  },
  {
   "cell_type": "markdown",
   "metadata": {},
   "source": [
    "O último passo da manipulação é excluir do conjunto de dados as variáveis consideradas irrelevantes ou inadequadas. SibSp e Parch serão excluídas porque o conteúdo delas está replicado na coluna Family."
   ]
  },
  {
   "cell_type": "code",
   "execution_count": 17,
   "metadata": {
    "collapsed": false,
    "scrolled": false
   },
   "outputs": [
    {
     "data": {
      "text/html": [
       "<div>\n",
       "<table border=\"1\" class=\"dataframe\">\n",
       "  <thead>\n",
       "    <tr style=\"text-align: right;\">\n",
       "      <th></th>\n",
       "      <th>Survived</th>\n",
       "      <th>Pclass</th>\n",
       "      <th>Sex</th>\n",
       "      <th>Age</th>\n",
       "      <th>Fare</th>\n",
       "      <th>Family</th>\n",
       "      <th>AgeRange</th>\n",
       "    </tr>\n",
       "  </thead>\n",
       "  <tbody>\n",
       "    <tr>\n",
       "      <th>0</th>\n",
       "      <td>0</td>\n",
       "      <td>3</td>\n",
       "      <td>male</td>\n",
       "      <td>22.0</td>\n",
       "      <td>7.2500</td>\n",
       "      <td>1</td>\n",
       "      <td>Jovem Adulto</td>\n",
       "    </tr>\n",
       "    <tr>\n",
       "      <th>1</th>\n",
       "      <td>1</td>\n",
       "      <td>1</td>\n",
       "      <td>female</td>\n",
       "      <td>38.0</td>\n",
       "      <td>71.2833</td>\n",
       "      <td>1</td>\n",
       "      <td>Adulto</td>\n",
       "    </tr>\n",
       "    <tr>\n",
       "      <th>2</th>\n",
       "      <td>1</td>\n",
       "      <td>3</td>\n",
       "      <td>female</td>\n",
       "      <td>26.0</td>\n",
       "      <td>7.9250</td>\n",
       "      <td>0</td>\n",
       "      <td>Jovem Adulto</td>\n",
       "    </tr>\n",
       "    <tr>\n",
       "      <th>3</th>\n",
       "      <td>1</td>\n",
       "      <td>1</td>\n",
       "      <td>female</td>\n",
       "      <td>35.0</td>\n",
       "      <td>53.1000</td>\n",
       "      <td>1</td>\n",
       "      <td>Adulto</td>\n",
       "    </tr>\n",
       "    <tr>\n",
       "      <th>4</th>\n",
       "      <td>0</td>\n",
       "      <td>3</td>\n",
       "      <td>male</td>\n",
       "      <td>35.0</td>\n",
       "      <td>8.0500</td>\n",
       "      <td>0</td>\n",
       "      <td>Adulto</td>\n",
       "    </tr>\n",
       "  </tbody>\n",
       "</table>\n",
       "</div>"
      ],
      "text/plain": [
       "   Survived  Pclass     Sex   Age     Fare  Family      AgeRange\n",
       "0         0       3    male  22.0   7.2500       1  Jovem Adulto\n",
       "1         1       1  female  38.0  71.2833       1        Adulto\n",
       "2         1       3  female  26.0   7.9250       0  Jovem Adulto\n",
       "3         1       1  female  35.0  53.1000       1        Adulto\n",
       "4         0       3    male  35.0   8.0500       0        Adulto"
      ]
     },
     "execution_count": 17,
     "metadata": {},
     "output_type": "execute_result"
    }
   ],
   "source": [
    "# Apaga as colunas\n",
    "titanic_df.drop(['PassengerId','SibSp', 'Parch', 'Cabin','Embarked', 'Ticket','Name'], axis=1, inplace=True)\n",
    "\n",
    "titanic_df.head()"
   ]
  },
  {
   "cell_type": "markdown",
   "metadata": {
    "collapsed": false
   },
   "source": [
    "## Sumário estatístico\n",
    "Aplicada aos valores numéricos\n",
    "\n",
    "- count: Total de elementos não nulos\n",
    "- mean: Média\n",
    "- std: Desvio Padrão\n",
    "- min: Maior valor da amostra\n",
    "- max: Menor valor da amostra\n",
    "- 25%: Quartil 1, corresponde a 25% da amostra\n",
    "- 50%: Quartil 2 ou mediana da amostra\n",
    "- 75%: Quartil 3, corresponde a % da amostra"
   ]
  },
  {
   "cell_type": "code",
   "execution_count": 18,
   "metadata": {
    "collapsed": false
   },
   "outputs": [
    {
     "data": {
      "text/html": [
       "<div>\n",
       "<table border=\"1\" class=\"dataframe\">\n",
       "  <thead>\n",
       "    <tr style=\"text-align: right;\">\n",
       "      <th></th>\n",
       "      <th>Survived</th>\n",
       "      <th>Pclass</th>\n",
       "      <th>Age</th>\n",
       "      <th>Fare</th>\n",
       "      <th>Family</th>\n",
       "    </tr>\n",
       "  </thead>\n",
       "  <tbody>\n",
       "    <tr>\n",
       "      <th>count</th>\n",
       "      <td>891.000000</td>\n",
       "      <td>891.000000</td>\n",
       "      <td>891.000000</td>\n",
       "      <td>891.000000</td>\n",
       "      <td>891.000000</td>\n",
       "    </tr>\n",
       "    <tr>\n",
       "      <th>mean</th>\n",
       "      <td>0.383838</td>\n",
       "      <td>2.308642</td>\n",
       "      <td>29.699118</td>\n",
       "      <td>32.204208</td>\n",
       "      <td>0.904602</td>\n",
       "    </tr>\n",
       "    <tr>\n",
       "      <th>std</th>\n",
       "      <td>0.486592</td>\n",
       "      <td>0.836071</td>\n",
       "      <td>13.002015</td>\n",
       "      <td>49.693429</td>\n",
       "      <td>1.613459</td>\n",
       "    </tr>\n",
       "    <tr>\n",
       "      <th>min</th>\n",
       "      <td>0.000000</td>\n",
       "      <td>1.000000</td>\n",
       "      <td>0.420000</td>\n",
       "      <td>0.000000</td>\n",
       "      <td>0.000000</td>\n",
       "    </tr>\n",
       "    <tr>\n",
       "      <th>25%</th>\n",
       "      <td>0.000000</td>\n",
       "      <td>2.000000</td>\n",
       "      <td>22.000000</td>\n",
       "      <td>7.910400</td>\n",
       "      <td>0.000000</td>\n",
       "    </tr>\n",
       "    <tr>\n",
       "      <th>50%</th>\n",
       "      <td>0.000000</td>\n",
       "      <td>3.000000</td>\n",
       "      <td>29.699118</td>\n",
       "      <td>14.454200</td>\n",
       "      <td>0.000000</td>\n",
       "    </tr>\n",
       "    <tr>\n",
       "      <th>75%</th>\n",
       "      <td>1.000000</td>\n",
       "      <td>3.000000</td>\n",
       "      <td>35.000000</td>\n",
       "      <td>31.000000</td>\n",
       "      <td>1.000000</td>\n",
       "    </tr>\n",
       "    <tr>\n",
       "      <th>max</th>\n",
       "      <td>1.000000</td>\n",
       "      <td>3.000000</td>\n",
       "      <td>80.000000</td>\n",
       "      <td>512.329200</td>\n",
       "      <td>10.000000</td>\n",
       "    </tr>\n",
       "  </tbody>\n",
       "</table>\n",
       "</div>"
      ],
      "text/plain": [
       "         Survived      Pclass         Age        Fare      Family\n",
       "count  891.000000  891.000000  891.000000  891.000000  891.000000\n",
       "mean     0.383838    2.308642   29.699118   32.204208    0.904602\n",
       "std      0.486592    0.836071   13.002015   49.693429    1.613459\n",
       "min      0.000000    1.000000    0.420000    0.000000    0.000000\n",
       "25%      0.000000    2.000000   22.000000    7.910400    0.000000\n",
       "50%      0.000000    3.000000   29.699118   14.454200    0.000000\n",
       "75%      1.000000    3.000000   35.000000   31.000000    1.000000\n",
       "max      1.000000    3.000000   80.000000  512.329200   10.000000"
      ]
     },
     "execution_count": 18,
     "metadata": {},
     "output_type": "execute_result"
    }
   ],
   "source": [
    "titanic_df.describe()"
   ]
  },
  {
   "cell_type": "markdown",
   "metadata": {
    "collapsed": false
   },
   "source": [
    "**Observações:**\n",
    "\n",
    "* Todas as linhas de todas as colunas estão preenchidas com 891 registros cada.\n",
    "* A idade dos passageiros está entre 0.42 e 80 anos. "
   ]
  },
  {
   "cell_type": "markdown",
   "metadata": {},
   "source": [
    "### Toda hora é hora de trabalhar os dados \n",
    "\n",
    "Apesar de ter tratado os dados na seção 'Trabalhando os dados', ao desrever os dados no 'Sumário estatístico', percebi que o conjunto de dados passa a impressão de que os passageiros estavam acompanhados, o menor valor de passagem é 0 e o maior é 512, bem distante da média que é 32.\n",
    "\n",
    "Vamos investigar e tratar essas variáveis."
   ]
  },
  {
   "cell_type": "markdown",
   "metadata": {},
   "source": [
    "* Média de Family\n",
    "\n",
    "A média de Family é 0.9, dando a impressão de que a maior parte dos passageiros estava acompanhada. \n",
    "Confirmando essa informação:"
   ]
  },
  {
   "cell_type": "code",
   "execution_count": 19,
   "metadata": {
    "collapsed": false
   },
   "outputs": [
    {
     "data": {
      "text/plain": [
       "Survived    60.26936\n",
       "Pclass      60.26936\n",
       "Sex         60.26936\n",
       "Age         60.26936\n",
       "Fare        60.26936\n",
       "Family      60.26936\n",
       "AgeRange    60.26936\n",
       "dtype: float64"
      ]
     },
     "execution_count": 19,
     "metadata": {},
     "output_type": "execute_result"
    }
   ],
   "source": [
    "((len(titanic_df.Family) - titanic_df[titanic_df['Family']>0].count()) / len(titanic_df.Family)) *100"
   ]
  },
  {
   "cell_type": "markdown",
   "metadata": {},
   "source": [
    "60% dos passageiros estavam desacompanhados. Bem, se a maioria dos passageiros estava desacompanhado, é possível que o total de acompanhantes seja próximo do total de passageiros.  "
   ]
  },
  {
   "cell_type": "code",
   "execution_count": 20,
   "metadata": {
    "collapsed": false
   },
   "outputs": [
    {
     "data": {
      "text/plain": [
       "806L"
      ]
     },
     "execution_count": 20,
     "metadata": {},
     "output_type": "execute_result"
    }
   ],
   "source": [
    "# Soma dos registros de Family\n",
    "titanic_df.Family.sum()"
   ]
  },
  {
   "cell_type": "markdown",
   "metadata": {},
   "source": [
    "O total da soma de familiares é quase similar ao total de valores da coluna Family. Quando calculado a média, fica a impressão de a maioria dos passageiros esta acompanhado. \n",
    "\n",
    "Verificando se algum padrão neste dado:"
   ]
  },
  {
   "cell_type": "code",
   "execution_count": 21,
   "metadata": {
    "collapsed": false
   },
   "outputs": [
    {
     "data": {
      "text/plain": [
       "array([ 1,  0,  4,  2,  6,  5,  3,  7, 10], dtype=int64)"
      ]
     },
     "execution_count": 21,
     "metadata": {},
     "output_type": "execute_result"
    }
   ],
   "source": [
    "# Lista os valores únicos da quantidade de acompanhantes por passageiros\n",
    "titanic_df.Family.unique()"
   ]
  },
  {
   "cell_type": "markdown",
   "metadata": {},
   "source": [
    "Já sabemos que a maior parte dos passageiros estava desacompanhada, será que há uma relação diferente desta variável com os mortos e sobreviventes?\n",
    "\n",
    "Agrupa os dados de family e Survived, com o objetivo de descobrir se ha uma relação entre o número de acompanhantes  e a sobrevivência. "
   ]
  },
  {
   "cell_type": "code",
   "execution_count": 22,
   "metadata": {
    "collapsed": false
   },
   "outputs": [
    {
     "data": {
      "text/plain": [
       "Family  Survived\n",
       "0       0           374\n",
       "        1           163\n",
       "1       0            72\n",
       "        1            89\n",
       "2       0            43\n",
       "        1            59\n",
       "3       0             8\n",
       "        1            21\n",
       "4       0            12\n",
       "        1             3\n",
       "5       0            19\n",
       "        1             3\n",
       "6       0             8\n",
       "        1             4\n",
       "7       0             6\n",
       "10      0             7\n",
       "dtype: int64"
      ]
     },
     "execution_count": 22,
     "metadata": {},
     "output_type": "execute_result"
    }
   ],
   "source": [
    "acompanhante_sobrevivencia = titanic_df.groupby(['Family','Survived']).size()\n",
    "acompanhante_sobrevivencia"
   ]
  },
  {
   "cell_type": "markdown",
   "metadata": {},
   "source": [
    "Visualizando o mapa da distribuição dos sobreviventes por número de acompanhantes:"
   ]
  },
  {
   "cell_type": "code",
   "execution_count": 23,
   "metadata": {
    "collapsed": false
   },
   "outputs": [
    {
     "data": {
      "text/plain": [
       "<matplotlib.text.Text at 0xbdaa630>"
      ]
     },
     "execution_count": 23,
     "metadata": {},
     "output_type": "execute_result"
    },
    {
     "data": {
      "image/png": "[encoded data removed]",
      "text/plain": [
       "<matplotlib.figure.Figure at 0xbd30080>"
      ]
     },
     "metadata": {},
     "output_type": "display_data"
    }
   ],
   "source": [
    "sb.heatmap(acompanhante_sobrevivencia.unstack(), annot=True, fmt='g')\n",
    "plt.xlabel('0 - Mortos , 1 - Sobreviventes')\n",
    "plt.ylabel('Total Acompanhantes')"
   ]
  },
  {
   "cell_type": "markdown",
   "metadata": {},
   "source": [
    "Através do gráfico é possível confirmar que a maior parte dos passageiros estava desacompanhando. Se a análise se baseasse apenas nestas duas colunas, sem considerar classe, sexo e o valor da passagem, estar desacompanhado comporia o grupo com menor probabilidade de sobreviver."
   ]
  },
  {
   "cell_type": "markdown",
   "metadata": {},
   "source": [
    "#### 4º Tipo de manipulação: Dados discrepantes (outliers)"
   ]
  },
  {
   "cell_type": "markdown",
   "metadata": {},
   "source": [
    "Tratamos dados ausentes, irrelevantes e derivados, agora encontramos um novo tipo de dado que precisa ser manipulado, porque a discrepância de seu conteúdo pode influenciar/induzir significativamente o resultado final."
   ]
  },
  {
   "cell_type": "markdown",
   "metadata": {},
   "source": [
    "** Dados discrepantes: Fare **\n",
    "\n",
    "Fare tem duas questões que precisa ser avaliada. A primeira é o preço máximo do ticket é 512 sendo que a o valor médio 32. Vou aprofundar na análise desse dados porque estes outliers podem interferir no resultado. A segunda é que o valor mínimo é 0. Pode ser, por exemplo, tickets de crianças. Isto será verificado a seguir."
   ]
  },
  {
   "cell_type": "markdown",
   "metadata": {},
   "source": [
    "Questão 1: O maior valor de Fare é realmente discrepante? "
   ]
  },
  {
   "cell_type": "code",
   "execution_count": 24,
   "metadata": {
    "collapsed": false
   },
   "outputs": [
    {
     "data": {
      "text/plain": [
       "679    512.3292\n",
       "258    512.3292\n",
       "737    512.3292\n",
       "341    263.0000\n",
       "438    263.0000\n",
       "88     263.0000\n",
       "27     263.0000\n",
       "311    262.3750\n",
       "742    262.3750\n",
       "299    247.5208\n",
       "118    247.5208\n",
       "716    227.5250\n",
       "557    227.5250\n",
       "380    227.5250\n",
       "700    227.5250\n",
       "527    221.7792\n",
       "377    211.5000\n",
       "689    211.3375\n",
       "730    211.3375\n",
       "779    211.3375\n",
       "318    164.8667\n",
       "856    164.8667\n",
       "268    153.4625\n",
       "332    153.4625\n",
       "609    153.4625\n",
       "297    151.5500\n",
       "305    151.5500\n",
       "498    151.5500\n",
       "708    151.5500\n",
       "31     146.5208\n",
       "Name: Fare, dtype: float64"
      ]
     },
     "execution_count": 24,
     "metadata": {},
     "output_type": "execute_result"
    }
   ],
   "source": [
    "# Ordena os dados em ordem descente para verificar se existem muitos valores altos como o max=512.\n",
    "titanic_df.Fare.sort_values(ascending=False).head(30)"
   ]
  },
  {
   "cell_type": "markdown",
   "metadata": {},
   "source": [
    "O maior valor (512.3292) está muito distante do segundo maior valor (263.0000). Os outros valores são bem aproximados um dos outros. A menos que existam 3 cabines de luxo com uma tarifa exorbitante, o que eu não acredito, há provavelmente uma falha nos dados. Para os passageiros com a passagem igual ao maior valor, vou atribuir o segundo maior valor.  "
   ]
  },
  {
   "cell_type": "code",
   "execution_count": 25,
   "metadata": {
    "collapsed": false
   },
   "outputs": [
    {
     "data": {
      "text/plain": [
       "263.0"
      ]
     },
     "execution_count": 25,
     "metadata": {},
     "output_type": "execute_result"
    }
   ],
   "source": [
    "# Lista os 10 maiores valores de Fare, mas a lista tem valores repetidos, então filtra\n",
    "# somente unicos(.unique) e retorna a segunda linha [1], porque a primeira é o Max. \n",
    "second_max_fare = titanic_df.Fare.nlargest(10).unique()[1]\n",
    "second_max_fare"
   ]
  },
  {
   "cell_type": "code",
   "execution_count": 26,
   "metadata": {
    "collapsed": false
   },
   "outputs": [],
   "source": [
    "# Atribui o segundo valor mais alto da coluna(second_max_fare) \n",
    "# onde Fare é igual ao valor máximo da coluna\n",
    "titanic_df.Fare = titanic_df.Fare.apply(lambda x: second_max_fare if x==titanic_df.Fare.max() else x)"
   ]
  },
  {
   "cell_type": "code",
   "execution_count": 27,
   "metadata": {
    "collapsed": false
   },
   "outputs": [
    {
     "data": {
      "text/plain": [
       "263.0"
      ]
     },
     "execution_count": 27,
     "metadata": {},
     "output_type": "execute_result"
    }
   ],
   "source": [
    "# Confere se o max foi alterado para o segundo valor.\n",
    "titanic_df.Fare.max()"
   ]
  },
  {
   "cell_type": "markdown",
   "metadata": {
    "collapsed": false
   },
   "source": [
    "Questão 2: Os valores zerados são de crianças ou idosos? Eles tem algum fator em comum?"
   ]
  },
  {
   "cell_type": "code",
   "execution_count": 28,
   "metadata": {
    "collapsed": false
   },
   "outputs": [
    {
     "data": {
      "text/html": [
       "<div>\n",
       "<table border=\"1\" class=\"dataframe\">\n",
       "  <thead>\n",
       "    <tr style=\"text-align: right;\">\n",
       "      <th></th>\n",
       "      <th>Survived</th>\n",
       "      <th>Pclass</th>\n",
       "      <th>Sex</th>\n",
       "      <th>Age</th>\n",
       "      <th>Fare</th>\n",
       "      <th>Family</th>\n",
       "      <th>AgeRange</th>\n",
       "    </tr>\n",
       "  </thead>\n",
       "  <tbody>\n",
       "    <tr>\n",
       "      <th>179</th>\n",
       "      <td>0</td>\n",
       "      <td>3</td>\n",
       "      <td>male</td>\n",
       "      <td>36.000000</td>\n",
       "      <td>0.0</td>\n",
       "      <td>0</td>\n",
       "      <td>Adulto</td>\n",
       "    </tr>\n",
       "    <tr>\n",
       "      <th>263</th>\n",
       "      <td>0</td>\n",
       "      <td>1</td>\n",
       "      <td>male</td>\n",
       "      <td>40.000000</td>\n",
       "      <td>0.0</td>\n",
       "      <td>0</td>\n",
       "      <td>Adulto</td>\n",
       "    </tr>\n",
       "    <tr>\n",
       "      <th>271</th>\n",
       "      <td>1</td>\n",
       "      <td>3</td>\n",
       "      <td>male</td>\n",
       "      <td>25.000000</td>\n",
       "      <td>0.0</td>\n",
       "      <td>0</td>\n",
       "      <td>Jovem Adulto</td>\n",
       "    </tr>\n",
       "    <tr>\n",
       "      <th>277</th>\n",
       "      <td>0</td>\n",
       "      <td>2</td>\n",
       "      <td>male</td>\n",
       "      <td>29.699118</td>\n",
       "      <td>0.0</td>\n",
       "      <td>0</td>\n",
       "      <td>Jovem Adulto</td>\n",
       "    </tr>\n",
       "    <tr>\n",
       "      <th>302</th>\n",
       "      <td>0</td>\n",
       "      <td>3</td>\n",
       "      <td>male</td>\n",
       "      <td>19.000000</td>\n",
       "      <td>0.0</td>\n",
       "      <td>0</td>\n",
       "      <td>Jovem Adulto</td>\n",
       "    </tr>\n",
       "    <tr>\n",
       "      <th>413</th>\n",
       "      <td>0</td>\n",
       "      <td>2</td>\n",
       "      <td>male</td>\n",
       "      <td>29.699118</td>\n",
       "      <td>0.0</td>\n",
       "      <td>0</td>\n",
       "      <td>Jovem Adulto</td>\n",
       "    </tr>\n",
       "    <tr>\n",
       "      <th>466</th>\n",
       "      <td>0</td>\n",
       "      <td>2</td>\n",
       "      <td>male</td>\n",
       "      <td>29.699118</td>\n",
       "      <td>0.0</td>\n",
       "      <td>0</td>\n",
       "      <td>Jovem Adulto</td>\n",
       "    </tr>\n",
       "    <tr>\n",
       "      <th>481</th>\n",
       "      <td>0</td>\n",
       "      <td>2</td>\n",
       "      <td>male</td>\n",
       "      <td>29.699118</td>\n",
       "      <td>0.0</td>\n",
       "      <td>0</td>\n",
       "      <td>Jovem Adulto</td>\n",
       "    </tr>\n",
       "    <tr>\n",
       "      <th>597</th>\n",
       "      <td>0</td>\n",
       "      <td>3</td>\n",
       "      <td>male</td>\n",
       "      <td>49.000000</td>\n",
       "      <td>0.0</td>\n",
       "      <td>0</td>\n",
       "      <td>Adulto</td>\n",
       "    </tr>\n",
       "    <tr>\n",
       "      <th>633</th>\n",
       "      <td>0</td>\n",
       "      <td>1</td>\n",
       "      <td>male</td>\n",
       "      <td>29.699118</td>\n",
       "      <td>0.0</td>\n",
       "      <td>0</td>\n",
       "      <td>Jovem Adulto</td>\n",
       "    </tr>\n",
       "    <tr>\n",
       "      <th>674</th>\n",
       "      <td>0</td>\n",
       "      <td>2</td>\n",
       "      <td>male</td>\n",
       "      <td>29.699118</td>\n",
       "      <td>0.0</td>\n",
       "      <td>0</td>\n",
       "      <td>Jovem Adulto</td>\n",
       "    </tr>\n",
       "    <tr>\n",
       "      <th>732</th>\n",
       "      <td>0</td>\n",
       "      <td>2</td>\n",
       "      <td>male</td>\n",
       "      <td>29.699118</td>\n",
       "      <td>0.0</td>\n",
       "      <td>0</td>\n",
       "      <td>Jovem Adulto</td>\n",
       "    </tr>\n",
       "    <tr>\n",
       "      <th>806</th>\n",
       "      <td>0</td>\n",
       "      <td>1</td>\n",
       "      <td>male</td>\n",
       "      <td>39.000000</td>\n",
       "      <td>0.0</td>\n",
       "      <td>0</td>\n",
       "      <td>Adulto</td>\n",
       "    </tr>\n",
       "    <tr>\n",
       "      <th>815</th>\n",
       "      <td>0</td>\n",
       "      <td>1</td>\n",
       "      <td>male</td>\n",
       "      <td>29.699118</td>\n",
       "      <td>0.0</td>\n",
       "      <td>0</td>\n",
       "      <td>Jovem Adulto</td>\n",
       "    </tr>\n",
       "    <tr>\n",
       "      <th>822</th>\n",
       "      <td>0</td>\n",
       "      <td>1</td>\n",
       "      <td>male</td>\n",
       "      <td>38.000000</td>\n",
       "      <td>0.0</td>\n",
       "      <td>0</td>\n",
       "      <td>Adulto</td>\n",
       "    </tr>\n",
       "  </tbody>\n",
       "</table>\n",
       "</div>"
      ],
      "text/plain": [
       "     Survived  Pclass   Sex        Age  Fare  Family      AgeRange\n",
       "179         0       3  male  36.000000   0.0       0        Adulto\n",
       "263         0       1  male  40.000000   0.0       0        Adulto\n",
       "271         1       3  male  25.000000   0.0       0  Jovem Adulto\n",
       "277         0       2  male  29.699118   0.0       0  Jovem Adulto\n",
       "302         0       3  male  19.000000   0.0       0  Jovem Adulto\n",
       "413         0       2  male  29.699118   0.0       0  Jovem Adulto\n",
       "466         0       2  male  29.699118   0.0       0  Jovem Adulto\n",
       "481         0       2  male  29.699118   0.0       0  Jovem Adulto\n",
       "597         0       3  male  49.000000   0.0       0        Adulto\n",
       "633         0       1  male  29.699118   0.0       0  Jovem Adulto\n",
       "674         0       2  male  29.699118   0.0       0  Jovem Adulto\n",
       "732         0       2  male  29.699118   0.0       0  Jovem Adulto\n",
       "806         0       1  male  39.000000   0.0       0        Adulto\n",
       "815         0       1  male  29.699118   0.0       0  Jovem Adulto\n",
       "822         0       1  male  38.000000   0.0       0        Adulto"
      ]
     },
     "execution_count": 28,
     "metadata": {},
     "output_type": "execute_result"
    }
   ],
   "source": [
    "# Pesquisa resultado onde o valor da passagem é igual a 0.\n",
    "titanic_df[titanic_df['Fare']==0]"
   ]
  },
  {
   "cell_type": "markdown",
   "metadata": {
    "collapsed": false
   },
   "source": [
    "A teoria de que podiam ser ingressos gratuitos por causa da idade não se confirmou. No grupo não tem crianças nem idosos. Em comum os dados tem o gênero masculino e ausência de acompanhantes. Acredito que seja mais uma provável falha nos dados e para este caso vou atribuir o valor médio da coluna Fare."
   ]
  },
  {
   "cell_type": "code",
   "execution_count": 29,
   "metadata": {
    "collapsed": false
   },
   "outputs": [],
   "source": [
    "# Retorna a média da coluna Fare quando o valor passado como parametro é igual a 0.\n",
    "titanic_df.Fare = titanic_df.Fare.apply(lambda x: titanic_df.Fare.mean() if x==0 else x)  "
   ]
  },
  {
   "cell_type": "code",
   "execution_count": 30,
   "metadata": {
    "collapsed": false
   },
   "outputs": [
    {
     "data": {
      "text/plain": [
       "count    891.000000\n",
       "mean      31.892741\n",
       "std       43.062619\n",
       "min        4.012500\n",
       "25%        7.925000\n",
       "50%       15.100000\n",
       "75%       31.364716\n",
       "max      263.000000\n",
       "Name: Fare, dtype: float64"
      ]
     },
     "execution_count": 30,
     "metadata": {},
     "output_type": "execute_result"
    }
   ],
   "source": [
    "# Sumariza os dados novamente\n",
    "titanic_df.Fare.describe()"
   ]
  },
  {
   "cell_type": "markdown",
   "metadata": {
    "collapsed": false
   },
   "source": [
    "Como pode ser constatado, o valor mínimo (min) passou a ser 4.01 e o máximo(max) 263."
   ]
  },
  {
   "cell_type": "markdown",
   "metadata": {
    "collapsed": true
   },
   "source": [
    "## Mais um pouco de estatítica\n",
    "### Correlação de Pearson\n",
    "Qual a corelação das variáveis como fator sobrevivência? O método pearson (.corr) foi utilizado para demonstrar a dependência  entre elas. O valor pode variar entre 0 e 1, tanto negativo quanto positivo.\n",
    "Espera-se um grau de correlação superior a 0.5 para demonstrar uma correlação de moderada a muito forte.\n",
    "    "
   ]
  },
  {
   "cell_type": "code",
   "execution_count": 31,
   "metadata": {
    "collapsed": false
   },
   "outputs": [
    {
     "data": {
      "text/html": [
       "<div>\n",
       "<table border=\"1\" class=\"dataframe\">\n",
       "  <thead>\n",
       "    <tr style=\"text-align: right;\">\n",
       "      <th></th>\n",
       "      <th>Survived</th>\n",
       "      <th>Pclass</th>\n",
       "      <th>Age</th>\n",
       "      <th>Fare</th>\n",
       "      <th>Family</th>\n",
       "    </tr>\n",
       "  </thead>\n",
       "  <tbody>\n",
       "    <tr>\n",
       "      <th>Survived</th>\n",
       "      <td>1.000000</td>\n",
       "      <td>-0.338481</td>\n",
       "      <td>-0.069809</td>\n",
       "      <td>0.264212</td>\n",
       "      <td>0.016639</td>\n",
       "    </tr>\n",
       "    <tr>\n",
       "      <th>Pclass</th>\n",
       "      <td>-0.338481</td>\n",
       "      <td>1.000000</td>\n",
       "      <td>-0.331339</td>\n",
       "      <td>-0.609074</td>\n",
       "      <td>0.065997</td>\n",
       "    </tr>\n",
       "    <tr>\n",
       "      <th>Age</th>\n",
       "      <td>-0.069809</td>\n",
       "      <td>-0.331339</td>\n",
       "      <td>1.000000</td>\n",
       "      <td>0.099607</td>\n",
       "      <td>-0.248512</td>\n",
       "    </tr>\n",
       "    <tr>\n",
       "      <th>Fare</th>\n",
       "      <td>0.264212</td>\n",
       "      <td>-0.609074</td>\n",
       "      <td>0.099607</td>\n",
       "      <td>1.000000</td>\n",
       "      <td>0.250601</td>\n",
       "    </tr>\n",
       "    <tr>\n",
       "      <th>Family</th>\n",
       "      <td>0.016639</td>\n",
       "      <td>0.065997</td>\n",
       "      <td>-0.248512</td>\n",
       "      <td>0.250601</td>\n",
       "      <td>1.000000</td>\n",
       "    </tr>\n",
       "  </tbody>\n",
       "</table>\n",
       "</div>"
      ],
      "text/plain": [
       "          Survived    Pclass       Age      Fare    Family\n",
       "Survived  1.000000 -0.338481 -0.069809  0.264212  0.016639\n",
       "Pclass   -0.338481  1.000000 -0.331339 -0.609074  0.065997\n",
       "Age      -0.069809 -0.331339  1.000000  0.099607 -0.248512\n",
       "Fare      0.264212 -0.609074  0.099607  1.000000  0.250601\n",
       "Family    0.016639  0.065997 -0.248512  0.250601  1.000000"
      ]
     },
     "execution_count": 31,
     "metadata": {},
     "output_type": "execute_result"
    }
   ],
   "source": [
    "titanic_df.corr(method='pearson', min_periods=1)"
   ]
  },
  {
   "cell_type": "markdown",
   "metadata": {},
   "source": [
    "Como a coluna Sex não é numérica, não foi calculada a correlação para ela. Acredito que ela tenha uma correlação com survived, então vou transformá-la em número, numa coluna adicional, para mensurar a correlação."
   ]
  },
  {
   "cell_type": "code",
   "execution_count": 32,
   "metadata": {
    "collapsed": true
   },
   "outputs": [],
   "source": [
    "# Atribuí um valor inteiro para os valores categorizados de Sex (0 - female, 1 - male)\n",
    "titanic_df['SexInt'] = map(int, titanic_df.Sex == 'male')"
   ]
  },
  {
   "cell_type": "code",
   "execution_count": 33,
   "metadata": {
    "collapsed": false
   },
   "outputs": [
    {
     "data": {
      "text/html": [
       "<div>\n",
       "<table border=\"1\" class=\"dataframe\">\n",
       "  <thead>\n",
       "    <tr style=\"text-align: right;\">\n",
       "      <th></th>\n",
       "      <th>Survived</th>\n",
       "      <th>Pclass</th>\n",
       "      <th>Age</th>\n",
       "      <th>Fare</th>\n",
       "      <th>Family</th>\n",
       "      <th>SexInt</th>\n",
       "    </tr>\n",
       "  </thead>\n",
       "  <tbody>\n",
       "    <tr>\n",
       "      <th>Survived</th>\n",
       "      <td>1.000000</td>\n",
       "      <td>0.338481</td>\n",
       "      <td>0.069809</td>\n",
       "      <td>0.264212</td>\n",
       "      <td>0.016639</td>\n",
       "      <td>0.543351</td>\n",
       "    </tr>\n",
       "    <tr>\n",
       "      <th>Pclass</th>\n",
       "      <td>0.338481</td>\n",
       "      <td>1.000000</td>\n",
       "      <td>0.331339</td>\n",
       "      <td>0.609074</td>\n",
       "      <td>0.065997</td>\n",
       "      <td>0.131900</td>\n",
       "    </tr>\n",
       "    <tr>\n",
       "      <th>Age</th>\n",
       "      <td>0.069809</td>\n",
       "      <td>0.331339</td>\n",
       "      <td>1.000000</td>\n",
       "      <td>0.099607</td>\n",
       "      <td>0.248512</td>\n",
       "      <td>0.084153</td>\n",
       "    </tr>\n",
       "    <tr>\n",
       "      <th>Fare</th>\n",
       "      <td>0.264212</td>\n",
       "      <td>0.609074</td>\n",
       "      <td>0.099607</td>\n",
       "      <td>1.000000</td>\n",
       "      <td>0.250601</td>\n",
       "      <td>0.202137</td>\n",
       "    </tr>\n",
       "    <tr>\n",
       "      <th>Family</th>\n",
       "      <td>0.016639</td>\n",
       "      <td>0.065997</td>\n",
       "      <td>0.248512</td>\n",
       "      <td>0.250601</td>\n",
       "      <td>1.000000</td>\n",
       "      <td>0.200988</td>\n",
       "    </tr>\n",
       "    <tr>\n",
       "      <th>SexInt</th>\n",
       "      <td>0.543351</td>\n",
       "      <td>0.131900</td>\n",
       "      <td>0.084153</td>\n",
       "      <td>0.202137</td>\n",
       "      <td>0.200988</td>\n",
       "      <td>1.000000</td>\n",
       "    </tr>\n",
       "  </tbody>\n",
       "</table>\n",
       "</div>"
      ],
      "text/plain": [
       "          Survived    Pclass       Age      Fare    Family    SexInt\n",
       "Survived  1.000000  0.338481  0.069809  0.264212  0.016639  0.543351\n",
       "Pclass    0.338481  1.000000  0.331339  0.609074  0.065997  0.131900\n",
       "Age       0.069809  0.331339  1.000000  0.099607  0.248512  0.084153\n",
       "Fare      0.264212  0.609074  0.099607  1.000000  0.250601  0.202137\n",
       "Family    0.016639  0.065997  0.248512  0.250601  1.000000  0.200988\n",
       "SexInt    0.543351  0.131900  0.084153  0.202137  0.200988  1.000000"
      ]
     },
     "execution_count": 33,
     "metadata": {},
     "output_type": "execute_result"
    }
   ],
   "source": [
    "# Chama o método de corrlação passando o tipo pearson como parâmetro e guarda os valores em um dataframe.\n",
    "correlation_df = titanic_df.corr(method='pearson', min_periods=1).abs()\n",
    "correlation_df"
   ]
  },
  {
   "cell_type": "markdown",
   "metadata": {},
   "source": [
    "O objetivo desta análise é pontuar a correlação entre as variáveis do nosso conjunto de dados, sem intenção nenhuma de estabelecer, através destes números, uma causa para a sobrevivência ou definir valores estatísticos sem teste controlado associado.\n",
    "\n",
    "Foi importante adicionar a SexInt para representar a variável Sex. As variáveis Sex(SexInt) e Pclass são as mais correlacionadas com Survived. Faz sentido se pensarmos que a localização da cabine pode ter feito diferença e que as mulheres e crianças tiveram prioridade numa situação de emergência.\n",
    "Pclass e Fare também estão correlacionadas, principalmente porque o tipo/classe cabine são fatores para composição dos valores de passagens."
   ]
  },
  {
   "cell_type": "markdown",
   "metadata": {},
   "source": [
    "**Classificação do resultado - correlação _p_**"
   ]
  },
  {
   "cell_type": "code",
   "execution_count": 34,
   "metadata": {
    "collapsed": false
   },
   "outputs": [
    {
     "data": {
      "text/plain": [
       "SexInt    SexInt      1.000000\n",
       "Family    Family      1.000000\n",
       "Pclass    Pclass      1.000000\n",
       "Age       Age         1.000000\n",
       "Fare      Fare        1.000000\n",
       "Survived  Survived    1.000000\n",
       "Fare      Pclass      0.609074\n",
       "Pclass    Fare        0.609074\n",
       "Survived  SexInt      0.543351\n",
       "SexInt    Survived    0.543351\n",
       "Pclass    Survived    0.338481\n",
       "Survived  Pclass      0.338481\n",
       "Pclass    Age         0.331339\n",
       "Age       Pclass      0.331339\n",
       "Fare      Survived    0.264212\n",
       "Survived  Fare        0.264212\n",
       "Fare      Family      0.250601\n",
       "Family    Fare        0.250601\n",
       "Age       Family      0.248512\n",
       "Family    Age         0.248512\n",
       "SexInt    Fare        0.202137\n",
       "Fare      SexInt      0.202137\n",
       "SexInt    Family      0.200988\n",
       "Family    SexInt      0.200988\n",
       "SexInt    Pclass      0.131900\n",
       "Pclass    SexInt      0.131900\n",
       "Fare      Age         0.099607\n",
       "Age       Fare        0.099607\n",
       "SexInt    Age         0.084153\n",
       "Age       SexInt      0.084153\n",
       "          Survived    0.069809\n",
       "Survived  Age         0.069809\n",
       "Pclass    Family      0.065997\n",
       "Family    Pclass      0.065997\n",
       "Survived  Family      0.016639\n",
       "Family    Survived    0.016639\n",
       "dtype: float64"
      ]
     },
     "execution_count": 34,
     "metadata": {},
     "output_type": "execute_result"
    }
   ],
   "source": [
    "correlation_df.unstack().sort_values(ascending=False)"
   ]
  },
  {
   "cell_type": "markdown",
   "metadata": {},
   "source": [
    "=> Correlação moderada _p_>0.5\n",
    "* Survived x SexInt\n",
    "* Pclass   x Fare\n",
    "\n",
    "=> Correlação fraca _p_ >0.3\n",
    "* Pclass   x Survived\n",
    "* Pclass   x Age\n",
    "\n",
    "=> Correlação desprezível\n",
    "* Survived x Fare    \n",
    "* Family   x Fare\n",
    "* Family   x Age\n",
    "* Fare     x SexInt \n",
    "* Family   x SexInt \n",
    "* Pclass   x SexInt     \n",
    "* Age      x Fare       \n",
    "* Age      x SexInt  \n",
    "* Survived x Age \n",
    "* Pclass   x Family \n",
    "* Survived x Family "
   ]
  },
  {
   "cell_type": "markdown",
   "metadata": {
    "collapsed": true
   },
   "source": [
    "## Visualizando os dados - Análise exploratória\n"
   ]
  },
  {
   "cell_type": "markdown",
   "metadata": {},
   "source": [
    "Os dados estão limpos e prontos para serem visualizados. \n",
    "\n",
    "Começaremos a análise exploratória com uma visão geral de todas as colunas e o relacionamento dos seus dados. \n",
    "Os dados estão agrupados em 0 -mortos e 1 - sobreviventes  "
   ]
  },
  {
   "cell_type": "code",
   "execution_count": 35,
   "metadata": {
    "collapsed": false
   },
   "outputs": [
    {
     "data": {
      "text/plain": [
       "<seaborn.axisgrid.PairGrid at 0xbdaa240>"
      ]
     },
     "execution_count": 35,
     "metadata": {},
     "output_type": "execute_result"
    },
    {
     "data": {
      "image/png": "[encoded data removed]",
      "text/plain": [
       "<matplotlib.figure.Figure at 0xbf6f9e8>"
      ]
     },
     "metadata": {},
     "output_type": "display_data"
    }
   ],
   "source": [
    "# Visão geral de todas as variáveis com a ajuda do pairplot(). \n",
    "sb.pairplot(titanic_df, hue='Survived', diag_kind='kde', size=2.5, markers=['o','s'], palette=['gray','red'])"
   ]
  },
  {
   "cell_type": "markdown",
   "metadata": {
    "collapsed": true
   },
   "source": [
    "Esta visualização geral auxilia na escolha de quais dados devem ser selecionados para uma exibição mais detalhada. Por exemplo, em SexInt está claro que mais homens morreram no Titanic. Em Pclass pode ser percebido um maior volume de mortos na 3º classe. "
   ]
  },
  {
   "cell_type": "markdown",
   "metadata": {
    "collapsed": true
   },
   "source": [
    "### Visualizando Age e Pclass\n",
    "\n",
    "Através dos gráficos tentaremos compreender melhor o conteúdo e importância da idade para a sobrevivência, além de seu relacionamento com a classe - Pclass."
   ]
  },
  {
   "cell_type": "code",
   "execution_count": 36,
   "metadata": {
    "collapsed": false
   },
   "outputs": [
    {
     "data": {
      "text/plain": [
       "<matplotlib.legend.Legend at 0x11ea8eb8>"
      ]
     },
     "execution_count": 36,
     "metadata": {},
     "output_type": "execute_result"
    },
    {
     "data": {
      "image/png": "[encoded data removed]",
      "text/plain": [
       "<matplotlib.figure.Figure at 0x108e7390>"
      ]
     },
     "metadata": {},
     "output_type": "display_data"
    }
   ],
   "source": [
    "fig = plt.figure(figsize=(18,6), dpi=1600) \n",
    "\n",
    "# criando o subplot1 \n",
    "ax1 = plt.subplot(2,2,1)\n",
    "#Histogram da coluna Age\n",
    "titanic_df.Age.hist(bins=10) \n",
    "#Definindo o label de x - Age\n",
    "plt.xlabel(\"Age\")\n",
    "#Definindo o titulo do grafico\n",
    "plt.title(\"Histrogram Age, (bin=10)\")    \n",
    "\n",
    "# criando o subplot2 \n",
    "ax2 = plt.subplot(2,2,2)\n",
    "#Plotando o grafico de densidade da coluna Age\n",
    "titanic_df['Age'].plot(kind='kde', style='k--')\n",
    "#Definindo o label do eixo y\n",
    "plt.ylabel(\"Density\")\n",
    "#Definindo o label do eixo de x\n",
    "plt.xlabel(\"Age\")\n",
    "#Definindo o titulo do grafico\n",
    "plt.title(\"Densidade - Age\")\n",
    "\n",
    "# criando o subplot3\n",
    "ax3 = plt.subplot(2,2,(3,4))\n",
    "#plotando a densidade por classe\n",
    "titanic_df.groupby('Pclass').Age.plot.kde()\n",
    "#Definindo o label do eixo de x\n",
    "plt.xlabel(\"Age\")  \n",
    "#Definindo o titulo do grafico\n",
    "plt.title(\"Distribuicao Age/Class\")\n",
    "#Definindo a legenda\n",
    "plt.legend(('1 Classe', '2 Classe','3 Classe'),loc='best') "
   ]
  },
  {
   "cell_type": "markdown",
   "metadata": {},
   "source": [
    "- A maior parte dos passageiros tem entre 20 e 40 anos.\n",
    "- A 3º classe tem a maioria dos passageiros jovens e a 1º tem uma distribuição mais uniforme das idades, inclusive com a maior parte dos passageiros idosos.\n",
    "- A distribuição do histograma da idade é normal."
   ]
  },
  {
   "cell_type": "markdown",
   "metadata": {},
   "source": [
    "### Visualizando Survived, Pclass e Sex"
   ]
  },
  {
   "cell_type": "code",
   "execution_count": 37,
   "metadata": {
    "collapsed": false
   },
   "outputs": [
    {
     "data": {
      "text/plain": [
       "<matplotlib.text.Text at 0x1267d4e0>"
      ]
     },
     "execution_count": 37,
     "metadata": {},
     "output_type": "execute_result"
    },
    {
     "data": {
      "image/png": "[encoded data removed]",
      "text/plain": [
       "<matplotlib.figure.Figure at 0x11d076a0>"
      ]
     },
     "metadata": {},
     "output_type": "display_data"
    }
   ],
   "source": [
    "fig = plt.figure(figsize=(18,6), dpi=1600) \n",
    "# tentar subplot com sb\n",
    "# Cria o subplot1 \n",
    "ax1 = plt.subplot(1,2,1)\n",
    "# Imprime gráfico com a densidade de sobreviventes por classe\n",
    "titanic_df.groupby('Pclass').Survived.plot.kde()\n",
    "\n",
    "# Define o label dos eixos x e y\n",
    "plt.xlabel(\"0 - Mortos  1 - Sobreviventes\")\n",
    "plt.ylabel(\"Densidade\")\n",
    "# Define o título do gráfico\n",
    "plt.title(\"Distribuicao Sobreviventes por Classe\")\n",
    "# Define a legenda\n",
    "plt.legend(('1 Classe', '2 Classe','3 Classe'),loc='best') \n",
    "\n",
    "# Cria o subplot2 \n",
    "ax2 = plt.subplot(1,2,2)\n",
    "# Imprime gráfico com o total de homens e mulheres no titanic\n",
    "titanic_df.groupby('Sex').count()['Survived'].plot.bar()\n",
    "plt.xlabel(\"Feminino - Masculino\")\n",
    "# Define o título do gráfico\n",
    "plt.title(\"Total Homens e Mulheres\")"
   ]
  },
  {
   "cell_type": "markdown",
   "metadata": {},
   "source": [
    "* A distribuição dos mortos e sobreviventes por classe não deixa dúvida da relação entre essas variáveis. O maior volume de mortos estão na 3º classe e de sobreviventes na 1º. A segunda classe tem uma pequena variação. A relação entre a classe e a sobrevivência foi uma das questões levantandas no início do do trabalho. Não é possível afirmar que estar em uma determinada classe seja a causa da sobrevivência, através dos dados só é possível observar que a maior parte dos sobreviventes estava na 1º classe.\n",
    "* No conjunto de dados a maioria dos passageiros eram homens."
   ]
  },
  {
   "cell_type": "code",
   "execution_count": 38,
   "metadata": {
    "collapsed": false
   },
   "outputs": [
    {
     "data": {
      "text/plain": [
       "<matplotlib.text.Text at 0x129829e8>"
      ]
     },
     "execution_count": 38,
     "metadata": {},
     "output_type": "execute_result"
    },
    {
     "data": {
      "image/png": "[encoded data removed]",
      "text/plain": [
       "<matplotlib.figure.Figure at 0x11295198>"
      ]
     },
     "metadata": {},
     "output_type": "display_data"
    }
   ],
   "source": [
    "# Cria série com os dados de todos os sobreviventes\n",
    "sobreviventes = titanic_df[titanic_df['Survived']==1]\n",
    "\n",
    "# Para os sobreviventes, calcula a média da idade por classe e gênero  \n",
    "#sobreviventes.groupby(['Pclass','Sex']).mean()['Age'].plot.bar()\n",
    "sb.factorplot(x=\"Sex\", y=\"Age\", hue=\"Pclass\",\n",
    "               col=\"Pclass\", data=sobreviventes, kind=\"box\", size=4, aspect=.5)\n",
    "\n",
    "# Define configurações do grafico \n",
    "plt.xlabel(\"Genero\")\n",
    "plt.ylabel('Idade')"
   ]
  },
  {
   "cell_type": "markdown",
   "metadata": {},
   "source": [
    "* Através dos gráficos acima começamos a traçar parte do perfil dos sobreviventes, sabemos que a maioria estava na terceira classe e que tinham entre 20 e 40 anos.\n",
    "* Na 2º classe, objeto da investigação, a maioria das sobreviventes tinha idade entre 25 e 35 anos.\n",
    "* A maior parte dos homens sobreviventes da 2º classe tinham no máximo 30 anos."
   ]
  },
  {
   "cell_type": "markdown",
   "metadata": {},
   "source": [
    "### Respondendo aos questionamentos iniciais\n",
    "\n",
    "Agora que conhecemos melhor os dados e já começamos a identificar as características mais comuns aos sobreviventes, tentaremos responder aos questionamentos que motivaram esta análise com uma investigação mais detalhada."
   ]
  },
  {
   "cell_type": "markdown",
   "metadata": {},
   "source": [
    "** Questão 1: Sabendo que houve esse mal entendido na distribuição dos passageiros por botes, a fonte de dados titanic.cvs nos fornece alguma informação que reflete esse mal entendido entre os oficiais? **\n",
    "\n",
    "Sabemos até o momento que a maioria dos passageiros eram homens, Jovem adulto era a faixa estária mais comum e que a maior parte dos mortos estava na 3º classe. Os oficiais do Titanic priorizaram crianças e mulheres e é de se esperar, por esta razão, que os homens tenham uma taxa de sobrevivência menor. \n",
    "\n",
    "Não será feita nenhuma análise detalhada na coluna Age, usaremos a coluna derivada AgeRange que contém a faixa etária do passageiro."
   ]
  },
  {
   "cell_type": "code",
   "execution_count": 39,
   "metadata": {
    "collapsed": false
   },
   "outputs": [
    {
     "data": {
      "text/plain": [
       "[<matplotlib.text.Text at 0x1296b438>, <matplotlib.text.Text at 0x12cddda0>]"
      ]
     },
     "execution_count": 39,
     "metadata": {},
     "output_type": "execute_result"
    },
    {
     "data": {
      "image/png": "[encoded data removed]",
      "text/plain": [
       "<matplotlib.figure.Figure at 0xbd70b38>"
      ]
     },
     "metadata": {},
     "output_type": "display_data"
    }
   ],
   "source": [
    "# Imprime violinplot com a distribuição dos sobreviventes por sexo e faixa etária\n",
    "ax = sb.violinplot(data=titanic_df, x='SexInt', y='Survived', hue='AgeRange')\n",
    "ax.set(xlabel='(0)Mulheres , (1)Homens', ylabel='(0)Mortos, (1)Sobreviventes')"
   ]
  },
  {
   "cell_type": "markdown",
   "metadata": {},
   "source": [
    "No gráfico acima é bem nítido que, pelo menos na amostra que nos foi dada, a maioria das mulheres sobreviveu independente da faixa etária. A maior parte dos homens morreu, inclusive os idosos. Tanto no grupo de homens e mulheres o volume de crianças sobreviventes é similar ao de mortos. Médias para o grupo Faixa Etária e Gênero."
   ]
  },
  {
   "cell_type": "markdown",
   "metadata": {},
   "source": [
    "** Questão 2: Mulheres e crianças tiveram maior chance de sobreviver? **\n",
    "\n",
    "Vamos começar com a taxa de sobrevivência de homens e mulheres independente da idade."
   ]
  },
  {
   "cell_type": "code",
   "execution_count": 40,
   "metadata": {
    "collapsed": false
   },
   "outputs": [
    {
     "data": {
      "text/html": [
       "<div>\n",
       "<table border=\"1\" class=\"dataframe\">\n",
       "  <thead>\n",
       "    <tr style=\"text-align: right;\">\n",
       "      <th></th>\n",
       "      <th>Survived</th>\n",
       "      <th>Pclass</th>\n",
       "      <th>Age</th>\n",
       "      <th>Fare</th>\n",
       "      <th>Family</th>\n",
       "      <th>SexInt</th>\n",
       "    </tr>\n",
       "    <tr>\n",
       "      <th>Sex</th>\n",
       "      <th></th>\n",
       "      <th></th>\n",
       "      <th></th>\n",
       "      <th></th>\n",
       "      <th></th>\n",
       "      <th></th>\n",
       "    </tr>\n",
       "  </thead>\n",
       "  <tbody>\n",
       "    <tr>\n",
       "      <th>female</th>\n",
       "      <td>0.742038</td>\n",
       "      <td>2.159236</td>\n",
       "      <td>28.216730</td>\n",
       "      <td>43.685776</td>\n",
       "      <td>1.343949</td>\n",
       "      <td>0.0</td>\n",
       "    </tr>\n",
       "    <tr>\n",
       "      <th>male</th>\n",
       "      <td>0.188908</td>\n",
       "      <td>2.389948</td>\n",
       "      <td>30.505824</td>\n",
       "      <td>25.475041</td>\n",
       "      <td>0.665511</td>\n",
       "      <td>1.0</td>\n",
       "    </tr>\n",
       "  </tbody>\n",
       "</table>\n",
       "</div>"
      ],
      "text/plain": [
       "        Survived    Pclass        Age       Fare    Family  SexInt\n",
       "Sex                                                               \n",
       "female  0.742038  2.159236  28.216730  43.685776  1.343949     0.0\n",
       "male    0.188908  2.389948  30.505824  25.475041  0.665511     1.0"
      ]
     },
     "execution_count": 40,
     "metadata": {},
     "output_type": "execute_result"
    }
   ],
   "source": [
    "# Agrupa os dados por gênero\n",
    "titanic_df.groupby(['Sex']).mean()"
   ]
  },
  {
   "cell_type": "markdown",
   "metadata": {},
   "source": [
    "No conjunto de dados 74% das mulheres e 19% dos homens sobreviveram. Boa notícia para mim, mas será que se eu adicionar a Faixa Etária, o percentual de sobrevivência continua favorável? "
   ]
  },
  {
   "cell_type": "code",
   "execution_count": 41,
   "metadata": {
    "collapsed": false
   },
   "outputs": [
    {
     "data": {
      "text/html": [
       "<div>\n",
       "<table border=\"1\" class=\"dataframe\">\n",
       "  <thead>\n",
       "    <tr style=\"text-align: right;\">\n",
       "      <th></th>\n",
       "      <th></th>\n",
       "      <th>Survived</th>\n",
       "      <th>Pclass</th>\n",
       "      <th>Age</th>\n",
       "      <th>Fare</th>\n",
       "      <th>Family</th>\n",
       "      <th>SexInt</th>\n",
       "    </tr>\n",
       "    <tr>\n",
       "      <th>AgeRange</th>\n",
       "      <th>Sex</th>\n",
       "      <th></th>\n",
       "      <th></th>\n",
       "      <th></th>\n",
       "      <th></th>\n",
       "      <th></th>\n",
       "      <th></th>\n",
       "    </tr>\n",
       "  </thead>\n",
       "  <tbody>\n",
       "    <tr>\n",
       "      <th rowspan=\"2\" valign=\"top\">Adolescente</th>\n",
       "      <th>female</th>\n",
       "      <td>0.826087</td>\n",
       "      <td>2.217391</td>\n",
       "      <td>15.413043</td>\n",
       "      <td>39.497470</td>\n",
       "      <td>1.130435</td>\n",
       "      <td>0.0</td>\n",
       "    </tr>\n",
       "    <tr>\n",
       "      <th>male</th>\n",
       "      <td>0.136364</td>\n",
       "      <td>2.818182</td>\n",
       "      <td>15.909091</td>\n",
       "      <td>20.670082</td>\n",
       "      <td>1.500000</td>\n",
       "      <td>1.0</td>\n",
       "    </tr>\n",
       "    <tr>\n",
       "      <th rowspan=\"2\" valign=\"top\">Adulto</th>\n",
       "      <th>female</th>\n",
       "      <td>0.824176</td>\n",
       "      <td>1.670330</td>\n",
       "      <td>43.285714</td>\n",
       "      <td>61.367536</td>\n",
       "      <td>1.263736</td>\n",
       "      <td>0.0</td>\n",
       "    </tr>\n",
       "    <tr>\n",
       "      <th>male</th>\n",
       "      <td>0.182927</td>\n",
       "      <td>1.981707</td>\n",
       "      <td>43.643293</td>\n",
       "      <td>32.306215</td>\n",
       "      <td>0.512195</td>\n",
       "      <td>1.0</td>\n",
       "    </tr>\n",
       "    <tr>\n",
       "      <th rowspan=\"2\" valign=\"top\">Crianca</th>\n",
       "      <th>female</th>\n",
       "      <td>0.593750</td>\n",
       "      <td>2.687500</td>\n",
       "      <td>4.796875</td>\n",
       "      <td>27.956378</td>\n",
       "      <td>3.031250</td>\n",
       "      <td>0.0</td>\n",
       "    </tr>\n",
       "    <tr>\n",
       "      <th>male</th>\n",
       "      <td>0.555556</td>\n",
       "      <td>2.583333</td>\n",
       "      <td>4.546389</td>\n",
       "      <td>35.282292</td>\n",
       "      <td>3.555556</td>\n",
       "      <td>1.0</td>\n",
       "    </tr>\n",
       "    <tr>\n",
       "      <th>Idoso</th>\n",
       "      <th>male</th>\n",
       "      <td>0.090909</td>\n",
       "      <td>1.727273</td>\n",
       "      <td>69.772727</td>\n",
       "      <td>28.905691</td>\n",
       "      <td>0.272727</td>\n",
       "      <td>1.0</td>\n",
       "    </tr>\n",
       "    <tr>\n",
       "      <th rowspan=\"2\" valign=\"top\">Jovem Adulto</th>\n",
       "      <th>female</th>\n",
       "      <td>0.714286</td>\n",
       "      <td>2.315476</td>\n",
       "      <td>26.268174</td>\n",
       "      <td>37.677630</td>\n",
       "      <td>1.095238</td>\n",
       "      <td>0.0</td>\n",
       "    </tr>\n",
       "    <tr>\n",
       "      <th>male</th>\n",
       "      <td>0.159884</td>\n",
       "      <td>2.558140</td>\n",
       "      <td>26.637182</td>\n",
       "      <td>21.389572</td>\n",
       "      <td>0.395349</td>\n",
       "      <td>1.0</td>\n",
       "    </tr>\n",
       "  </tbody>\n",
       "</table>\n",
       "</div>"
      ],
      "text/plain": [
       "                     Survived    Pclass        Age       Fare    Family  \\\n",
       "AgeRange     Sex                                                          \n",
       "Adolescente  female  0.826087  2.217391  15.413043  39.497470  1.130435   \n",
       "             male    0.136364  2.818182  15.909091  20.670082  1.500000   \n",
       "Adulto       female  0.824176  1.670330  43.285714  61.367536  1.263736   \n",
       "             male    0.182927  1.981707  43.643293  32.306215  0.512195   \n",
       "Crianca      female  0.593750  2.687500   4.796875  27.956378  3.031250   \n",
       "             male    0.555556  2.583333   4.546389  35.282292  3.555556   \n",
       "Idoso        male    0.090909  1.727273  69.772727  28.905691  0.272727   \n",
       "Jovem Adulto female  0.714286  2.315476  26.268174  37.677630  1.095238   \n",
       "             male    0.159884  2.558140  26.637182  21.389572  0.395349   \n",
       "\n",
       "                     SexInt  \n",
       "AgeRange     Sex             \n",
       "Adolescente  female     0.0  \n",
       "             male       1.0  \n",
       "Adulto       female     0.0  \n",
       "             male       1.0  \n",
       "Crianca      female     0.0  \n",
       "             male       1.0  \n",
       "Idoso        male       1.0  \n",
       "Jovem Adulto female     0.0  \n",
       "             male       1.0  "
      ]
     },
     "execution_count": 41,
     "metadata": {},
     "output_type": "execute_result"
    }
   ],
   "source": [
    "# Agrupa os dados em faixa etária e gênero \n",
    "titanic_df.groupby(['AgeRange','Sex']).mean()"
   ]
  },
  {
   "cell_type": "markdown",
   "metadata": {
    "collapsed": false
   },
   "source": [
    "No grupo de jovem adultas mulheres a taxa de sobrevivência é de 71%, bem superior aos 16% dos homens nesta faixa etária. Com exceção das crianças, os homens em todas as faixas etárias tiveram um taixa baixa de sobrevivência.\n",
    "As crianças, independente do sexo, tiveram uma taxa similiar, sendo 59% para as meninas e 56% para os meninos. Reflete bem a informação exibida pelo violinplot, nele conseguimos perceber uma distribuição bem igualitária na distribuição de crianças mortas e sobreviventes.\n",
    "\n",
    "Aprofundando na análise e adicionando a faixa etária a chance de sobrevivência do meu grupo foi reduzida em 3%, antes era 74% e agora passou para 71%. Entre os valores apurados para as mulheres, este é um dos mais baixos, perde apenas para as crianças, mas ainda estou feliz porque falta analisar mais um elemento: a classe."
   ]
  },
  {
   "cell_type": "markdown",
   "metadata": {},
   "source": [
    "** Questão 3: A classe, foi um fator importante para a sobrevivência? **\n",
    "\n",
    "Para descobrir se era mais provável sobreviver em determinadas classes do que outras, vamos investigar a taxa de sobrevivência somente da variável classe, sem interferência de outra como Sex ou AgeRange."
   ]
  },
  {
   "cell_type": "code",
   "execution_count": 42,
   "metadata": {
    "collapsed": false
   },
   "outputs": [
    {
     "data": {
      "text/html": [
       "<div>\n",
       "<table border=\"1\" class=\"dataframe\">\n",
       "  <thead>\n",
       "    <tr style=\"text-align: right;\">\n",
       "      <th></th>\n",
       "      <th>Survived</th>\n",
       "      <th>Age</th>\n",
       "      <th>Fare</th>\n",
       "      <th>Family</th>\n",
       "      <th>SexInt</th>\n",
       "    </tr>\n",
       "    <tr>\n",
       "      <th>Pclass</th>\n",
       "      <th></th>\n",
       "      <th></th>\n",
       "      <th></th>\n",
       "      <th></th>\n",
       "      <th></th>\n",
       "    </tr>\n",
       "  </thead>\n",
       "  <tbody>\n",
       "    <tr>\n",
       "      <th>1</th>\n",
       "      <td>0.629630</td>\n",
       "      <td>37.048118</td>\n",
       "      <td>81.417817</td>\n",
       "      <td>0.773148</td>\n",
       "      <td>0.564815</td>\n",
       "    </tr>\n",
       "    <tr>\n",
       "      <th>2</th>\n",
       "      <td>0.472826</td>\n",
       "      <td>29.866958</td>\n",
       "      <td>21.684946</td>\n",
       "      <td>0.782609</td>\n",
       "      <td>0.586957</td>\n",
       "    </tr>\n",
       "    <tr>\n",
       "      <th>3</th>\n",
       "      <td>0.242363</td>\n",
       "      <td>26.403259</td>\n",
       "      <td>13.931067</td>\n",
       "      <td>1.008147</td>\n",
       "      <td>0.706721</td>\n",
       "    </tr>\n",
       "  </tbody>\n",
       "</table>\n",
       "</div>"
      ],
      "text/plain": [
       "        Survived        Age       Fare    Family    SexInt\n",
       "Pclass                                                    \n",
       "1       0.629630  37.048118  81.417817  0.773148  0.564815\n",
       "2       0.472826  29.866958  21.684946  0.782609  0.586957\n",
       "3       0.242363  26.403259  13.931067  1.008147  0.706721"
      ]
     },
     "execution_count": 42,
     "metadata": {},
     "output_type": "execute_result"
    }
   ],
   "source": [
    "# Primeiro vamos agrupar os dados somente pela classe\n",
    "titanic_df.groupby(['Pclass']).mean()"
   ]
  },
  {
   "cell_type": "markdown",
   "metadata": {},
   "source": [
    "Este agrupamento confirma o que vimos nos gráficos, o índice de sobrevivência é significativamente menor para 3º classe.\n",
    "Esta informação sozinha não significa muita coisa, porque sabemos que mulheres e crianças tinham melhores chances. Vejamos a distribuição dos valores com a adição de Sex e AgeRange."
   ]
  },
  {
   "cell_type": "code",
   "execution_count": 43,
   "metadata": {
    "collapsed": false
   },
   "outputs": [
    {
     "data": {
      "text/html": [
       "<div>\n",
       "<table border=\"1\" class=\"dataframe\">\n",
       "  <thead>\n",
       "    <tr style=\"text-align: right;\">\n",
       "      <th></th>\n",
       "      <th></th>\n",
       "      <th></th>\n",
       "      <th>Survived</th>\n",
       "      <th>Age</th>\n",
       "      <th>Fare</th>\n",
       "      <th>Family</th>\n",
       "      <th>SexInt</th>\n",
       "    </tr>\n",
       "    <tr>\n",
       "      <th>AgeRange</th>\n",
       "      <th>Sex</th>\n",
       "      <th>Pclass</th>\n",
       "      <th></th>\n",
       "      <th></th>\n",
       "      <th></th>\n",
       "      <th></th>\n",
       "      <th></th>\n",
       "    </tr>\n",
       "  </thead>\n",
       "  <tbody>\n",
       "    <tr>\n",
       "      <th rowspan=\"6\" valign=\"top\">Adolescente</th>\n",
       "      <th rowspan=\"3\" valign=\"top\">female</th>\n",
       "      <th>1</th>\n",
       "      <td>1.000000</td>\n",
       "      <td>15.857143</td>\n",
       "      <td>97.302386</td>\n",
       "      <td>1.142857</td>\n",
       "      <td>0.0</td>\n",
       "    </tr>\n",
       "    <tr>\n",
       "      <th>2</th>\n",
       "      <td>1.000000</td>\n",
       "      <td>15.250000</td>\n",
       "      <td>18.017700</td>\n",
       "      <td>0.500000</td>\n",
       "      <td>0.0</td>\n",
       "    </tr>\n",
       "    <tr>\n",
       "      <th>3</th>\n",
       "      <td>0.666667</td>\n",
       "      <td>15.208333</td>\n",
       "      <td>12.937858</td>\n",
       "      <td>1.333333</td>\n",
       "      <td>0.0</td>\n",
       "    </tr>\n",
       "    <tr>\n",
       "      <th rowspan=\"3\" valign=\"top\">male</th>\n",
       "      <th>1</th>\n",
       "      <td>1.000000</td>\n",
       "      <td>17.000000</td>\n",
       "      <td>110.883300</td>\n",
       "      <td>2.000000</td>\n",
       "      <td>1.0</td>\n",
       "    </tr>\n",
       "    <tr>\n",
       "      <th>2</th>\n",
       "      <td>0.000000</td>\n",
       "      <td>16.000000</td>\n",
       "      <td>18.250000</td>\n",
       "      <td>0.000000</td>\n",
       "      <td>1.0</td>\n",
       "    </tr>\n",
       "    <tr>\n",
       "      <th>3</th>\n",
       "      <td>0.105263</td>\n",
       "      <td>15.842105</td>\n",
       "      <td>16.176763</td>\n",
       "      <td>1.631579</td>\n",
       "      <td>1.0</td>\n",
       "    </tr>\n",
       "    <tr>\n",
       "      <th rowspan=\"6\" valign=\"top\">Adulto</th>\n",
       "      <th rowspan=\"3\" valign=\"top\">female</th>\n",
       "      <th>1</th>\n",
       "      <td>0.978723</td>\n",
       "      <td>44.638298</td>\n",
       "      <td>98.563385</td>\n",
       "      <td>0.893617</td>\n",
       "      <td>0.0</td>\n",
       "    </tr>\n",
       "    <tr>\n",
       "      <th>2</th>\n",
       "      <td>0.888889</td>\n",
       "      <td>41.703704</td>\n",
       "      <td>21.194444</td>\n",
       "      <td>0.888889</td>\n",
       "      <td>0.0</td>\n",
       "    </tr>\n",
       "    <tr>\n",
       "      <th>3</th>\n",
       "      <td>0.294118</td>\n",
       "      <td>42.058824</td>\n",
       "      <td>22.336276</td>\n",
       "      <td>2.882353</td>\n",
       "      <td>0.0</td>\n",
       "    </tr>\n",
       "    <tr>\n",
       "      <th rowspan=\"3\" valign=\"top\">male</th>\n",
       "      <th>1</th>\n",
       "      <td>0.369231</td>\n",
       "      <td>46.700000</td>\n",
       "      <td>60.936321</td>\n",
       "      <td>0.615385</td>\n",
       "      <td>1.0</td>\n",
       "    </tr>\n",
       "    <tr>\n",
       "      <th>2</th>\n",
       "      <td>0.081081</td>\n",
       "      <td>43.256757</td>\n",
       "      <td>18.284459</td>\n",
       "      <td>0.432432</td>\n",
       "      <td>1.0</td>\n",
       "    </tr>\n",
       "    <tr>\n",
       "      <th>3</th>\n",
       "      <td>0.048387</td>\n",
       "      <td>40.669355</td>\n",
       "      <td>10.658604</td>\n",
       "      <td>0.451613</td>\n",
       "      <td>1.0</td>\n",
       "    </tr>\n",
       "    <tr>\n",
       "      <th rowspan=\"6\" valign=\"top\">Crianca</th>\n",
       "      <th rowspan=\"3\" valign=\"top\">female</th>\n",
       "      <th>1</th>\n",
       "      <td>0.000000</td>\n",
       "      <td>2.000000</td>\n",
       "      <td>151.550000</td>\n",
       "      <td>3.000000</td>\n",
       "      <td>0.0</td>\n",
       "    </tr>\n",
       "    <tr>\n",
       "      <th>2</th>\n",
       "      <td>1.000000</td>\n",
       "      <td>4.875000</td>\n",
       "      <td>30.353650</td>\n",
       "      <td>2.250000</td>\n",
       "      <td>0.0</td>\n",
       "    </tr>\n",
       "    <tr>\n",
       "      <th>3</th>\n",
       "      <td>0.478261</td>\n",
       "      <td>4.891304</td>\n",
       "      <td>21.748909</td>\n",
       "      <td>3.304348</td>\n",
       "      <td>0.0</td>\n",
       "    </tr>\n",
       "    <tr>\n",
       "      <th rowspan=\"3\" valign=\"top\">male</th>\n",
       "      <th>1</th>\n",
       "      <td>1.000000</td>\n",
       "      <td>5.306667</td>\n",
       "      <td>117.802767</td>\n",
       "      <td>2.666667</td>\n",
       "      <td>1.0</td>\n",
       "    </tr>\n",
       "    <tr>\n",
       "      <th>2</th>\n",
       "      <td>1.000000</td>\n",
       "      <td>2.258889</td>\n",
       "      <td>27.306022</td>\n",
       "      <td>2.111111</td>\n",
       "      <td>1.0</td>\n",
       "    </tr>\n",
       "    <tr>\n",
       "      <th>3</th>\n",
       "      <td>0.333333</td>\n",
       "      <td>5.309167</td>\n",
       "      <td>27.958333</td>\n",
       "      <td>4.208333</td>\n",
       "      <td>1.0</td>\n",
       "    </tr>\n",
       "    <tr>\n",
       "      <th rowspan=\"3\" valign=\"top\">Idoso</th>\n",
       "      <th rowspan=\"3\" valign=\"top\">male</th>\n",
       "      <th>1</th>\n",
       "      <td>0.166667</td>\n",
       "      <td>70.333333</td>\n",
       "      <td>45.614600</td>\n",
       "      <td>0.500000</td>\n",
       "      <td>1.0</td>\n",
       "    </tr>\n",
       "    <tr>\n",
       "      <th>2</th>\n",
       "      <td>0.000000</td>\n",
       "      <td>68.000000</td>\n",
       "      <td>10.500000</td>\n",
       "      <td>0.000000</td>\n",
       "      <td>1.0</td>\n",
       "    </tr>\n",
       "    <tr>\n",
       "      <th>3</th>\n",
       "      <td>0.000000</td>\n",
       "      <td>69.833333</td>\n",
       "      <td>7.758333</td>\n",
       "      <td>0.000000</td>\n",
       "      <td>1.0</td>\n",
       "    </tr>\n",
       "    <tr>\n",
       "      <th rowspan=\"6\" valign=\"top\">Jovem Adulto</th>\n",
       "      <th rowspan=\"3\" valign=\"top\">female</th>\n",
       "      <th>1</th>\n",
       "      <td>0.974359</td>\n",
       "      <td>25.597232</td>\n",
       "      <td>109.265385</td>\n",
       "      <td>1.076923</td>\n",
       "      <td>0.0</td>\n",
       "    </tr>\n",
       "    <tr>\n",
       "      <th>2</th>\n",
       "      <td>0.918919</td>\n",
       "      <td>25.916169</td>\n",
       "      <td>21.150789</td>\n",
       "      <td>1.054054</td>\n",
       "      <td>0.0</td>\n",
       "    </tr>\n",
       "    <tr>\n",
       "      <th>3</th>\n",
       "      <td>0.521739</td>\n",
       "      <td>26.694162</td>\n",
       "      <td>13.977312</td>\n",
       "      <td>1.119565</td>\n",
       "      <td>0.0</td>\n",
       "    </tr>\n",
       "    <tr>\n",
       "      <th rowspan=\"3\" valign=\"top\">male</th>\n",
       "      <th>1</th>\n",
       "      <td>0.340426</td>\n",
       "      <td>27.716627</td>\n",
       "      <td>67.253460</td>\n",
       "      <td>0.404255</td>\n",
       "      <td>1.0</td>\n",
       "    </tr>\n",
       "    <tr>\n",
       "      <th>2</th>\n",
       "      <td>0.086207</td>\n",
       "      <td>26.237794</td>\n",
       "      <td>23.112441</td>\n",
       "      <td>0.448276</td>\n",
       "      <td>1.0</td>\n",
       "    </tr>\n",
       "    <tr>\n",
       "      <th>3</th>\n",
       "      <td>0.142259</td>\n",
       "      <td>26.521829</td>\n",
       "      <td>11.952211</td>\n",
       "      <td>0.380753</td>\n",
       "      <td>1.0</td>\n",
       "    </tr>\n",
       "  </tbody>\n",
       "</table>\n",
       "</div>"
      ],
      "text/plain": [
       "                            Survived        Age        Fare    Family  SexInt\n",
       "AgeRange     Sex    Pclass                                                   \n",
       "Adolescente  female 1       1.000000  15.857143   97.302386  1.142857     0.0\n",
       "                    2       1.000000  15.250000   18.017700  0.500000     0.0\n",
       "                    3       0.666667  15.208333   12.937858  1.333333     0.0\n",
       "             male   1       1.000000  17.000000  110.883300  2.000000     1.0\n",
       "                    2       0.000000  16.000000   18.250000  0.000000     1.0\n",
       "                    3       0.105263  15.842105   16.176763  1.631579     1.0\n",
       "Adulto       female 1       0.978723  44.638298   98.563385  0.893617     0.0\n",
       "                    2       0.888889  41.703704   21.194444  0.888889     0.0\n",
       "                    3       0.294118  42.058824   22.336276  2.882353     0.0\n",
       "             male   1       0.369231  46.700000   60.936321  0.615385     1.0\n",
       "                    2       0.081081  43.256757   18.284459  0.432432     1.0\n",
       "                    3       0.048387  40.669355   10.658604  0.451613     1.0\n",
       "Crianca      female 1       0.000000   2.000000  151.550000  3.000000     0.0\n",
       "                    2       1.000000   4.875000   30.353650  2.250000     0.0\n",
       "                    3       0.478261   4.891304   21.748909  3.304348     0.0\n",
       "             male   1       1.000000   5.306667  117.802767  2.666667     1.0\n",
       "                    2       1.000000   2.258889   27.306022  2.111111     1.0\n",
       "                    3       0.333333   5.309167   27.958333  4.208333     1.0\n",
       "Idoso        male   1       0.166667  70.333333   45.614600  0.500000     1.0\n",
       "                    2       0.000000  68.000000   10.500000  0.000000     1.0\n",
       "                    3       0.000000  69.833333    7.758333  0.000000     1.0\n",
       "Jovem Adulto female 1       0.974359  25.597232  109.265385  1.076923     0.0\n",
       "                    2       0.918919  25.916169   21.150789  1.054054     0.0\n",
       "                    3       0.521739  26.694162   13.977312  1.119565     0.0\n",
       "             male   1       0.340426  27.716627   67.253460  0.404255     1.0\n",
       "                    2       0.086207  26.237794   23.112441  0.448276     1.0\n",
       "                    3       0.142259  26.521829   11.952211  0.380753     1.0"
      ]
     },
     "execution_count": 43,
     "metadata": {},
     "output_type": "execute_result"
    }
   ],
   "source": [
    "# Agrupa os dados por Faixa etária, Gênero, Classe\n",
    "faixa_etaria_genero = titanic_df.groupby(['AgeRange','Sex','Pclass']).mean()\n",
    "faixa_etaria_genero"
   ]
  },
  {
   "cell_type": "markdown",
   "metadata": {},
   "source": [
    "De acordo com a nossa amostra, pobre dos homens adultos e idosos na 3º classe, a taxa de sobrevivência deles é inferior a 4%."
   ]
  },
  {
   "cell_type": "markdown",
   "metadata": {},
   "source": [
    "** 4º questão: E a pergunta me faço é se eu estivesse lá, mulher, jovem adulta, na 2º classe é provável que teria sobrevivido? **\n",
    "\n",
    "O que sabemos até agora:\n",
    "- Mulheres tiveram taxas de sobrevivência maiores quando comparadas a de homens\n",
    "- Crianças tiveram taxas de sobrevivência maiores que os homens\n",
    "- A maioria dos passageiros mortos estava na 3º classe\n",
    "- A taxa de sobrevivência dos passageiros da 1º classe foi superior do que a da 2º classe\n",
    "\n",
    "Para responder a esta qustão vamos pinsar o grupo específico: "
   ]
  },
  {
   "cell_type": "code",
   "execution_count": 44,
   "metadata": {
    "collapsed": true
   },
   "outputs": [],
   "source": [
    "jovem_adulta_2c = titanic_df.groupby(['AgeRange','Sex','Pclass']).mean()"
   ]
  },
  {
   "cell_type": "code",
   "execution_count": 45,
   "metadata": {
    "collapsed": false
   },
   "outputs": [
    {
     "data": {
      "text/html": [
       "<div>\n",
       "<table border=\"1\" class=\"dataframe\">\n",
       "  <thead>\n",
       "    <tr>\n",
       "      <th>AgeRange</th>\n",
       "      <th colspan=\"6\" halign=\"left\">Adolescente</th>\n",
       "      <th colspan=\"4\" halign=\"left\">Adulto</th>\n",
       "      <th>...</th>\n",
       "      <th>Crianca</th>\n",
       "      <th colspan=\"3\" halign=\"left\">Idoso</th>\n",
       "      <th colspan=\"6\" halign=\"left\">Jovem Adulto</th>\n",
       "    </tr>\n",
       "    <tr>\n",
       "      <th>Sex</th>\n",
       "      <th colspan=\"3\" halign=\"left\">female</th>\n",
       "      <th colspan=\"3\" halign=\"left\">male</th>\n",
       "      <th colspan=\"3\" halign=\"left\">female</th>\n",
       "      <th>male</th>\n",
       "      <th>...</th>\n",
       "      <th>male</th>\n",
       "      <th colspan=\"3\" halign=\"left\">male</th>\n",
       "      <th colspan=\"3\" halign=\"left\">female</th>\n",
       "      <th colspan=\"3\" halign=\"left\">male</th>\n",
       "    </tr>\n",
       "    <tr>\n",
       "      <th>Pclass</th>\n",
       "      <th>1</th>\n",
       "      <th>2</th>\n",
       "      <th>3</th>\n",
       "      <th>1</th>\n",
       "      <th>2</th>\n",
       "      <th>3</th>\n",
       "      <th>1</th>\n",
       "      <th>2</th>\n",
       "      <th>3</th>\n",
       "      <th>1</th>\n",
       "      <th>...</th>\n",
       "      <th>3</th>\n",
       "      <th>1</th>\n",
       "      <th>2</th>\n",
       "      <th>3</th>\n",
       "      <th>1</th>\n",
       "      <th>2</th>\n",
       "      <th>3</th>\n",
       "      <th>1</th>\n",
       "      <th>2</th>\n",
       "      <th>3</th>\n",
       "    </tr>\n",
       "  </thead>\n",
       "  <tbody>\n",
       "    <tr>\n",
       "      <th>Survived</th>\n",
       "      <td>1.000000</td>\n",
       "      <td>1.0000</td>\n",
       "      <td>0.666667</td>\n",
       "      <td>1.0000</td>\n",
       "      <td>0.00</td>\n",
       "      <td>0.105263</td>\n",
       "      <td>0.978723</td>\n",
       "      <td>0.888889</td>\n",
       "      <td>0.294118</td>\n",
       "      <td>0.369231</td>\n",
       "      <td>...</td>\n",
       "      <td>0.333333</td>\n",
       "      <td>0.166667</td>\n",
       "      <td>0.0</td>\n",
       "      <td>0.000000</td>\n",
       "      <td>0.974359</td>\n",
       "      <td>0.918919</td>\n",
       "      <td>0.521739</td>\n",
       "      <td>0.340426</td>\n",
       "      <td>0.086207</td>\n",
       "      <td>0.142259</td>\n",
       "    </tr>\n",
       "    <tr>\n",
       "      <th>Age</th>\n",
       "      <td>15.857143</td>\n",
       "      <td>15.2500</td>\n",
       "      <td>15.208333</td>\n",
       "      <td>17.0000</td>\n",
       "      <td>16.00</td>\n",
       "      <td>15.842105</td>\n",
       "      <td>44.638298</td>\n",
       "      <td>41.703704</td>\n",
       "      <td>42.058824</td>\n",
       "      <td>46.700000</td>\n",
       "      <td>...</td>\n",
       "      <td>5.309167</td>\n",
       "      <td>70.333333</td>\n",
       "      <td>68.0</td>\n",
       "      <td>69.833333</td>\n",
       "      <td>25.597232</td>\n",
       "      <td>25.916169</td>\n",
       "      <td>26.694162</td>\n",
       "      <td>27.716627</td>\n",
       "      <td>26.237794</td>\n",
       "      <td>26.521829</td>\n",
       "    </tr>\n",
       "    <tr>\n",
       "      <th>Fare</th>\n",
       "      <td>97.302386</td>\n",
       "      <td>18.0177</td>\n",
       "      <td>12.937858</td>\n",
       "      <td>110.8833</td>\n",
       "      <td>18.25</td>\n",
       "      <td>16.176763</td>\n",
       "      <td>98.563385</td>\n",
       "      <td>21.194444</td>\n",
       "      <td>22.336276</td>\n",
       "      <td>60.936321</td>\n",
       "      <td>...</td>\n",
       "      <td>27.958333</td>\n",
       "      <td>45.614600</td>\n",
       "      <td>10.5</td>\n",
       "      <td>7.758333</td>\n",
       "      <td>109.265385</td>\n",
       "      <td>21.150789</td>\n",
       "      <td>13.977312</td>\n",
       "      <td>67.253460</td>\n",
       "      <td>23.112441</td>\n",
       "      <td>11.952211</td>\n",
       "    </tr>\n",
       "    <tr>\n",
       "      <th>Family</th>\n",
       "      <td>1.142857</td>\n",
       "      <td>0.5000</td>\n",
       "      <td>1.333333</td>\n",
       "      <td>2.0000</td>\n",
       "      <td>0.00</td>\n",
       "      <td>1.631579</td>\n",
       "      <td>0.893617</td>\n",
       "      <td>0.888889</td>\n",
       "      <td>2.882353</td>\n",
       "      <td>0.615385</td>\n",
       "      <td>...</td>\n",
       "      <td>4.208333</td>\n",
       "      <td>0.500000</td>\n",
       "      <td>0.0</td>\n",
       "      <td>0.000000</td>\n",
       "      <td>1.076923</td>\n",
       "      <td>1.054054</td>\n",
       "      <td>1.119565</td>\n",
       "      <td>0.404255</td>\n",
       "      <td>0.448276</td>\n",
       "      <td>0.380753</td>\n",
       "    </tr>\n",
       "    <tr>\n",
       "      <th>SexInt</th>\n",
       "      <td>0.000000</td>\n",
       "      <td>0.0000</td>\n",
       "      <td>0.000000</td>\n",
       "      <td>1.0000</td>\n",
       "      <td>1.00</td>\n",
       "      <td>1.000000</td>\n",
       "      <td>0.000000</td>\n",
       "      <td>0.000000</td>\n",
       "      <td>0.000000</td>\n",
       "      <td>1.000000</td>\n",
       "      <td>...</td>\n",
       "      <td>1.000000</td>\n",
       "      <td>1.000000</td>\n",
       "      <td>1.0</td>\n",
       "      <td>1.000000</td>\n",
       "      <td>0.000000</td>\n",
       "      <td>0.000000</td>\n",
       "      <td>0.000000</td>\n",
       "      <td>1.000000</td>\n",
       "      <td>1.000000</td>\n",
       "      <td>1.000000</td>\n",
       "    </tr>\n",
       "  </tbody>\n",
       "</table>\n",
       "<p>5 rows × 27 columns</p>\n",
       "</div>"
      ],
      "text/plain": [
       "AgeRange Adolescente                                                  \\\n",
       "Sex           female                          male                     \n",
       "Pclass             1        2          3         1      2          3   \n",
       "Survived    1.000000   1.0000   0.666667    1.0000   0.00   0.105263   \n",
       "Age        15.857143  15.2500  15.208333   17.0000  16.00  15.842105   \n",
       "Fare       97.302386  18.0177  12.937858  110.8833  18.25  16.176763   \n",
       "Family      1.142857   0.5000   1.333333    2.0000   0.00   1.631579   \n",
       "SexInt      0.000000   0.0000   0.000000    1.0000   1.00   1.000000   \n",
       "\n",
       "AgeRange     Adulto                                     ...        Crianca  \\\n",
       "Sex          female                             male    ...           male   \n",
       "Pclass            1          2          3          1    ...              3   \n",
       "Survived   0.978723   0.888889   0.294118   0.369231    ...       0.333333   \n",
       "Age       44.638298  41.703704  42.058824  46.700000    ...       5.309167   \n",
       "Fare      98.563385  21.194444  22.336276  60.936321    ...      27.958333   \n",
       "Family     0.893617   0.888889   2.882353   0.615385    ...       4.208333   \n",
       "SexInt     0.000000   0.000000   0.000000   1.000000    ...       1.000000   \n",
       "\n",
       "AgeRange      Idoso                  Jovem Adulto                        \\\n",
       "Sex            male                        female                         \n",
       "Pclass            1     2          3            1          2          3   \n",
       "Survived   0.166667   0.0   0.000000     0.974359   0.918919   0.521739   \n",
       "Age       70.333333  68.0  69.833333    25.597232  25.916169  26.694162   \n",
       "Fare      45.614600  10.5   7.758333   109.265385  21.150789  13.977312   \n",
       "Family     0.500000   0.0   0.000000     1.076923   1.054054   1.119565   \n",
       "SexInt     1.000000   1.0   1.000000     0.000000   0.000000   0.000000   \n",
       "\n",
       "AgeRange                                   \n",
       "Sex            male                        \n",
       "Pclass            1          2          3  \n",
       "Survived   0.340426   0.086207   0.142259  \n",
       "Age       27.716627  26.237794  26.521829  \n",
       "Fare      67.253460  23.112441  11.952211  \n",
       "Family     0.404255   0.448276   0.380753  \n",
       "SexInt     1.000000   1.000000   1.000000  \n",
       "\n",
       "[5 rows x 27 columns]"
      ]
     },
     "execution_count": 45,
     "metadata": {},
     "output_type": "execute_result"
    }
   ],
   "source": [
    "jovem_adulta = titanic_df.groupby(['AgeRange','Sex','Pclass']).mean().T\n",
    "jovem_adulta"
   ]
  },
  {
   "cell_type": "markdown",
   "metadata": {},
   "source": [
    "### <font color='Red'>Muito bom! No conjunto de dados 92% das jovens adultas na 2º classe sobreviveram.</font> \n",
    "Os dados que temos são somente uma amostra dos passageiros do Titanic, alguns dados estavam ausentes, outros foram excluídos e uma boa parte das informações foi preenchida com valores supostos, por este motivo, a taxa aqui apresentada só é valida como experiência neste contexto, não significando que, uma Jovem adulta na 2º classe teria sobrevivido."
   ]
  },
  {
   "cell_type": "markdown",
   "metadata": {
    "collapsed": true
   },
   "source": [
    "## Prevendo o resultado"
   ]
  },
  {
   "cell_type": "markdown",
   "metadata": {},
   "source": [
    "A partir de agora vamos deixar nossa análise mais interessante, vamos adicionar um pouco de machine learning ao treinar um programa na amostra de dados do Titanic. Depois de \"treinado\" testaremos a predição para uma Jovem Adulta na 2º classe. Será que obteremos um resultado diferente da análise exploratória?"
   ]
  },
  {
   "cell_type": "markdown",
   "metadata": {},
   "source": [
    "** Preparando os dados**\n",
    "- Na fase de análise de dados eu criei a coluna SexInt, que nada mais é do que a coluna Sex em uma versão numérica: 0-Female, 1-Male, agora vou excluir essa coluna e usar o LabelEnconder para fazer a mudança dos valores.\n",
    "- A coluna AgeRange também será submetida ao LabelEnconder, porque durante a frase exploratória através desta variável pudemos ver informações que acrescentaram valor a análise."
   ]
  },
  {
   "cell_type": "code",
   "execution_count": 47,
   "metadata": {
    "collapsed": false
   },
   "outputs": [
    {
     "data": {
      "text/html": [
       "<div>\n",
       "<table border=\"1\" class=\"dataframe\">\n",
       "  <thead>\n",
       "    <tr style=\"text-align: right;\">\n",
       "      <th></th>\n",
       "      <th>Survived</th>\n",
       "      <th>Pclass</th>\n",
       "      <th>Sex</th>\n",
       "      <th>Age</th>\n",
       "      <th>Fare</th>\n",
       "      <th>Family</th>\n",
       "      <th>AgeRange</th>\n",
       "      <th>SexInt</th>\n",
       "    </tr>\n",
       "  </thead>\n",
       "  <tbody>\n",
       "    <tr>\n",
       "      <th>0</th>\n",
       "      <td>0</td>\n",
       "      <td>3</td>\n",
       "      <td>male</td>\n",
       "      <td>22.0</td>\n",
       "      <td>7.2500</td>\n",
       "      <td>1</td>\n",
       "      <td>Jovem Adulto</td>\n",
       "      <td>1</td>\n",
       "    </tr>\n",
       "    <tr>\n",
       "      <th>1</th>\n",
       "      <td>1</td>\n",
       "      <td>1</td>\n",
       "      <td>female</td>\n",
       "      <td>38.0</td>\n",
       "      <td>71.2833</td>\n",
       "      <td>1</td>\n",
       "      <td>Adulto</td>\n",
       "      <td>0</td>\n",
       "    </tr>\n",
       "    <tr>\n",
       "      <th>2</th>\n",
       "      <td>1</td>\n",
       "      <td>3</td>\n",
       "      <td>female</td>\n",
       "      <td>26.0</td>\n",
       "      <td>7.9250</td>\n",
       "      <td>0</td>\n",
       "      <td>Jovem Adulto</td>\n",
       "      <td>0</td>\n",
       "    </tr>\n",
       "    <tr>\n",
       "      <th>3</th>\n",
       "      <td>1</td>\n",
       "      <td>1</td>\n",
       "      <td>female</td>\n",
       "      <td>35.0</td>\n",
       "      <td>53.1000</td>\n",
       "      <td>1</td>\n",
       "      <td>Adulto</td>\n",
       "      <td>0</td>\n",
       "    </tr>\n",
       "    <tr>\n",
       "      <th>4</th>\n",
       "      <td>0</td>\n",
       "      <td>3</td>\n",
       "      <td>male</td>\n",
       "      <td>35.0</td>\n",
       "      <td>8.0500</td>\n",
       "      <td>0</td>\n",
       "      <td>Adulto</td>\n",
       "      <td>1</td>\n",
       "    </tr>\n",
       "  </tbody>\n",
       "</table>\n",
       "</div>"
      ],
      "text/plain": [
       "   Survived  Pclass     Sex   Age     Fare  Family      AgeRange  SexInt\n",
       "0         0       3    male  22.0   7.2500       1  Jovem Adulto       1\n",
       "1         1       1  female  38.0  71.2833       1        Adulto       0\n",
       "2         1       3  female  26.0   7.9250       0  Jovem Adulto       0\n",
       "3         1       1  female  35.0  53.1000       1        Adulto       0\n",
       "4         0       3    male  35.0   8.0500       0        Adulto       1"
      ]
     },
     "execution_count": 47,
     "metadata": {},
     "output_type": "execute_result"
    }
   ],
   "source": [
    "titanic_df.head()"
   ]
  },
  {
   "cell_type": "code",
   "execution_count": 48,
   "metadata": {
    "collapsed": false
   },
   "outputs": [
    {
     "data": {
      "text/html": [
       "<div>\n",
       "<table border=\"1\" class=\"dataframe\">\n",
       "  <thead>\n",
       "    <tr style=\"text-align: right;\">\n",
       "      <th></th>\n",
       "      <th>Survived</th>\n",
       "      <th>Pclass</th>\n",
       "      <th>Sex</th>\n",
       "      <th>Age</th>\n",
       "      <th>Fare</th>\n",
       "      <th>Family</th>\n",
       "      <th>AgeRange</th>\n",
       "    </tr>\n",
       "  </thead>\n",
       "  <tbody>\n",
       "    <tr>\n",
       "      <th>0</th>\n",
       "      <td>0</td>\n",
       "      <td>3</td>\n",
       "      <td>male</td>\n",
       "      <td>22.0</td>\n",
       "      <td>7.2500</td>\n",
       "      <td>1</td>\n",
       "      <td>Jovem Adulto</td>\n",
       "    </tr>\n",
       "    <tr>\n",
       "      <th>1</th>\n",
       "      <td>1</td>\n",
       "      <td>1</td>\n",
       "      <td>female</td>\n",
       "      <td>38.0</td>\n",
       "      <td>71.2833</td>\n",
       "      <td>1</td>\n",
       "      <td>Adulto</td>\n",
       "    </tr>\n",
       "    <tr>\n",
       "      <th>2</th>\n",
       "      <td>1</td>\n",
       "      <td>3</td>\n",
       "      <td>female</td>\n",
       "      <td>26.0</td>\n",
       "      <td>7.9250</td>\n",
       "      <td>0</td>\n",
       "      <td>Jovem Adulto</td>\n",
       "    </tr>\n",
       "    <tr>\n",
       "      <th>3</th>\n",
       "      <td>1</td>\n",
       "      <td>1</td>\n",
       "      <td>female</td>\n",
       "      <td>35.0</td>\n",
       "      <td>53.1000</td>\n",
       "      <td>1</td>\n",
       "      <td>Adulto</td>\n",
       "    </tr>\n",
       "    <tr>\n",
       "      <th>4</th>\n",
       "      <td>0</td>\n",
       "      <td>3</td>\n",
       "      <td>male</td>\n",
       "      <td>35.0</td>\n",
       "      <td>8.0500</td>\n",
       "      <td>0</td>\n",
       "      <td>Adulto</td>\n",
       "    </tr>\n",
       "  </tbody>\n",
       "</table>\n",
       "</div>"
      ],
      "text/plain": [
       "   Survived  Pclass     Sex   Age     Fare  Family      AgeRange\n",
       "0         0       3    male  22.0   7.2500       1  Jovem Adulto\n",
       "1         1       1  female  38.0  71.2833       1        Adulto\n",
       "2         1       3  female  26.0   7.9250       0  Jovem Adulto\n",
       "3         1       1  female  35.0  53.1000       1        Adulto\n",
       "4         0       3    male  35.0   8.0500       0        Adulto"
      ]
     },
     "execution_count": 48,
     "metadata": {},
     "output_type": "execute_result"
    }
   ],
   "source": [
    "# Cria uma cópia do titanic_df\n",
    "processed_df = titanic_df.copy()\n",
    "# Apaga a coluna SexInt na cópia do titanic_df\n",
    "processed_df.drop('SexInt',axis=1, inplace=True)\n",
    "processed_df.head()"
   ]
  },
  {
   "cell_type": "markdown",
   "metadata": {},
   "source": [
    "Os dados nas colunas AgeRange e Sex são categorizados e serão transformados com a ajuda do LabelEncoder em valores numéricos que são lidos mais facilmente pelo modelo."
   ]
  },
  {
   "cell_type": "code",
   "execution_count": 49,
   "metadata": {
    "collapsed": true
   },
   "outputs": [],
   "source": [
    "le = preprocessing.LabelEncoder()\n",
    "\n",
    "# As colunas Sex e AgeRange recebem sua versão numerica\n",
    "processed_df.Sex = le.fit_transform(processed_df.Sex)\n",
    "processed_df.AgeRange = le.fit_transform(processed_df.AgeRange)"
   ]
  },
  {
   "cell_type": "code",
   "execution_count": 50,
   "metadata": {
    "collapsed": false
   },
   "outputs": [
    {
     "data": {
      "text/html": [
       "<div>\n",
       "<table border=\"1\" class=\"dataframe\">\n",
       "  <thead>\n",
       "    <tr style=\"text-align: right;\">\n",
       "      <th></th>\n",
       "      <th>Survived</th>\n",
       "      <th>Pclass</th>\n",
       "      <th>Sex</th>\n",
       "      <th>Age</th>\n",
       "      <th>Fare</th>\n",
       "      <th>Family</th>\n",
       "      <th>AgeRange</th>\n",
       "    </tr>\n",
       "  </thead>\n",
       "  <tbody>\n",
       "    <tr>\n",
       "      <th>0</th>\n",
       "      <td>0</td>\n",
       "      <td>3</td>\n",
       "      <td>1</td>\n",
       "      <td>22.0</td>\n",
       "      <td>7.2500</td>\n",
       "      <td>1</td>\n",
       "      <td>4</td>\n",
       "    </tr>\n",
       "    <tr>\n",
       "      <th>1</th>\n",
       "      <td>1</td>\n",
       "      <td>1</td>\n",
       "      <td>0</td>\n",
       "      <td>38.0</td>\n",
       "      <td>71.2833</td>\n",
       "      <td>1</td>\n",
       "      <td>1</td>\n",
       "    </tr>\n",
       "    <tr>\n",
       "      <th>2</th>\n",
       "      <td>1</td>\n",
       "      <td>3</td>\n",
       "      <td>0</td>\n",
       "      <td>26.0</td>\n",
       "      <td>7.9250</td>\n",
       "      <td>0</td>\n",
       "      <td>4</td>\n",
       "    </tr>\n",
       "    <tr>\n",
       "      <th>3</th>\n",
       "      <td>1</td>\n",
       "      <td>1</td>\n",
       "      <td>0</td>\n",
       "      <td>35.0</td>\n",
       "      <td>53.1000</td>\n",
       "      <td>1</td>\n",
       "      <td>1</td>\n",
       "    </tr>\n",
       "    <tr>\n",
       "      <th>4</th>\n",
       "      <td>0</td>\n",
       "      <td>3</td>\n",
       "      <td>1</td>\n",
       "      <td>35.0</td>\n",
       "      <td>8.0500</td>\n",
       "      <td>0</td>\n",
       "      <td>1</td>\n",
       "    </tr>\n",
       "  </tbody>\n",
       "</table>\n",
       "</div>"
      ],
      "text/plain": [
       "   Survived  Pclass  Sex   Age     Fare  Family  AgeRange\n",
       "0         0       3    1  22.0   7.2500       1         4\n",
       "1         1       1    0  38.0  71.2833       1         1\n",
       "2         1       3    0  26.0   7.9250       0         4\n",
       "3         1       1    0  35.0  53.1000       1         1\n",
       "4         0       3    1  35.0   8.0500       0         1"
      ]
     },
     "execution_count": 50,
     "metadata": {},
     "output_type": "execute_result"
    }
   ],
   "source": [
    "# Conferindo o resultado\n",
    "processed_df.head()"
   ]
  },
  {
   "cell_type": "code",
   "execution_count": 51,
   "metadata": {
    "collapsed": false
   },
   "outputs": [],
   "source": [
    "# X recebe todos os valores do dataset menos a coluna Survived que será usada na comparação y\n",
    "X = processed_df.drop(['Survived'], axis=1).values\n",
    "\n",
    "# y recebe os valores da coluna Survived que será usada pelo modelo como comparação\n",
    "y = processed_df['Survived'].values"
   ]
  },
  {
   "cell_type": "markdown",
   "metadata": {},
   "source": [
    "Depois de criado os dois conjuntos de dados, X contendo todos os valores menos Survived e y que contém só os valores de Survived (resultado esperado), os dados serão divididos nos dataset's de treino e teste. O modelo será treinado pelo algoritmo de classificação usando o X_train e y_train. Depois que o modelo estiver pronto, eles serão usados para classificar o teste."
   ]
  },
  {
   "cell_type": "code",
   "execution_count": 52,
   "metadata": {
    "collapsed": true
   },
   "outputs": [],
   "source": [
    "# Divide as matrizes em teste e treino\n",
    "X_train, X_test, y_train, y_test = model_selection.train_test_split(X,y,test_size=0.2)"
   ]
  },
  {
   "cell_type": "markdown",
   "metadata": {},
   "source": [
    "Treinando o modelo:"
   ]
  },
  {
   "cell_type": "code",
   "execution_count": 53,
   "metadata": {
    "collapsed": false
   },
   "outputs": [
    {
     "data": {
      "text/plain": [
       "DecisionTreeClassifier(class_weight=None, criterion='gini', max_depth=5,\n",
       "            max_features=None, max_leaf_nodes=None,\n",
       "            min_impurity_split=1e-07, min_samples_leaf=1,\n",
       "            min_samples_split=2, min_weight_fraction_leaf=0.0,\n",
       "            presort=False, random_state=None, splitter='best')"
      ]
     },
     "execution_count": 53,
     "metadata": {},
     "output_type": "execute_result"
    }
   ],
   "source": [
    "# Cria o objeto Decision Tree\n",
    "clf_dt = tree.DecisionTreeClassifier(max_depth=5)\n",
    "\n",
    "# Treinando o modelo\n",
    "clf_dt.fit(X_train, y_train)"
   ]
  },
  {
   "cell_type": "markdown",
   "metadata": {},
   "source": [
    "** Acurácia média dos dados de teste **"
   ]
  },
  {
   "cell_type": "code",
   "execution_count": 54,
   "metadata": {
    "collapsed": false
   },
   "outputs": [
    {
     "data": {
      "text/plain": [
       "0.8044692737430168"
      ]
     },
     "execution_count": 54,
     "metadata": {},
     "output_type": "execute_result"
    }
   ],
   "source": [
    "# Verifica a precisao do modelo.\n",
    "clf_dt.score (X_test, y_test)"
   ]
  },
  {
   "cell_type": "markdown",
   "metadata": {},
   "source": [
    "O modelo da árvore de decisão conseguiu prever a sobrevivência de no mínimo 81% dos dados.\n",
    "\n",
    "** Dados simulados **\n",
    "\n",
    "Com base nas informações que já verificamos até aqui, vamos testar o modelo inserindo dados simulados da passageira principal (Jovem adulta, 2º classe), faremos a variação da classe para esta mesma passageira e incluiremos mais dois passageiros que estão em um grupo com baixa taxa de sobrevivência. Será que o resultado será similar ao da análise exploratória?\n",
    "\n",
    "Conjunto que testaremos:\n",
    "\n",
    "| Pclass |  Sex    | Age | Fare | AgeRange   |\n",
    "|--------|---------|-----|------|------------|\n",
    "|  1     |Feminino | 32  | 109  |Jovem Adulto|\n",
    "|  2     |Feminino | 32  | 21   |Jovem Adulto|\n",
    "|  3     |Feminino | 32  | 14   |Jovem Adulto|\n",
    "|  3     |Masculino| 80  | 23   |Idoso       |\n",
    "|  2     |Masculino| 32  | 8    |Jovem Adulto|"
   ]
  },
  {
   "cell_type": "code",
   "execution_count": 55,
   "metadata": {
    "collapsed": false
   },
   "outputs": [
    {
     "data": {
      "text/plain": [
       "array([1, 1, 0, 0, 0], dtype=int64)"
      ]
     },
     "execution_count": 55,
     "metadata": {},
     "output_type": "execute_result"
    }
   ],
   "source": [
    "# Cria dataset com as informações dos passageiros simulados\n",
    "# Features: Pclass, Sex, Age, Fare, Family, AgeRange\n",
    "passageiros_simulados = [[1, 0, 32, 109, 0, 4],\n",
    "                         [2, 0, 32, 21, 0, 4],\n",
    "                         [3, 0, 32, 14, 0, 4],\n",
    "                         [3, 1, 80, 23, 5, 3],\n",
    "                         [2, 1, 32, 8, 0, 4]]\n",
    "\n",
    "# Predição para o conjunto de dados simulados\n",
    "clf_dt.predict(passageiros_simulados)"
   ]
  },
  {
   "cell_type": "markdown",
   "metadata": {},
   "source": [
    "Relembrando: 0 - Morreu, 1 - Sobreviveu\n",
    "\n",
    "Que interessante! O resultado obtido com o modelo Decision Tree prevê que uma jovem adulta, na 1º ou 2º classe sobreviveria.\n",
    "Já para a 3º classe não foi predito sobrevivência.\n",
    "Para testar a \"competência\" do modelo em prever resultados, mudei o sexo da passageira principal, porque na fase de análise os homens tiveram uma taxa de sobrevivência menor, e como era de se esperar, o modelo previu a morte para ele. Cruel, mas dentro da expectativa. Sem surpresas nenhuma também, foi prevista a morte para nosso passageiro de 80 anos."
   ]
  },
  {
   "cell_type": "markdown",
   "metadata": {},
   "source": [
    "Gerando o arquivo.dot com as decisões do modelo Decision Tree:"
   ]
  },
  {
   "cell_type": "code",
   "execution_count": 57,
   "metadata": {
    "collapsed": false
   },
   "outputs": [],
   "source": [
    "#Gera a representação GraphViz da decision tree. O dado é gravado no arquivo titanic_tree.dot\n",
    "#Os dados podem ser visualizados graficamente em http://www.webgraphviz.com/\n",
    "tree.export_graphviz(clf_dt, out_file='titanic_tree.dot', feature_names=processed_df.columns[1:])"
   ]
  },
  {
   "cell_type": "markdown",
   "metadata": {},
   "source": [
    "O arquivo 'titanic_tree.dot' está no github: https://github.com/liebycardoso/Intro_Data_Analysis"
   ]
  },
  {
   "cell_type": "markdown",
   "metadata": {},
   "source": [
    "A fim de facilitar a visualização, foi gerado a representação GraphViz da decision tree com max_depth=5.\n",
    "\n",
    "![alt text](Tree_depth5.jpg \"tree\")"
   ]
  },
  {
   "cell_type": "markdown",
   "metadata": {},
   "source": [
    "- A árvore começa decidindo entre homens e mulheres (Sex <= 0.5).\n",
    "- O ramo que nos interessa é o True porque as mulheres são representadas pelo valor 0.\n",
    "- Na sequência ele avalia a classe (Pclass <= 2.5), o que inclui a 2º classe.\n",
    "- Em outro nó ele seleciona Fare <= 22.90, o que estamos pesquisando também está incluído nessa amostra porque o preço médio da passagem de uma jovem mulher na segunda classe é 21.15.\n",
    "- Também é avaliado Age <= 36.5 e em outro ramo segue avaliando Family <= 1.5\n",
    "- Para esse grupo também avalia Fare e Age. \n",
    "- O coeficiente de Gini nas decisões atinge no máximo 0.5 demonstrando uma tendência a igualdade da amostra."
   ]
  },
  {
   "cell_type": "markdown",
   "metadata": {},
   "source": [
    "** Utilizando o modelo Random Forest **\n",
    "\n",
    " O decisionTree é um modelo simples de árvore de decisão, vou treinar os dados no random forest também porque ele vai decidir utilizando múltiplas árvores e retornar o resultado mais comum entre elas."
   ]
  },
  {
   "cell_type": "code",
   "execution_count": 58,
   "metadata": {
    "collapsed": false
   },
   "outputs": [
    {
     "data": {
      "text/plain": [
       "RandomForestClassifier(bootstrap=True, class_weight=None, criterion='gini',\n",
       "            max_depth=None, max_features='auto', max_leaf_nodes=None,\n",
       "            min_impurity_split=1e-07, min_samples_leaf=1,\n",
       "            min_samples_split=2, min_weight_fraction_leaf=0.0,\n",
       "            n_estimators=100, n_jobs=1, oob_score=True, random_state=None,\n",
       "            verbose=0, warm_start=False)"
      ]
     },
     "execution_count": 58,
     "metadata": {},
     "output_type": "execute_result"
    }
   ],
   "source": [
    "# Cria o objeto Random Forest\n",
    "clf_rf = RandomForestClassifier(n_estimators=100, oob_score=True)\n",
    "\n",
    "# Treina o modelo de dados da mesma forma que foi feito para o DecisionTreeClassifier \n",
    "clf_rf.fit(X_train, y_train)"
   ]
  },
  {
   "cell_type": "markdown",
   "metadata": {},
   "source": [
    "** Prevendo o resultado **"
   ]
  },
  {
   "cell_type": "code",
   "execution_count": 59,
   "metadata": {
    "collapsed": true
   },
   "outputs": [],
   "source": [
    "# Prediz o resultado\n",
    "Y_pred = clf_rf.predict(X_test)"
   ]
  },
  {
   "cell_type": "code",
   "execution_count": 60,
   "metadata": {
    "collapsed": false
   },
   "outputs": [
    {
     "data": {
      "text/plain": [
       "0.9845505617977528"
      ]
     },
     "execution_count": 60,
     "metadata": {},
     "output_type": "execute_result"
    }
   ],
   "source": [
    "# Verifica a precisão do modelo.\n",
    "clf_rf.score(X_train, y_train)"
   ]
  },
  {
   "cell_type": "markdown",
   "metadata": {
    "collapsed": true
   },
   "source": [
    "Neste caso é possível prever a sobrevivência com 98% de precisão."
   ]
  },
  {
   "cell_type": "code",
   "execution_count": 61,
   "metadata": {
    "collapsed": false
   },
   "outputs": [
    {
     "data": {
      "text/plain": [
       "0.8103932584269663"
      ]
     },
     "execution_count": 61,
     "metadata": {},
     "output_type": "execute_result"
    }
   ],
   "source": [
    "# Estimatica do out-of-bag (oob) error: 81%\n",
    "clf_rf.oob_score_"
   ]
  },
  {
   "cell_type": "markdown",
   "metadata": {},
   "source": [
    "###  Usando os dados simulados para prever o resultado com o Random Forest\n",
    "\n",
    "Vamor testar o mesmo conjunto de dados usado com o Decision Tree para prever o resultado com o Random Forest. Dessa forma conseguiremos comparar o resultado dos dois."
   ]
  },
  {
   "cell_type": "code",
   "execution_count": 62,
   "metadata": {
    "collapsed": false
   },
   "outputs": [
    {
     "data": {
      "text/plain": [
       "array([1, 1, 1, 0, 0], dtype=int64)"
      ]
     },
     "execution_count": 62,
     "metadata": {},
     "output_type": "execute_result"
    }
   ],
   "source": [
    "# Predição para o conjunto de dados simulados\n",
    "clf_rf.predict(passageiros_simulados)"
   ]
  },
  {
   "cell_type": "markdown",
   "metadata": {},
   "source": [
    "** Comparativo entre o resultado do Decision Tree e Random Forest: **\n",
    "\n",
    "| Pclass |  Sex    | Age | Fare | AgeRange   | Decision Tree | Random Forest|\n",
    "|--------|---------|-----|------|------------|---------------|--------------|\n",
    "|  1     |Feminino | 32  | 20   |Jovem Adulto|  Sobreviveu   | Sobreviveu   |\n",
    "|  2     |Feminino | 32  | 20   |Jovem Adulto|  Sobreviveu   | Sobreviveu   |\n",
    "|  3     |Feminino | 32  | 20   |Jovem Adulto|  Sobreviveu   | Sobreviveu   |\n",
    "|  3     |Masculino| 80  | 20   |Idoso       |  Morreu       | Morreu       |\n",
    "|  2     |Masculino| 32  | 20   |Jovem Adulto|  Morreu       | Morreu       |"
   ]
  },
  {
   "cell_type": "markdown",
   "metadata": {},
   "source": [
    "Os dois modelos previram o mesmo resultado para o mesmo conjunto de dados. E o mais interessante é que este resultado está em consonância com as conclusões que tivemos durante a análise dos dados.\n",
    "Mulher, Jovem Adulta, tanto na 1º ou na 2º classe apresentaram uma boa probabilidade de sobrevivência nos modelos e na análise exploratória. \n",
    "Para os homens o resultado também está de acordo com a análise, já que a todo tempo a taxa de sobrevência para eles mostrou-se baixa."
   ]
  },
  {
   "cell_type": "markdown",
   "metadata": {},
   "source": [
    "** A importância de cada coluna na obtenção do resultado **\n",
    "\n",
    "Abaixo será listado por ordem de importância cada variável (feature) usada no modelo."
   ]
  },
  {
   "cell_type": "code",
   "execution_count": 63,
   "metadata": {
    "collapsed": false
   },
   "outputs": [
    {
     "data": {
      "text/plain": [
       "Fare        0.287102\n",
       "Sex         0.265348\n",
       "Age         0.248660\n",
       "Pclass      0.084965\n",
       "Family      0.079919\n",
       "AgeRange    0.034005\n",
       "dtype: float64"
      ]
     },
     "execution_count": 63,
     "metadata": {},
     "output_type": "execute_result"
    }
   ],
   "source": [
    "feat_importance = pd.Series(clf_rf.feature_importances_, index=processed_df.drop(['Survived'], axis=1).columns)\n",
    "feat_importance.sort_values(ascending=False)"
   ]
  },
  {
   "cell_type": "markdown",
   "metadata": {},
   "source": [
    "Gráfico com a importância de cada feature:"
   ]
  },
  {
   "cell_type": "code",
   "execution_count": 64,
   "metadata": {
    "collapsed": false
   },
   "outputs": [
    {
     "data": {
      "text/plain": [
       "<matplotlib.text.Text at 0x13f20780>"
      ]
     },
     "execution_count": 64,
     "metadata": {},
     "output_type": "execute_result"
    },
    {
     "data": {
      "image/png": "[encoded data removed]",
      "text/plain": [
       "<matplotlib.figure.Figure at 0x13b347b8>"
      ]
     },
     "metadata": {},
     "output_type": "display_data"
    }
   ],
   "source": [
    "plt.barh(np.arange(len(feat_importance)), feat_importance, alpha=0.7)\n",
    "plt.yticks(np.arange(.5,len(feat_importance),1), feat_importance.index)\n",
    "plt.xlabel('Importancia')\n",
    "plt.ylabel('Variavel')\n",
    "plt.title('Importancia de cada variavel')"
   ]
  },
  {
   "cell_type": "markdown",
   "metadata": {},
   "source": [
    "A hierarquia de importância de cada variável é bem próxima da obtida na correlação de pearson. Sendo Fare, Sex e Age as mais correlacionadas com os dados."
   ]
  },
  {
   "cell_type": "markdown",
   "metadata": {},
   "source": [
    "## Comparando o resultado - Titanic_df vs Y_pred\n",
    "\n",
    "Será criado um dataframe com a predição (Y_pred) e os valores do X_test. É um dataframe com o objetivo de simular o resultado do titanic_df."
   ]
  },
  {
   "cell_type": "code",
   "execution_count": 65,
   "metadata": {
    "collapsed": true
   },
   "outputs": [],
   "source": [
    "# Cria o dataframe\n",
    "predicao_df = pd.DataFrame(X_test, columns=['Pclass','Sex', 'Age', 'Fare', 'Family','AgeRange'])\n",
    "predicao_df['Predict'] = Y_pred\n",
    "predicao_df['Survived'] = y_test"
   ]
  },
  {
   "cell_type": "code",
   "execution_count": 66,
   "metadata": {
    "collapsed": false
   },
   "outputs": [
    {
     "data": {
      "text/html": [
       "<div>\n",
       "<table border=\"1\" class=\"dataframe\">\n",
       "  <thead>\n",
       "    <tr style=\"text-align: right;\">\n",
       "      <th></th>\n",
       "      <th>Pclass</th>\n",
       "      <th>Sex</th>\n",
       "      <th>Age</th>\n",
       "      <th>Fare</th>\n",
       "      <th>Family</th>\n",
       "      <th>AgeRange</th>\n",
       "      <th>Predict</th>\n",
       "      <th>Survived</th>\n",
       "    </tr>\n",
       "  </thead>\n",
       "  <tbody>\n",
       "    <tr>\n",
       "      <th>0</th>\n",
       "      <td>3.0</td>\n",
       "      <td>1.0</td>\n",
       "      <td>26.0</td>\n",
       "      <td>7.8542</td>\n",
       "      <td>1.0</td>\n",
       "      <td>4.0</td>\n",
       "      <td>0</td>\n",
       "      <td>0</td>\n",
       "    </tr>\n",
       "    <tr>\n",
       "      <th>1</th>\n",
       "      <td>3.0</td>\n",
       "      <td>0.0</td>\n",
       "      <td>20.0</td>\n",
       "      <td>8.6625</td>\n",
       "      <td>0.0</td>\n",
       "      <td>4.0</td>\n",
       "      <td>0</td>\n",
       "      <td>0</td>\n",
       "    </tr>\n",
       "    <tr>\n",
       "      <th>2</th>\n",
       "      <td>1.0</td>\n",
       "      <td>1.0</td>\n",
       "      <td>42.0</td>\n",
       "      <td>26.2875</td>\n",
       "      <td>0.0</td>\n",
       "      <td>1.0</td>\n",
       "      <td>1</td>\n",
       "      <td>1</td>\n",
       "    </tr>\n",
       "    <tr>\n",
       "      <th>3</th>\n",
       "      <td>2.0</td>\n",
       "      <td>0.0</td>\n",
       "      <td>34.0</td>\n",
       "      <td>13.0000</td>\n",
       "      <td>0.0</td>\n",
       "      <td>1.0</td>\n",
       "      <td>1</td>\n",
       "      <td>1</td>\n",
       "    </tr>\n",
       "    <tr>\n",
       "      <th>4</th>\n",
       "      <td>1.0</td>\n",
       "      <td>0.0</td>\n",
       "      <td>30.0</td>\n",
       "      <td>56.9292</td>\n",
       "      <td>0.0</td>\n",
       "      <td>4.0</td>\n",
       "      <td>1</td>\n",
       "      <td>1</td>\n",
       "    </tr>\n",
       "  </tbody>\n",
       "</table>\n",
       "</div>"
      ],
      "text/plain": [
       "   Pclass  Sex   Age     Fare  Family  AgeRange  Predict  Survived\n",
       "0     3.0  1.0  26.0   7.8542     1.0       4.0        0         0\n",
       "1     3.0  0.0  20.0   8.6625     0.0       4.0        0         0\n",
       "2     1.0  1.0  42.0  26.2875     0.0       1.0        1         1\n",
       "3     2.0  0.0  34.0  13.0000     0.0       1.0        1         1\n",
       "4     1.0  0.0  30.0  56.9292     0.0       4.0        1         1"
      ]
     },
     "execution_count": 66,
     "metadata": {},
     "output_type": "execute_result"
    }
   ],
   "source": [
    "predicao_df.head()"
   ]
  },
  {
   "cell_type": "markdown",
   "metadata": {},
   "source": [
    "Verificando os valores para a nova coluna Predict:"
   ]
  },
  {
   "cell_type": "code",
   "execution_count": 67,
   "metadata": {
    "collapsed": false
   },
   "outputs": [
    {
     "data": {
      "text/html": [
       "<div>\n",
       "<table border=\"1\" class=\"dataframe\">\n",
       "  <thead>\n",
       "    <tr style=\"text-align: right;\">\n",
       "      <th></th>\n",
       "      <th>Pclass</th>\n",
       "      <th>Sex</th>\n",
       "      <th>Age</th>\n",
       "      <th>Fare</th>\n",
       "      <th>Family</th>\n",
       "      <th>AgeRange</th>\n",
       "      <th>Survived</th>\n",
       "    </tr>\n",
       "    <tr>\n",
       "      <th>Predict</th>\n",
       "      <th></th>\n",
       "      <th></th>\n",
       "      <th></th>\n",
       "      <th></th>\n",
       "      <th></th>\n",
       "      <th></th>\n",
       "      <th></th>\n",
       "    </tr>\n",
       "  </thead>\n",
       "  <tbody>\n",
       "    <tr>\n",
       "      <th>0</th>\n",
       "      <td>2.538462</td>\n",
       "      <td>0.837607</td>\n",
       "      <td>29.595530</td>\n",
       "      <td>20.662680</td>\n",
       "      <td>0.735043</td>\n",
       "      <td>2.888889</td>\n",
       "      <td>0.188034</td>\n",
       "    </tr>\n",
       "    <tr>\n",
       "      <th>1</th>\n",
       "      <td>1.854839</td>\n",
       "      <td>0.145161</td>\n",
       "      <td>31.785678</td>\n",
       "      <td>39.957124</td>\n",
       "      <td>0.709677</td>\n",
       "      <td>2.790323</td>\n",
       "      <td>0.774194</td>\n",
       "    </tr>\n",
       "  </tbody>\n",
       "</table>\n",
       "</div>"
      ],
      "text/plain": [
       "           Pclass       Sex        Age       Fare    Family  AgeRange  \\\n",
       "Predict                                                                 \n",
       "0        2.538462  0.837607  29.595530  20.662680  0.735043  2.888889   \n",
       "1        1.854839  0.145161  31.785678  39.957124  0.709677  2.790323   \n",
       "\n",
       "         Survived  \n",
       "Predict            \n",
       "0        0.188034  \n",
       "1        0.774194  "
      ]
     },
     "execution_count": 67,
     "metadata": {},
     "output_type": "execute_result"
    }
   ],
   "source": [
    "predicao_df.groupby(['Predict']).mean()"
   ]
  },
  {
   "cell_type": "markdown",
   "metadata": {},
   "source": [
    "O mesmo agrupamento, só que utilizando o titanic_df:"
   ]
  },
  {
   "cell_type": "code",
   "execution_count": 68,
   "metadata": {
    "collapsed": false
   },
   "outputs": [
    {
     "data": {
      "text/html": [
       "<div>\n",
       "<table border=\"1\" class=\"dataframe\">\n",
       "  <thead>\n",
       "    <tr style=\"text-align: right;\">\n",
       "      <th></th>\n",
       "      <th>Pclass</th>\n",
       "      <th>Age</th>\n",
       "      <th>Fare</th>\n",
       "      <th>Family</th>\n",
       "      <th>SexInt</th>\n",
       "    </tr>\n",
       "    <tr>\n",
       "      <th>Survived</th>\n",
       "      <th></th>\n",
       "      <th></th>\n",
       "      <th></th>\n",
       "      <th></th>\n",
       "      <th></th>\n",
       "    </tr>\n",
       "  </thead>\n",
       "  <tbody>\n",
       "    <tr>\n",
       "      <th>0</th>\n",
       "      <td>2.531876</td>\n",
       "      <td>30.415100</td>\n",
       "      <td>22.917716</td>\n",
       "      <td>0.883424</td>\n",
       "      <td>0.852459</td>\n",
       "    </tr>\n",
       "    <tr>\n",
       "      <th>1</th>\n",
       "      <td>1.950292</td>\n",
       "      <td>28.549778</td>\n",
       "      <td>46.300019</td>\n",
       "      <td>0.938596</td>\n",
       "      <td>0.318713</td>\n",
       "    </tr>\n",
       "  </tbody>\n",
       "</table>\n",
       "</div>"
      ],
      "text/plain": [
       "            Pclass        Age       Fare    Family    SexInt\n",
       "Survived                                                    \n",
       "0         2.531876  30.415100  22.917716  0.883424  0.852459\n",
       "1         1.950292  28.549778  46.300019  0.938596  0.318713"
      ]
     },
     "execution_count": 68,
     "metadata": {},
     "output_type": "execute_result"
    }
   ],
   "source": [
    "titanic_df.groupby(['Survived']).mean()"
   ]
  },
  {
   "cell_type": "markdown",
   "metadata": {},
   "source": [
    "Como pode ser percebido, os valores são bem aproximados. Por exemplo:\n",
    "- Para os sobreviventes a idade média era 29 e no modelo predito foi 32;\n",
    "- Para os sobreviventes o valor médio da passagem era 46 e no modelo predito foi 40;"
   ]
  },
  {
   "cell_type": "markdown",
   "metadata": {},
   "source": [
    "Para facilitar a análise, vou plotar novamente Sex/Age/Pclass para os passageiros sobreviventes.\n",
    "Primeiro será impresso os dados dos passageiros do titanic_df e na sequencia do predicao_df."
   ]
  },
  {
   "cell_type": "code",
   "execution_count": 69,
   "metadata": {
    "collapsed": false
   },
   "outputs": [
    {
     "data": {
      "text/plain": [
       "<matplotlib.text.Text at 0x14828518>"
      ]
     },
     "execution_count": 69,
     "metadata": {},
     "output_type": "execute_result"
    },
    {
     "data": {
      "image/png": "[encoded data removed]",
      "text/plain": [
       "<matplotlib.figure.Figure at 0x13077048>"
      ]
     },
     "metadata": {},
     "output_type": "display_data"
    },
    {
     "data": {
      "image/png": "[encoded data removed]",
      "text/plain": [
       "<matplotlib.figure.Figure at 0x14301f60>"
      ]
     },
     "metadata": {},
     "output_type": "display_data"
    }
   ],
   "source": [
    "# Imprime gráfico com o bloxpot da idade média por genero e classe no dataframe original titanic_df\n",
    "sb.factorplot(x=\"Sex\", y=\"Age\", hue=\"Pclass\",\n",
    "               col=\"Pclass\", data=sobreviventes, kind=\"box\", size=4, aspect=.5)\n",
    "\n",
    "plt.title(\"Dados titanic_df\")  \n",
    "\n",
    "# Imprime gráfico com o bloxpot da idade média por genero e classe no dataframe predicao_df\n",
    "predicao_sobrevivente = predicao_df[predicao_df['Predict']==1]\n",
    "sb.factorplot(x=\"Sex\", y=\"Age\", hue=\"Pclass\",\n",
    "               col=\"Pclass\", data=predicao_df, kind=\"box\", size=4, aspect=.5)\n",
    "plt.title(\"Dados predicao_df\")  "
   ]
  },
  {
   "cell_type": "code",
   "execution_count": 70,
   "metadata": {
    "collapsed": false
   },
   "outputs": [
    {
     "data": {
      "text/plain": [
       "Sex  Pclass  Predict\n",
       "0.0  1.0     1          35.923478\n",
       "     2.0     1          31.921701\n",
       "     3.0     0          24.462972\n",
       "             1          27.245747\n",
       "1.0  1.0     0          43.633235\n",
       "             1          30.659874\n",
       "     2.0     0          32.105458\n",
       "     3.0     0          26.364260\n",
       "             1          28.500000\n",
       "Name: Age, dtype: float64"
      ]
     },
     "execution_count": 70,
     "metadata": {},
     "output_type": "execute_result"
    }
   ],
   "source": [
    "# Média para o grupo\n",
    "predicao_df.groupby(['Sex','Pclass','Predict']).mean()['Age']"
   ]
  },
  {
   "cell_type": "code",
   "execution_count": 71,
   "metadata": {
    "collapsed": false
   },
   "outputs": [
    {
     "data": {
      "text/html": [
       "<div>\n",
       "<table border=\"1\" class=\"dataframe\">\n",
       "  <thead>\n",
       "    <tr style=\"text-align: right;\">\n",
       "      <th></th>\n",
       "      <th>Predict</th>\n",
       "      <th>0</th>\n",
       "      <th>1</th>\n",
       "    </tr>\n",
       "    <tr>\n",
       "      <th>Sex</th>\n",
       "      <th>Pclass</th>\n",
       "      <th></th>\n",
       "      <th></th>\n",
       "    </tr>\n",
       "  </thead>\n",
       "  <tbody>\n",
       "    <tr>\n",
       "      <th rowspan=\"3\" valign=\"top\">0.0</th>\n",
       "      <th>1.0</th>\n",
       "      <td>NaN</td>\n",
       "      <td>17.0</td>\n",
       "    </tr>\n",
       "    <tr>\n",
       "      <th>2.0</th>\n",
       "      <td>NaN</td>\n",
       "      <td>23.0</td>\n",
       "    </tr>\n",
       "    <tr>\n",
       "      <th>3.0</th>\n",
       "      <td>19.0</td>\n",
       "      <td>13.0</td>\n",
       "    </tr>\n",
       "    <tr>\n",
       "      <th rowspan=\"3\" valign=\"top\">1.0</th>\n",
       "      <th>1.0</th>\n",
       "      <td>18.0</td>\n",
       "      <td>7.0</td>\n",
       "    </tr>\n",
       "    <tr>\n",
       "      <th>2.0</th>\n",
       "      <td>18.0</td>\n",
       "      <td>NaN</td>\n",
       "    </tr>\n",
       "    <tr>\n",
       "      <th>3.0</th>\n",
       "      <td>62.0</td>\n",
       "      <td>2.0</td>\n",
       "    </tr>\n",
       "  </tbody>\n",
       "</table>\n",
       "</div>"
      ],
      "text/plain": [
       "Predict        0     1\n",
       "Sex Pclass            \n",
       "0.0 1.0      NaN  17.0\n",
       "    2.0      NaN  23.0\n",
       "    3.0     19.0  13.0\n",
       "1.0 1.0     18.0   7.0\n",
       "    2.0     18.0   NaN\n",
       "    3.0     62.0   2.0"
      ]
     },
     "execution_count": 71,
     "metadata": {},
     "output_type": "execute_result"
    }
   ],
   "source": [
    "# Total de sobreviventes por Sex/Pclass\n",
    "predicao_df.groupby(['Sex','Pclass','Predict']).count()['Age'].unstack()"
   ]
  },
  {
   "cell_type": "markdown",
   "metadata": {},
   "source": [
    "Analisando a tabela acima conseguimos perceber que o modelo previu a sobrevivência para todas as passageiras da 1º e 2º Classes.\n",
    "\n",
    "Filtros:\n",
    "- Sex = 0\n",
    "- Pclass = 1 e 2\n",
    "- Predict = 0(Mortos): Nenhum valor - NaN\n",
    "- Predict = 1(Sobreviventes): 24 + 17"
   ]
  },
  {
   "cell_type": "markdown",
   "metadata": {},
   "source": [
    "## Conclusão"
   ]
  },
  {
   "cell_type": "markdown",
   "metadata": {},
   "source": [
    "Na predição, apesar da média de idade das mulheres sobreviventes na 2º classe ter reduzido de 36 para 32, a idade ainda está na faixa dos Jovens Adultos e para as 18 ocorrências a predição foi sobrevivência. Em qualquer uma das duas análises há grande chance de sobrevivência para uma Jovem Adulta na 2º Classe. "
   ]
  },
  {
   "cell_type": "markdown",
   "metadata": {},
   "source": [
    "## Limitações da análise"
   ]
  },
  {
   "cell_type": "markdown",
   "metadata": {},
   "source": [
    "As observações, constatações e resultados não representam a realidade dos fatos porque  estamos trabalhando somente com uma amostra incompleta dos dados.\n",
    " \n",
    "A amostra tem informações sobre 891 passageiros e é sabido que 2.223 pessoas estavam a bordo do Titanic. A soma de mortos é superior ao tamanho da amostra:\n",
    "832 – passageiros mortos\n",
    "685 – membros da tripulação mortos\n",
    "706 – sobreviventes, entre passageiros e tripulação\n",
    " \n",
    "Uma outra limitação da análise são os valores que foram assumidos no lugar dos valores ausentes que possivelmente afetaram o resultado final. Algumas informações que foram criadas para auxiliar a análise:\n",
    " \n",
    "1)Idade: \n",
    "Os valores nulos foram substituidos pela média geral da coluna Age\n",
    "\n",
    "2)Preço da passagem: \n",
    "O maior valor da passagem estava muito distante do segundo maior valor, então substituí o maior valor pelo segundo maior.\n",
    "Os valores zerados foram substituídos pela média geral da coluna Fare. \n",
    "\n",
    "A coluna Cabin foi excluída da análise por ter muitos valores nulos, mas os valores desta variável sugerem um padrão que pode ser investigado numa nova análise. O mesmo acontece com a informação do tratamento dado ao passageiro (Miss, Mrs, Mr e etc.), será que conseguimos estabelecer um padrão também para esta coluna? E este tratamento ajudaria na previsão dos resultados? Estas são algumas perguntas que não foram respondidas aqui e que por terem sido ocultadas, podem ter interferido no resultado final.\n",
    "\n",
    "Um  fator muito importante é que os dados referem-se a seres humanos e seu comportamento e decisões no momento de risco contam com muitas variáveis que são desconhecidas por este análise. Por exemplo, os sobreviventes relatam a dificuldade em convencer alguns passageiros a embarcar, imagino que algumas mulheres tiveram dificuldades de deixar seus maridos e filhos mais velhos, talvez elas nem tenham deixado. O entendimento incorreto das ordem do capitão fez com que alguns homens em determinada localização do navio fossem autorizados a embarcar e do outro lado não. \n",
    "\n",
    "Por tantas existirem tantas variáveis e a falta de algumas informações não podemos atribuir um valor estatítico a este trabalho.\n",
    "https://pt.wikipedia.org/wiki/RMS_Titanic\n"
   ]
  },
  {
   "cell_type": "markdown",
   "metadata": {},
   "source": [
    "### BIBLIOGRAFIA\n",
    "\n",
    "- Wes McKinney; Python for Data Analysis: Data Wrangling with Pandas, NumPy, and IPython\n",
    "\n",
    "Sites consultados:\n",
    "- http://blog.socialcops.com/engineering/machine-learning-python\n",
    "- http://developers.hekima.com/machine%20learning/python/2016/05/17/churn-prediction/\n",
    "- http://hamelg.blogspot.com.br/2015/11/python-for-data-analysis-part-14.html\n",
    "- http://nbviewer.jupyter.org/github/agconti/US_Dollar_Vehicle_Currency/blob/master/US_Dollar_Vehicle_Currency.ipynb\n",
    "- http://nbviewer.jupyter.org/github/jrjohansson/scientific-python-lectures/blob/master/Lecture-4-Matplotlib.ipynb\n",
    "- http://scott.fortmann-roe.com/docs/BiasVariance.html\n",
    "- http://stackoverflow.com/questions/36288352/how-to-get-pandas-kde-density-with-horizontal-orientation\n",
    "- http://work.caltech.edu/library/014.html\n",
    "- http://work.caltech.edu/library/index.html\n",
    "- http://www.r2d3.us/visual-intro-to-machine-learning-part-1/\n",
    "- http://www.reshamsarkar.com/projects/2016/3/30/titanic-trauma-data-cleaning-and-munging\n",
    "- http://www.ultravioletanalytics.com/2014/11/03/kaggle-titanic-competition-part-ii-missing-values/\n",
    "- https://github.com/agconti/kaggle-titanic/blob/master/Titanic.ipynb\n",
    "- https://github.com/justmarkham/scikit-learn-videos\n",
    "- https://www.dataquest.io/mission/3/list-operations\n",
    "- https://www.kaggle.com/c/titanic\n",
    "- https://www.youtube.com/watch?v=0GrciaGYzV0\n",
    "- http://www.sbmac.org.br/cmacs/cmac-ne/2012/trabalhos/PDF/122.pdf\n",
    "- http://chrisstrelioff.ws/sandbox/2015/06/08/decision_trees_in_python_with_scikit_learn_and_pandas.html"
   ]
  }
 ],
 "metadata": {
  "anaconda-cloud": {},
  "kernelspec": {
   "display_name": "Python [Root]",
   "language": "python",
   "name": "Python [Root]"
  },
  "language_info": {
   "codemirror_mode": {
    "name": "ipython",
    "version": 2
   },
   "file_extension": ".py",
   "mimetype": "text/x-python",
   "name": "python",
   "nbconvert_exporter": "python",
   "pygments_lexer": "ipython2",
   "version": "2.7.11"
  }
 },
 "nbformat": 4,
 "nbformat_minor": 0
}
