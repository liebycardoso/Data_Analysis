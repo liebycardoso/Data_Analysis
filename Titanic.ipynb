{
 "cells": [
  {
   "cell_type": "markdown",
   "metadata": {},
   "source": [
    "# <font color='DarkSlateBlue'>Intro Data Analysis</font> \n",
    "\n",
    "## <font color='NavyBlue'>Titanic Data</font>\n",
    "\n",
    "### <font color='Red'> Eu, mulher, jovem adulta, na 2º classe sobreviveria?</font>"
   ]
  },
  {
   "cell_type": "code",
   "execution_count": 1,
   "metadata": {
    "collapsed": true
   },
   "outputs": [],
   "source": [
    "#importando as bibliotecas\n",
    "import matplotlib.pyplot as plt\n",
    "%matplotlib inline\n",
    "import seaborn as sb\n",
    "import pandas as pd\n",
    "import numpy as np\n"
   ]
  },
  {
   "cell_type": "code",
   "execution_count": 2,
   "metadata": {
    "collapsed": true
   },
   "outputs": [],
   "source": [
    "#Machine learning\n",
    "from sklearn.ensemble import RandomForestClassifier\n",
    "from sklearn import preprocessing\n",
    "from sklearn import datasets, svm, model_selection, tree, preprocessing, metrics"
   ]
  },
  {
   "cell_type": "code",
   "execution_count": 3,
   "metadata": {
    "collapsed": true
   },
   "outputs": [],
   "source": [
    "filename = 'C:/Nanodegree/Intro_Data_Analys/titanic_data.csv'\n",
    "titanic_df = pd.read_csv(filename, header=0)"
   ]
  },
  {
   "cell_type": "code",
   "execution_count": 4,
   "metadata": {
    "collapsed": false
   },
   "outputs": [
    {
     "data": {
      "text/html": [
       "<div>\n",
       "<table border=\"1\" class=\"dataframe\">\n",
       "  <thead>\n",
       "    <tr style=\"text-align: right;\">\n",
       "      <th></th>\n",
       "      <th>PassengerId</th>\n",
       "      <th>Survived</th>\n",
       "      <th>Pclass</th>\n",
       "      <th>Name</th>\n",
       "      <th>Sex</th>\n",
       "      <th>Age</th>\n",
       "      <th>SibSp</th>\n",
       "      <th>Parch</th>\n",
       "      <th>Ticket</th>\n",
       "      <th>Fare</th>\n",
       "      <th>Cabin</th>\n",
       "      <th>Embarked</th>\n",
       "    </tr>\n",
       "  </thead>\n",
       "  <tbody>\n",
       "    <tr>\n",
       "      <th>0</th>\n",
       "      <td>1</td>\n",
       "      <td>0</td>\n",
       "      <td>3</td>\n",
       "      <td>Braund, Mr. Owen Harris</td>\n",
       "      <td>male</td>\n",
       "      <td>22.0</td>\n",
       "      <td>1</td>\n",
       "      <td>0</td>\n",
       "      <td>A/5 21171</td>\n",
       "      <td>7.2500</td>\n",
       "      <td>NaN</td>\n",
       "      <td>S</td>\n",
       "    </tr>\n",
       "    <tr>\n",
       "      <th>1</th>\n",
       "      <td>2</td>\n",
       "      <td>1</td>\n",
       "      <td>1</td>\n",
       "      <td>Cumings, Mrs. John Bradley (Florence Briggs Th...</td>\n",
       "      <td>female</td>\n",
       "      <td>38.0</td>\n",
       "      <td>1</td>\n",
       "      <td>0</td>\n",
       "      <td>PC 17599</td>\n",
       "      <td>71.2833</td>\n",
       "      <td>C85</td>\n",
       "      <td>C</td>\n",
       "    </tr>\n",
       "    <tr>\n",
       "      <th>2</th>\n",
       "      <td>3</td>\n",
       "      <td>1</td>\n",
       "      <td>3</td>\n",
       "      <td>Heikkinen, Miss. Laina</td>\n",
       "      <td>female</td>\n",
       "      <td>26.0</td>\n",
       "      <td>0</td>\n",
       "      <td>0</td>\n",
       "      <td>STON/O2. 3101282</td>\n",
       "      <td>7.9250</td>\n",
       "      <td>NaN</td>\n",
       "      <td>S</td>\n",
       "    </tr>\n",
       "    <tr>\n",
       "      <th>3</th>\n",
       "      <td>4</td>\n",
       "      <td>1</td>\n",
       "      <td>1</td>\n",
       "      <td>Futrelle, Mrs. Jacques Heath (Lily May Peel)</td>\n",
       "      <td>female</td>\n",
       "      <td>35.0</td>\n",
       "      <td>1</td>\n",
       "      <td>0</td>\n",
       "      <td>113803</td>\n",
       "      <td>53.1000</td>\n",
       "      <td>C123</td>\n",
       "      <td>S</td>\n",
       "    </tr>\n",
       "    <tr>\n",
       "      <th>4</th>\n",
       "      <td>5</td>\n",
       "      <td>0</td>\n",
       "      <td>3</td>\n",
       "      <td>Allen, Mr. William Henry</td>\n",
       "      <td>male</td>\n",
       "      <td>35.0</td>\n",
       "      <td>0</td>\n",
       "      <td>0</td>\n",
       "      <td>373450</td>\n",
       "      <td>8.0500</td>\n",
       "      <td>NaN</td>\n",
       "      <td>S</td>\n",
       "    </tr>\n",
       "  </tbody>\n",
       "</table>\n",
       "</div>"
      ],
      "text/plain": [
       "   PassengerId  Survived  Pclass  \\\n",
       "0            1         0       3   \n",
       "1            2         1       1   \n",
       "2            3         1       3   \n",
       "3            4         1       1   \n",
       "4            5         0       3   \n",
       "\n",
       "                                                Name     Sex   Age  SibSp  \\\n",
       "0                            Braund, Mr. Owen Harris    male  22.0      1   \n",
       "1  Cumings, Mrs. John Bradley (Florence Briggs Th...  female  38.0      1   \n",
       "2                             Heikkinen, Miss. Laina  female  26.0      0   \n",
       "3       Futrelle, Mrs. Jacques Heath (Lily May Peel)  female  35.0      1   \n",
       "4                           Allen, Mr. William Henry    male  35.0      0   \n",
       "\n",
       "   Parch            Ticket     Fare Cabin Embarked  \n",
       "0      0         A/5 21171   7.2500   NaN        S  \n",
       "1      0          PC 17599  71.2833   C85        C  \n",
       "2      0  STON/O2. 3101282   7.9250   NaN        S  \n",
       "3      0            113803  53.1000  C123        S  \n",
       "4      0            373450   8.0500   NaN        S  "
      ]
     },
     "execution_count": 4,
     "metadata": {},
     "output_type": "execute_result"
    }
   ],
   "source": [
    "titanic_df.head()"
   ]
  },
  {
   "cell_type": "markdown",
   "metadata": {},
   "source": []
  },
  {
   "cell_type": "code",
   "execution_count": null,
   "metadata": {
    "collapsed": false
   },
   "outputs": [],
   "source": []
  },
  {
   "cell_type": "markdown",
   "metadata": {},
   "source": [
    "## Data Wrangler\n",
    "Pontos focais:\n",
    "- Idade\n",
    "- Sexo\n",
    "- Acompanhantes: SibSp + Parch\n",
    "- Classe\n",
    "\n",
    "Descrição dos campos:\n",
    "- Embarked: Porto de embarque (C = Cherbourg; Q = Queenstown; S = Southampton)\n",
    "- Parch: Número de pais e filhos a bordo\n",
    "- Pclass: Classe que o passageiro embarcou (1 = 1º classe; 2 = 2º classe; 3 = 3º classe)\n",
    "- Sex: Gênero feminino (female) ou male (masculino)\n",
    "- Sibsp: Numero de irmãos e esposa a bordo\n",
    "- Survived: 0 - Não sobreviveu e 1 = sobreviveu"
   ]
  },
  {
   "cell_type": "code",
   "execution_count": 5,
   "metadata": {
    "collapsed": false
   },
   "outputs": [
    {
     "data": {
      "text/plain": [
       "PassengerId      int64\n",
       "Survived         int64\n",
       "Pclass           int64\n",
       "Name            object\n",
       "Sex             object\n",
       "Age            float64\n",
       "SibSp            int64\n",
       "Parch            int64\n",
       "Ticket          object\n",
       "Fare           float64\n",
       "Cabin           object\n",
       "Embarked        object\n",
       "dtype: object"
      ]
     },
     "execution_count": 5,
     "metadata": {},
     "output_type": "execute_result"
    }
   ],
   "source": [
    "# Verifica  o tipo dos dados criados\n",
    "titanic_df.dtypes"
   ]
  },
  {
   "cell_type": "markdown",
   "metadata": {
    "collapsed": false
   },
   "source": [
    "### Manipulando as variáveis\n",
    "\n",
    "Acompanhantes\n",
    "\n",
    "* As variáveis SibSp e Parch tem a mesma raiz de informação (total de acompanhantes), para facilitar a análise, será criada \n",
    "uma nova coluna Family com o total de acompanhantes. É possível que pessoas acompanhadas tenham maior probabilidade de não sobreviver porque tiveram que ajudar os familiares? Tendo toda a informação em uma só coluna facilitará a análise"
   ]
  },
  {
   "cell_type": "code",
   "execution_count": 6,
   "metadata": {
    "collapsed": true
   },
   "outputs": [],
   "source": [
    "titanic_df['Family'] = titanic_df['SibSp'] + titanic_df['Parch']"
   ]
  },
  {
   "cell_type": "markdown",
   "metadata": {
    "collapsed": false
   },
   "source": [
    "#### Valores nulos\n",
    "\n",
    "* Primeiro passo é verificar se existem valores nulos e qual sua proporção deles por coluna"
   ]
  },
  {
   "cell_type": "code",
   "execution_count": 7,
   "metadata": {
    "collapsed": false
   },
   "outputs": [
    {
     "data": {
      "text/plain": [
       "PassengerId     0.000000\n",
       "Survived        0.000000\n",
       "Pclass          0.000000\n",
       "Name            0.000000\n",
       "Sex             0.000000\n",
       "Age            19.865320\n",
       "SibSp           0.000000\n",
       "Parch           0.000000\n",
       "Ticket          0.000000\n",
       "Fare            0.000000\n",
       "Cabin          77.104377\n",
       "Embarked        0.224467\n",
       "Family          0.000000\n",
       "dtype: float64"
      ]
     },
     "execution_count": 7,
     "metadata": {},
     "output_type": "execute_result"
    }
   ],
   "source": [
    "((len(titanic_df) - titanic_df.count()) / len(titanic_df)) *100"
   ]
  },
  {
   "cell_type": "markdown",
   "metadata": {},
   "source": [
    "**Decidindo o tratamento da Coluna Cabin**"
   ]
  },
  {
   "cell_type": "code",
   "execution_count": 8,
   "metadata": {
    "collapsed": false
   },
   "outputs": [
    {
     "data": {
      "text/plain": [
       "count             204\n",
       "unique            147\n",
       "top       C23 C25 C27\n",
       "freq                4\n",
       "Name: Cabin, dtype: object"
      ]
     },
     "execution_count": 8,
     "metadata": {},
     "output_type": "execute_result"
    }
   ],
   "source": [
    "titanic_df.Cabin.describe()"
   ]
  },
  {
   "cell_type": "markdown",
   "metadata": {},
   "source": [
    "* 77% da coluna é composta por valores nulos. Dos 204 valores existentes, 147 são únicos e os registros mais repetidos \n",
    "aparecem apenas 4 vezes. Como top foram listados os valores C23, C25, C27, todos eles são iniciados pela letra C, o que pode \n",
    "indicar a existência de um padrão na montagem do campo. Esta possibilidade não será investigada nesta análise, e o campo será \n",
    "excluído devido ao alto percentual de nulos."
   ]
  },
  {
   "cell_type": "markdown",
   "metadata": {},
   "source": [
    "**Decidindo o tratamento da Coluna Age**"
   ]
  },
  {
   "cell_type": "code",
   "execution_count": 9,
   "metadata": {
    "collapsed": false
   },
   "outputs": [
    {
     "name": "stderr",
     "output_type": "stream",
     "text": [
      "C:\\Program Files (x86)\\Anaconda2\\lib\\site-packages\\numpy\\lib\\function_base.py:3823: RuntimeWarning: Invalid value encountered in percentile\n",
      "  RuntimeWarning)\n"
     ]
    },
    {
     "data": {
      "text/plain": [
       "count    714.000000\n",
       "mean      29.699118\n",
       "std       14.526497\n",
       "min        0.420000\n",
       "25%             NaN\n",
       "50%             NaN\n",
       "75%             NaN\n",
       "max       80.000000\n",
       "Name: Age, dtype: float64"
      ]
     },
     "execution_count": 9,
     "metadata": {},
     "output_type": "execute_result"
    }
   ],
   "source": [
    "titanic_df.Age.describe()"
   ]
  },
  {
   "cell_type": "markdown",
   "metadata": {},
   "source": [
    "* A coluna é composta por 14% de valores nulos, como estou supondo que esta coluna é importante para análise dos dados, vou substituir os valores nulos pela média da coluna."
   ]
  },
  {
   "cell_type": "code",
   "execution_count": 10,
   "metadata": {
    "collapsed": true
   },
   "outputs": [],
   "source": [
    "titanic_df.Age = titanic_df.Age.fillna(titanic_df.Age.mean())"
   ]
  },
  {
   "cell_type": "markdown",
   "metadata": {},
   "source": [
    "A coluna AgeRange será criada para facilitar a análise da faixa etária sobrevivente. Apesar de ter 32 anos, expandirei a pesquisa para faixa etária para que a análise não fique tão pontual. "
   ]
  },
  {
   "cell_type": "code",
   "execution_count": 11,
   "metadata": {
    "collapsed": true
   },
   "outputs": [],
   "source": [
    "# Descobre a faixa etária baseado na idade do passageiro(Titanic_df.Age)\n",
    "def age_range(data):    \n",
    "    if data >= 65:\n",
    "        return 'Elderly'\n",
    "    elif data >= 33:\n",
    "        return 'Adult'\n",
    "    elif data >= 18:\n",
    "        return 'Young Adult'\n",
    "    elif data >= 12:\n",
    "        return 'Teen'\n",
    "    else:\n",
    "        return 'Kid'    "
   ]
  },
  {
   "cell_type": "code",
   "execution_count": 12,
   "metadata": {
    "collapsed": true
   },
   "outputs": [],
   "source": [
    "# Chama a função age_range passando como o parametro a coluna Age e atribui o resultado a nova coluna AgeRange\n",
    "titanic_df['AgeRange']= titanic_df.Age.apply(age_range) "
   ]
  },
  {
   "cell_type": "code",
   "execution_count": 13,
   "metadata": {
    "collapsed": false
   },
   "outputs": [
    {
     "data": {
      "text/plain": [
       "count             891\n",
       "unique              5\n",
       "top       Young Adult\n",
       "freq              512\n",
       "Name: AgeRange, dtype: object"
      ]
     },
     "execution_count": 13,
     "metadata": {},
     "output_type": "execute_result"
    }
   ],
   "source": [
    "titanic_df.AgeRange.describe()"
   ]
  },
  {
   "cell_type": "markdown",
   "metadata": {},
   "source": [
    "**Decidindo o tratamento das coluna Embarked, Ticket, PassengerId, Name**"
   ]
  },
  {
   "cell_type": "code",
   "execution_count": 14,
   "metadata": {
    "collapsed": false
   },
   "outputs": [
    {
     "data": {
      "text/plain": [
       "count     889\n",
       "unique      3\n",
       "top         S\n",
       "freq      644\n",
       "Name: Embarked, dtype: object"
      ]
     },
     "execution_count": 14,
     "metadata": {},
     "output_type": "execute_result"
    }
   ],
   "source": [
    "# Embarked tem valores nulos\n",
    "titanic_df.Embarked.describe()"
   ]
  },
  {
   "cell_type": "markdown",
   "metadata": {},
   "source": [
    "* A coluna Embarked demonstra o local em que o passageiro embarcou. Ela não será incluida na análise."
   ]
  },
  {
   "cell_type": "markdown",
   "metadata": {
    "collapsed": true
   },
   "source": [
    "* PassengerId, Ticket, Embarked e Name não tem conteúdo significativo no contexto selecionado."
   ]
  },
  {
   "cell_type": "code",
   "execution_count": 15,
   "metadata": {
    "collapsed": false,
    "scrolled": false
   },
   "outputs": [
    {
     "data": {
      "text/html": [
       "<div>\n",
       "<table border=\"1\" class=\"dataframe\">\n",
       "  <thead>\n",
       "    <tr style=\"text-align: right;\">\n",
       "      <th></th>\n",
       "      <th>Survived</th>\n",
       "      <th>Pclass</th>\n",
       "      <th>Sex</th>\n",
       "      <th>Age</th>\n",
       "      <th>Fare</th>\n",
       "      <th>Family</th>\n",
       "      <th>AgeRange</th>\n",
       "    </tr>\n",
       "  </thead>\n",
       "  <tbody>\n",
       "    <tr>\n",
       "      <th>0</th>\n",
       "      <td>0</td>\n",
       "      <td>3</td>\n",
       "      <td>male</td>\n",
       "      <td>22.0</td>\n",
       "      <td>7.2500</td>\n",
       "      <td>1</td>\n",
       "      <td>Young Adult</td>\n",
       "    </tr>\n",
       "    <tr>\n",
       "      <th>1</th>\n",
       "      <td>1</td>\n",
       "      <td>1</td>\n",
       "      <td>female</td>\n",
       "      <td>38.0</td>\n",
       "      <td>71.2833</td>\n",
       "      <td>1</td>\n",
       "      <td>Adult</td>\n",
       "    </tr>\n",
       "    <tr>\n",
       "      <th>2</th>\n",
       "      <td>1</td>\n",
       "      <td>3</td>\n",
       "      <td>female</td>\n",
       "      <td>26.0</td>\n",
       "      <td>7.9250</td>\n",
       "      <td>0</td>\n",
       "      <td>Young Adult</td>\n",
       "    </tr>\n",
       "    <tr>\n",
       "      <th>3</th>\n",
       "      <td>1</td>\n",
       "      <td>1</td>\n",
       "      <td>female</td>\n",
       "      <td>35.0</td>\n",
       "      <td>53.1000</td>\n",
       "      <td>1</td>\n",
       "      <td>Adult</td>\n",
       "    </tr>\n",
       "    <tr>\n",
       "      <th>4</th>\n",
       "      <td>0</td>\n",
       "      <td>3</td>\n",
       "      <td>male</td>\n",
       "      <td>35.0</td>\n",
       "      <td>8.0500</td>\n",
       "      <td>0</td>\n",
       "      <td>Adult</td>\n",
       "    </tr>\n",
       "  </tbody>\n",
       "</table>\n",
       "</div>"
      ],
      "text/plain": [
       "   Survived  Pclass     Sex   Age     Fare  Family     AgeRange\n",
       "0         0       3    male  22.0   7.2500       1  Young Adult\n",
       "1         1       1  female  38.0  71.2833       1        Adult\n",
       "2         1       3  female  26.0   7.9250       0  Young Adult\n",
       "3         1       1  female  35.0  53.1000       1        Adult\n",
       "4         0       3    male  35.0   8.0500       0        Adult"
      ]
     },
     "execution_count": 15,
     "metadata": {},
     "output_type": "execute_result"
    }
   ],
   "source": [
    "#Apaga as colunas\n",
    "titanic_df.drop(['PassengerId','SibSp', 'Parch', 'Cabin','Embarked', 'Ticket','Name'], axis=1, inplace=True)\n",
    "\n",
    "titanic_df.head()"
   ]
  },
  {
   "cell_type": "markdown",
   "metadata": {
    "collapsed": false
   },
   "source": [
    "Será trabalhado com a relação da variavel Survived com Pclass, Sex, Age, Fare e Family."
   ]
  },
  {
   "cell_type": "markdown",
   "metadata": {
    "collapsed": false
   },
   "source": [
    "## Sumário estatístico\n",
    "Aplicada aos valores númericos\n",
    "\n",
    "- count: Total de elementos não nulos\n",
    "- mean: Média\n",
    "- std: Desvio Padrão\n",
    "- min: Maior valor da amostra\n",
    "- max: Menor valor da amostra\n",
    "- 25%: Quartil 1, corresponde a 25% da amostra\n",
    "- 50%: Quartil 2 ou mediana da amostra\n",
    "- 75%: Quartil 3, corresponde a % da amostra"
   ]
  },
  {
   "cell_type": "code",
   "execution_count": 16,
   "metadata": {
    "collapsed": false
   },
   "outputs": [
    {
     "data": {
      "text/html": [
       "<div>\n",
       "<table border=\"1\" class=\"dataframe\">\n",
       "  <thead>\n",
       "    <tr style=\"text-align: right;\">\n",
       "      <th></th>\n",
       "      <th>Survived</th>\n",
       "      <th>Pclass</th>\n",
       "      <th>Age</th>\n",
       "      <th>Fare</th>\n",
       "      <th>Family</th>\n",
       "    </tr>\n",
       "  </thead>\n",
       "  <tbody>\n",
       "    <tr>\n",
       "      <th>count</th>\n",
       "      <td>891.000000</td>\n",
       "      <td>891.000000</td>\n",
       "      <td>891.000000</td>\n",
       "      <td>891.000000</td>\n",
       "      <td>891.000000</td>\n",
       "    </tr>\n",
       "    <tr>\n",
       "      <th>mean</th>\n",
       "      <td>0.383838</td>\n",
       "      <td>2.308642</td>\n",
       "      <td>29.699118</td>\n",
       "      <td>32.204208</td>\n",
       "      <td>0.904602</td>\n",
       "    </tr>\n",
       "    <tr>\n",
       "      <th>std</th>\n",
       "      <td>0.486592</td>\n",
       "      <td>0.836071</td>\n",
       "      <td>13.002015</td>\n",
       "      <td>49.693429</td>\n",
       "      <td>1.613459</td>\n",
       "    </tr>\n",
       "    <tr>\n",
       "      <th>min</th>\n",
       "      <td>0.000000</td>\n",
       "      <td>1.000000</td>\n",
       "      <td>0.420000</td>\n",
       "      <td>0.000000</td>\n",
       "      <td>0.000000</td>\n",
       "    </tr>\n",
       "    <tr>\n",
       "      <th>25%</th>\n",
       "      <td>0.000000</td>\n",
       "      <td>2.000000</td>\n",
       "      <td>22.000000</td>\n",
       "      <td>7.910400</td>\n",
       "      <td>0.000000</td>\n",
       "    </tr>\n",
       "    <tr>\n",
       "      <th>50%</th>\n",
       "      <td>0.000000</td>\n",
       "      <td>3.000000</td>\n",
       "      <td>29.699118</td>\n",
       "      <td>14.454200</td>\n",
       "      <td>0.000000</td>\n",
       "    </tr>\n",
       "    <tr>\n",
       "      <th>75%</th>\n",
       "      <td>1.000000</td>\n",
       "      <td>3.000000</td>\n",
       "      <td>35.000000</td>\n",
       "      <td>31.000000</td>\n",
       "      <td>1.000000</td>\n",
       "    </tr>\n",
       "    <tr>\n",
       "      <th>max</th>\n",
       "      <td>1.000000</td>\n",
       "      <td>3.000000</td>\n",
       "      <td>80.000000</td>\n",
       "      <td>512.329200</td>\n",
       "      <td>10.000000</td>\n",
       "    </tr>\n",
       "  </tbody>\n",
       "</table>\n",
       "</div>"
      ],
      "text/plain": [
       "         Survived      Pclass         Age        Fare      Family\n",
       "count  891.000000  891.000000  891.000000  891.000000  891.000000\n",
       "mean     0.383838    2.308642   29.699118   32.204208    0.904602\n",
       "std      0.486592    0.836071   13.002015   49.693429    1.613459\n",
       "min      0.000000    1.000000    0.420000    0.000000    0.000000\n",
       "25%      0.000000    2.000000   22.000000    7.910400    0.000000\n",
       "50%      0.000000    3.000000   29.699118   14.454200    0.000000\n",
       "75%      1.000000    3.000000   35.000000   31.000000    1.000000\n",
       "max      1.000000    3.000000   80.000000  512.329200   10.000000"
      ]
     },
     "execution_count": 16,
     "metadata": {},
     "output_type": "execute_result"
    }
   ],
   "source": [
    "titanic_df.describe()"
   ]
  },
  {
   "cell_type": "markdown",
   "metadata": {
    "collapsed": false
   },
   "source": [
    "**Observações:**\n",
    "\n",
    "* Todas as linhas de todas as colunas estão preenchidas com 891 registros cada.\n",
    "* A idade dos passageiros está entre 0.42 e 80 anos. "
   ]
  },
  {
   "cell_type": "markdown",
   "metadata": {},
   "source": [
    "* A média de Family é 0.9, dando a impressão de que a maior parte dos passageiros estava acompanhada. \n",
    "Confirmando essa informação:"
   ]
  },
  {
   "cell_type": "code",
   "execution_count": 17,
   "metadata": {
    "collapsed": false
   },
   "outputs": [
    {
     "data": {
      "text/plain": [
       "Survived    60.26936\n",
       "Pclass      60.26936\n",
       "Sex         60.26936\n",
       "Age         60.26936\n",
       "Fare        60.26936\n",
       "Family      60.26936\n",
       "AgeRange    60.26936\n",
       "dtype: float64"
      ]
     },
     "execution_count": 17,
     "metadata": {},
     "output_type": "execute_result"
    }
   ],
   "source": [
    "((len(titanic_df.Family) - titanic_df[titanic_df['Family']>0].count()) / len(titanic_df.Family)) *100"
   ]
  },
  {
   "cell_type": "markdown",
   "metadata": {},
   "source": [
    "60% dos passageiros estavam desacompanhados. Investigando a diferença:"
   ]
  },
  {
   "cell_type": "code",
   "execution_count": 18,
   "metadata": {
    "collapsed": false
   },
   "outputs": [
    {
     "data": {
      "text/plain": [
       "array([ 1,  0,  4,  2,  6,  5,  3,  7, 10], dtype=int64)"
      ]
     },
     "execution_count": 18,
     "metadata": {},
     "output_type": "execute_result"
    }
   ],
   "source": [
    "# Lista os valores únicos da quantidade de acompanhantes por passageiros\n",
    "titanic_df.Family.unique()"
   ]
  },
  {
   "cell_type": "markdown",
   "metadata": {},
   "source": [
    "Agrupa os dados de family e Survived, com o objetivo de descobrir se ha uma relação entre o número de acompanhantes  e a sobrevivência. "
   ]
  },
  {
   "cell_type": "code",
   "execution_count": 19,
   "metadata": {
    "collapsed": false
   },
   "outputs": [
    {
     "data": {
      "text/plain": [
       "Family  Survived\n",
       "0       0           374\n",
       "        1           163\n",
       "1       0            72\n",
       "        1            89\n",
       "2       0            43\n",
       "        1            59\n",
       "3       0             8\n",
       "        1            21\n",
       "4       0            12\n",
       "        1             3\n",
       "5       0            19\n",
       "        1             3\n",
       "6       0             8\n",
       "        1             4\n",
       "7       0             6\n",
       "10      0             7\n",
       "Name: Pclass, dtype: int64"
      ]
     },
     "execution_count": 19,
     "metadata": {},
     "output_type": "execute_result"
    }
   ],
   "source": [
    "acompanhante_sobrevivencia = titanic_df.groupby(['Family','Survived']).count()['Pclass']\n",
    "acompanhante_sobrevivencia"
   ]
  },
  {
   "cell_type": "code",
   "execution_count": 45,
   "metadata": {
    "collapsed": false
   },
   "outputs": [
    {
     "data": {
      "text/plain": [
       "806L"
      ]
     },
     "execution_count": 45,
     "metadata": {},
     "output_type": "execute_result"
    }
   ],
   "source": [
    "titanic_df.Family.sum()"
   ]
  },
  {
   "cell_type": "markdown",
   "metadata": {},
   "source": [
    "O total da soma de familiares é quase similar ao total de valores da coluna Family. Quando calculado a média, fica a impressão de a maioria dos passageiros esta acompanhado."
   ]
  },
  {
   "cell_type": "markdown",
   "metadata": {},
   "source": [
    "Visualizando o mapa da distribuição dos sobreviventes por número de acompanhantes"
   ]
  },
  {
   "cell_type": "code",
   "execution_count": 20,
   "metadata": {
    "collapsed": false
   },
   "outputs": [
    {
     "data": {
      "text/plain": [
       "<matplotlib.text.Text at 0xba90a20>"
      ]
     },
     "execution_count": 20,
     "metadata": {},
     "output_type": "execute_result"
    },
    {
     "data": {
      "image/png": "[encoded data removed]",
      "text/plain": [
       "<matplotlib.figure.Figure at 0xba53470>"
      ]
     },
     "metadata": {},
     "output_type": "display_data"
    }
   ],
   "source": [
    "sb.heatmap(acompanhante_sobrevivencia.unstack(), annot=True, fmt='g')\n",
    "plt.xlabel('0 - Mortos , 1 - Sobreviventes')\n",
    "plt.ylabel('Total Acompanhantes')"
   ]
  },
  {
   "cell_type": "markdown",
   "metadata": {},
   "source": [
    "Através do gráfico é possível confirmar que a maior parte dos passageiros estava desacompanhando. Se a análise se baseasse apenas nestas duas colunas, sem considerar classe, sexo e o valor da passagem, estar desacompanhado comporia o grupo com menor probabilidade de sobreviver."
   ]
  },
  {
   "cell_type": "markdown",
   "metadata": {},
   "source": [
    "* Fare tem duas questões que precisa ser avaliada. A primeira é o preço máximo do ticket é 512 sendo que a o valor médio 32. Vou aprofundar na análise desse dados porque estes outliers podem interferir no resultado. A segunda é que o valor mínimo é 0. Pode ser, por exemplo, porque alguns tickets foram distribuidos de graça ou eram crianças. Isto será verificado."
   ]
  },
  {
   "cell_type": "markdown",
   "metadata": {},
   "source": [
    "Questão 1: O maior valor está distante dos outros valores? "
   ]
  },
  {
   "cell_type": "code",
   "execution_count": 21,
   "metadata": {
    "collapsed": false
   },
   "outputs": [
    {
     "data": {
      "text/plain": [
       "679    512.3292\n",
       "258    512.3292\n",
       "737    512.3292\n",
       "341    263.0000\n",
       "438    263.0000\n",
       "88     263.0000\n",
       "27     263.0000\n",
       "311    262.3750\n",
       "742    262.3750\n",
       "299    247.5208\n",
       "118    247.5208\n",
       "716    227.5250\n",
       "557    227.5250\n",
       "380    227.5250\n",
       "700    227.5250\n",
       "527    221.7792\n",
       "377    211.5000\n",
       "689    211.3375\n",
       "730    211.3375\n",
       "779    211.3375\n",
       "318    164.8667\n",
       "856    164.8667\n",
       "268    153.4625\n",
       "332    153.4625\n",
       "609    153.4625\n",
       "297    151.5500\n",
       "305    151.5500\n",
       "498    151.5500\n",
       "708    151.5500\n",
       "31     146.5208\n",
       "Name: Fare, dtype: float64"
      ]
     },
     "execution_count": 21,
     "metadata": {},
     "output_type": "execute_result"
    }
   ],
   "source": [
    "# Ordena os dados em ordem descente para verificar se existem muitos valores altos como o max=512.\n",
    "titanic_df.Fare.sort_values(ascending=False).head(30)"
   ]
  },
  {
   "cell_type": "markdown",
   "metadata": {},
   "source": [
    "O maior valor (512.3292) está muito distante do segundo maior valor (263.0000). Os outros valores são bem aproximados um dos outros. A menos que existam 3 cabines de luxo com uma tarifa exorbitante, o que eu não acredito, esses dados estão falhos. Para os passageiros com a passagem igual ao maior valor, vou atribuir o segundo maior valor.  "
   ]
  },
  {
   "cell_type": "code",
   "execution_count": 39,
   "metadata": {
    "collapsed": false
   },
   "outputs": [
    {
     "data": {
      "text/plain": [
       "263.0"
      ]
     },
     "execution_count": 39,
     "metadata": {},
     "output_type": "execute_result"
    }
   ],
   "source": [
    "# Lista os 10 maiores valores de Fare, mas a lista tem valores repetidos, então filtra somente unicos(.unique) e\n",
    "# retorna a segunda linha [1], porque a primeira é o Max. \n",
    "second_max_fare = titanic_df.Fare.nlargest(10).unique()[1]\n",
    "second_max_fare"
   ]
  },
  {
   "cell_type": "code",
   "execution_count": 40,
   "metadata": {
    "collapsed": true
   },
   "outputs": [],
   "source": [
    "# Atribui o segundo valor mais alto da coluna(second_max_fare) onde Fare é igual ao valor máximo da coluna\n",
    "titanic_df.Fare = titanic_df.Fare.apply(lambda x: second_max_fare if x==titanic_df.Fare.max() else x)"
   ]
  },
  {
   "cell_type": "code",
   "execution_count": 41,
   "metadata": {
    "collapsed": false
   },
   "outputs": [
    {
     "data": {
      "text/plain": [
       "263.0"
      ]
     },
     "execution_count": 41,
     "metadata": {},
     "output_type": "execute_result"
    }
   ],
   "source": [
    "titanic_df.Fare.max()"
   ]
  },
  {
   "cell_type": "markdown",
   "metadata": {
    "collapsed": false
   },
   "source": [
    "Questão 2: Os valores zerados são de crianças ou idosos? Eles tem algum fator em comum?"
   ]
  },
  {
   "cell_type": "code",
   "execution_count": 23,
   "metadata": {
    "collapsed": false
   },
   "outputs": [
    {
     "data": {
      "text/html": [
       "<div>\n",
       "<table border=\"1\" class=\"dataframe\">\n",
       "  <thead>\n",
       "    <tr style=\"text-align: right;\">\n",
       "      <th></th>\n",
       "      <th>Survived</th>\n",
       "      <th>Pclass</th>\n",
       "      <th>Sex</th>\n",
       "      <th>Age</th>\n",
       "      <th>Fare</th>\n",
       "      <th>Family</th>\n",
       "      <th>AgeRange</th>\n",
       "    </tr>\n",
       "  </thead>\n",
       "  <tbody>\n",
       "    <tr>\n",
       "      <th>179</th>\n",
       "      <td>0</td>\n",
       "      <td>3</td>\n",
       "      <td>male</td>\n",
       "      <td>36.000000</td>\n",
       "      <td>0.0</td>\n",
       "      <td>0</td>\n",
       "      <td>Adult</td>\n",
       "    </tr>\n",
       "    <tr>\n",
       "      <th>263</th>\n",
       "      <td>0</td>\n",
       "      <td>1</td>\n",
       "      <td>male</td>\n",
       "      <td>40.000000</td>\n",
       "      <td>0.0</td>\n",
       "      <td>0</td>\n",
       "      <td>Adult</td>\n",
       "    </tr>\n",
       "    <tr>\n",
       "      <th>271</th>\n",
       "      <td>1</td>\n",
       "      <td>3</td>\n",
       "      <td>male</td>\n",
       "      <td>25.000000</td>\n",
       "      <td>0.0</td>\n",
       "      <td>0</td>\n",
       "      <td>Young Adult</td>\n",
       "    </tr>\n",
       "    <tr>\n",
       "      <th>277</th>\n",
       "      <td>0</td>\n",
       "      <td>2</td>\n",
       "      <td>male</td>\n",
       "      <td>29.699118</td>\n",
       "      <td>0.0</td>\n",
       "      <td>0</td>\n",
       "      <td>Young Adult</td>\n",
       "    </tr>\n",
       "    <tr>\n",
       "      <th>302</th>\n",
       "      <td>0</td>\n",
       "      <td>3</td>\n",
       "      <td>male</td>\n",
       "      <td>19.000000</td>\n",
       "      <td>0.0</td>\n",
       "      <td>0</td>\n",
       "      <td>Young Adult</td>\n",
       "    </tr>\n",
       "    <tr>\n",
       "      <th>413</th>\n",
       "      <td>0</td>\n",
       "      <td>2</td>\n",
       "      <td>male</td>\n",
       "      <td>29.699118</td>\n",
       "      <td>0.0</td>\n",
       "      <td>0</td>\n",
       "      <td>Young Adult</td>\n",
       "    </tr>\n",
       "    <tr>\n",
       "      <th>466</th>\n",
       "      <td>0</td>\n",
       "      <td>2</td>\n",
       "      <td>male</td>\n",
       "      <td>29.699118</td>\n",
       "      <td>0.0</td>\n",
       "      <td>0</td>\n",
       "      <td>Young Adult</td>\n",
       "    </tr>\n",
       "    <tr>\n",
       "      <th>481</th>\n",
       "      <td>0</td>\n",
       "      <td>2</td>\n",
       "      <td>male</td>\n",
       "      <td>29.699118</td>\n",
       "      <td>0.0</td>\n",
       "      <td>0</td>\n",
       "      <td>Young Adult</td>\n",
       "    </tr>\n",
       "    <tr>\n",
       "      <th>597</th>\n",
       "      <td>0</td>\n",
       "      <td>3</td>\n",
       "      <td>male</td>\n",
       "      <td>49.000000</td>\n",
       "      <td>0.0</td>\n",
       "      <td>0</td>\n",
       "      <td>Adult</td>\n",
       "    </tr>\n",
       "    <tr>\n",
       "      <th>633</th>\n",
       "      <td>0</td>\n",
       "      <td>1</td>\n",
       "      <td>male</td>\n",
       "      <td>29.699118</td>\n",
       "      <td>0.0</td>\n",
       "      <td>0</td>\n",
       "      <td>Young Adult</td>\n",
       "    </tr>\n",
       "    <tr>\n",
       "      <th>674</th>\n",
       "      <td>0</td>\n",
       "      <td>2</td>\n",
       "      <td>male</td>\n",
       "      <td>29.699118</td>\n",
       "      <td>0.0</td>\n",
       "      <td>0</td>\n",
       "      <td>Young Adult</td>\n",
       "    </tr>\n",
       "    <tr>\n",
       "      <th>732</th>\n",
       "      <td>0</td>\n",
       "      <td>2</td>\n",
       "      <td>male</td>\n",
       "      <td>29.699118</td>\n",
       "      <td>0.0</td>\n",
       "      <td>0</td>\n",
       "      <td>Young Adult</td>\n",
       "    </tr>\n",
       "    <tr>\n",
       "      <th>806</th>\n",
       "      <td>0</td>\n",
       "      <td>1</td>\n",
       "      <td>male</td>\n",
       "      <td>39.000000</td>\n",
       "      <td>0.0</td>\n",
       "      <td>0</td>\n",
       "      <td>Adult</td>\n",
       "    </tr>\n",
       "    <tr>\n",
       "      <th>815</th>\n",
       "      <td>0</td>\n",
       "      <td>1</td>\n",
       "      <td>male</td>\n",
       "      <td>29.699118</td>\n",
       "      <td>0.0</td>\n",
       "      <td>0</td>\n",
       "      <td>Young Adult</td>\n",
       "    </tr>\n",
       "    <tr>\n",
       "      <th>822</th>\n",
       "      <td>0</td>\n",
       "      <td>1</td>\n",
       "      <td>male</td>\n",
       "      <td>38.000000</td>\n",
       "      <td>0.0</td>\n",
       "      <td>0</td>\n",
       "      <td>Adult</td>\n",
       "    </tr>\n",
       "  </tbody>\n",
       "</table>\n",
       "</div>"
      ],
      "text/plain": [
       "     Survived  Pclass   Sex        Age  Fare  Family     AgeRange\n",
       "179         0       3  male  36.000000   0.0       0        Adult\n",
       "263         0       1  male  40.000000   0.0       0        Adult\n",
       "271         1       3  male  25.000000   0.0       0  Young Adult\n",
       "277         0       2  male  29.699118   0.0       0  Young Adult\n",
       "302         0       3  male  19.000000   0.0       0  Young Adult\n",
       "413         0       2  male  29.699118   0.0       0  Young Adult\n",
       "466         0       2  male  29.699118   0.0       0  Young Adult\n",
       "481         0       2  male  29.699118   0.0       0  Young Adult\n",
       "597         0       3  male  49.000000   0.0       0        Adult\n",
       "633         0       1  male  29.699118   0.0       0  Young Adult\n",
       "674         0       2  male  29.699118   0.0       0  Young Adult\n",
       "732         0       2  male  29.699118   0.0       0  Young Adult\n",
       "806         0       1  male  39.000000   0.0       0        Adult\n",
       "815         0       1  male  29.699118   0.0       0  Young Adult\n",
       "822         0       1  male  38.000000   0.0       0        Adult"
      ]
     },
     "execution_count": 23,
     "metadata": {},
     "output_type": "execute_result"
    }
   ],
   "source": [
    "titanic_df[titanic_df['Fare']==0]"
   ]
  },
  {
   "cell_type": "markdown",
   "metadata": {
    "collapsed": false
   },
   "source": [
    "A teoria de que podiam ser ingressos gratuitos por causa da idade não se confirmou. No grupo não tem crianças nem idosos. Em comum os dados tem o gênero masculino e não estavam acompanhados. Acredito que seja mais uma falha nos dados e para este caso vou atribuir o valor médio da coluna Fare."
   ]
  },
  {
   "cell_type": "code",
   "execution_count": 24,
   "metadata": {
    "collapsed": false
   },
   "outputs": [],
   "source": [
    "# Atribui o segundo valor mais alto da coluna onde Fare é igual ao valor máximo da coluna\n",
    "titanic_df.Fare = titanic_df.Fare.apply(lambda x: titanic_df.Fare.mean() if x==0 else x)"
   ]
  },
  {
   "cell_type": "code",
   "execution_count": 42,
   "metadata": {
    "collapsed": false
   },
   "outputs": [
    {
     "data": {
      "text/plain": [
       "count    891.000000\n",
       "mean      31.906874\n",
       "std       43.062581\n",
       "min        4.012500\n",
       "25%        7.925000\n",
       "50%       15.100000\n",
       "75%       32.204208\n",
       "max      263.000000\n",
       "Name: Fare, dtype: float64"
      ]
     },
     "execution_count": 42,
     "metadata": {},
     "output_type": "execute_result"
    }
   ],
   "source": [
    "titanic_df.Fare.describe()"
   ]
  },
  {
   "cell_type": "markdown",
   "metadata": {
    "collapsed": false
   },
   "source": [
    "Como pode ser constatado, o valor mínimo (min) passou a ser 4.01 e o máximo(max) 263."
   ]
  },
  {
   "cell_type": "code",
   "execution_count": 27,
   "metadata": {
    "collapsed": false
   },
   "outputs": [],
   "source": []
  },
  {
   "cell_type": "code",
   "execution_count": null,
   "metadata": {
    "collapsed": false
   },
   "outputs": [],
   "source": []
  },
  {
   "cell_type": "code",
   "execution_count": null,
   "metadata": {
    "collapsed": false
   },
   "outputs": [],
   "source": []
  },
  {
   "cell_type": "code",
   "execution_count": null,
   "metadata": {
    "collapsed": false
   },
   "outputs": [],
   "source": []
  },
  {
   "cell_type": "code",
   "execution_count": null,
   "metadata": {
    "collapsed": false
   },
   "outputs": [],
   "source": []
  },
  {
   "cell_type": "code",
   "execution_count": null,
   "metadata": {
    "collapsed": false
   },
   "outputs": [],
   "source": []
  },
  {
   "cell_type": "code",
   "execution_count": null,
   "metadata": {
    "collapsed": true
   },
   "outputs": [],
   "source": []
  },
  {
   "cell_type": "code",
   "execution_count": null,
   "metadata": {
    "collapsed": true
   },
   "outputs": [],
   "source": []
  },
  {
   "cell_type": "code",
   "execution_count": null,
   "metadata": {
    "collapsed": true
   },
   "outputs": [],
   "source": []
  },
  {
   "cell_type": "markdown",
   "metadata": {
    "collapsed": true
   },
   "source": [
    "### Correlação de Pearson\n",
    "Qual a corelação das variáveis como fator sobrevivência? O método pearson (.corr) foi utilizado para demonstrar a \n",
    "dependencia entre elas. O valor pode variar entre 0 e 1, tanto negativo quanto positivo.\n",
    "Espera-se um grau de correlação superior a 0.5 para demonstrar uma correlação de moderada a muito forte.\n",
    "    "
   ]
  },
  {
   "cell_type": "code",
   "execution_count": 51,
   "metadata": {
    "collapsed": false
   },
   "outputs": [
    {
     "data": {
      "text/html": [
       "<div>\n",
       "<table border=\"1\" class=\"dataframe\">\n",
       "  <thead>\n",
       "    <tr style=\"text-align: right;\">\n",
       "      <th></th>\n",
       "      <th>Survived</th>\n",
       "      <th>Pclass</th>\n",
       "      <th>Age</th>\n",
       "      <th>Fare</th>\n",
       "      <th>Family</th>\n",
       "      <th>SexInt</th>\n",
       "    </tr>\n",
       "  </thead>\n",
       "  <tbody>\n",
       "    <tr>\n",
       "      <th>Survived</th>\n",
       "      <td>1.000000</td>\n",
       "      <td>-0.338481</td>\n",
       "      <td>-0.069809</td>\n",
       "      <td>0.263998</td>\n",
       "      <td>0.016639</td>\n",
       "      <td>-0.543351</td>\n",
       "    </tr>\n",
       "    <tr>\n",
       "      <th>Pclass</th>\n",
       "      <td>-0.338481</td>\n",
       "      <td>1.000000</td>\n",
       "      <td>-0.331339</td>\n",
       "      <td>-0.609222</td>\n",
       "      <td>0.065997</td>\n",
       "      <td>0.131900</td>\n",
       "    </tr>\n",
       "    <tr>\n",
       "      <th>Age</th>\n",
       "      <td>-0.069809</td>\n",
       "      <td>-0.331339</td>\n",
       "      <td>1.000000</td>\n",
       "      <td>0.099671</td>\n",
       "      <td>-0.248512</td>\n",
       "      <td>0.084153</td>\n",
       "    </tr>\n",
       "    <tr>\n",
       "      <th>Fare</th>\n",
       "      <td>0.263998</td>\n",
       "      <td>-0.609222</td>\n",
       "      <td>0.099671</td>\n",
       "      <td>1.000000</td>\n",
       "      <td>0.250417</td>\n",
       "      <td>-0.201895</td>\n",
       "    </tr>\n",
       "    <tr>\n",
       "      <th>Family</th>\n",
       "      <td>0.016639</td>\n",
       "      <td>0.065997</td>\n",
       "      <td>-0.248512</td>\n",
       "      <td>0.250417</td>\n",
       "      <td>1.000000</td>\n",
       "      <td>-0.200988</td>\n",
       "    </tr>\n",
       "    <tr>\n",
       "      <th>SexInt</th>\n",
       "      <td>-0.543351</td>\n",
       "      <td>0.131900</td>\n",
       "      <td>0.084153</td>\n",
       "      <td>-0.201895</td>\n",
       "      <td>-0.200988</td>\n",
       "      <td>1.000000</td>\n",
       "    </tr>\n",
       "  </tbody>\n",
       "</table>\n",
       "</div>"
      ],
      "text/plain": [
       "          Survived    Pclass       Age      Fare    Family    SexInt\n",
       "Survived  1.000000 -0.338481 -0.069809  0.263998  0.016639 -0.543351\n",
       "Pclass   -0.338481  1.000000 -0.331339 -0.609222  0.065997  0.131900\n",
       "Age      -0.069809 -0.331339  1.000000  0.099671 -0.248512  0.084153\n",
       "Fare      0.263998 -0.609222  0.099671  1.000000  0.250417 -0.201895\n",
       "Family    0.016639  0.065997 -0.248512  0.250417  1.000000 -0.200988\n",
       "SexInt   -0.543351  0.131900  0.084153 -0.201895 -0.200988  1.000000"
      ]
     },
     "execution_count": 51,
     "metadata": {},
     "output_type": "execute_result"
    }
   ],
   "source": [
    "titanic_df.corr(method='pearson', min_periods=1)"
   ]
  },
  {
   "cell_type": "markdown",
   "metadata": {},
   "source": [
    "Como a coluna Sex não é númerica, não foi calculada a correlação para ela. Acredito que ela tenha uma correlação com survived, então vou transforma-la em número, numa coluna adicional, para mensurar a correlação."
   ]
  },
  {
   "cell_type": "code",
   "execution_count": 49,
   "metadata": {
    "collapsed": true
   },
   "outputs": [],
   "source": [
    "titanic_df['SexInt'] = map(int, titanic_df.Sex == 'male')"
   ]
  },
  {
   "cell_type": "code",
   "execution_count": 57,
   "metadata": {
    "collapsed": false
   },
   "outputs": [
    {
     "data": {
      "text/html": [
       "<div>\n",
       "<table border=\"1\" class=\"dataframe\">\n",
       "  <thead>\n",
       "    <tr style=\"text-align: right;\">\n",
       "      <th></th>\n",
       "      <th>Survived</th>\n",
       "      <th>Pclass</th>\n",
       "      <th>Age</th>\n",
       "      <th>Fare</th>\n",
       "      <th>Family</th>\n",
       "      <th>SexInt</th>\n",
       "    </tr>\n",
       "  </thead>\n",
       "  <tbody>\n",
       "    <tr>\n",
       "      <th>Survived</th>\n",
       "      <td>1.000000</td>\n",
       "      <td>0.338481</td>\n",
       "      <td>0.069809</td>\n",
       "      <td>0.263998</td>\n",
       "      <td>0.016639</td>\n",
       "      <td>0.543351</td>\n",
       "    </tr>\n",
       "    <tr>\n",
       "      <th>Pclass</th>\n",
       "      <td>0.338481</td>\n",
       "      <td>1.000000</td>\n",
       "      <td>0.331339</td>\n",
       "      <td>0.609222</td>\n",
       "      <td>0.065997</td>\n",
       "      <td>0.131900</td>\n",
       "    </tr>\n",
       "    <tr>\n",
       "      <th>Age</th>\n",
       "      <td>0.069809</td>\n",
       "      <td>0.331339</td>\n",
       "      <td>1.000000</td>\n",
       "      <td>0.099671</td>\n",
       "      <td>0.248512</td>\n",
       "      <td>0.084153</td>\n",
       "    </tr>\n",
       "    <tr>\n",
       "      <th>Fare</th>\n",
       "      <td>0.263998</td>\n",
       "      <td>0.609222</td>\n",
       "      <td>0.099671</td>\n",
       "      <td>1.000000</td>\n",
       "      <td>0.250417</td>\n",
       "      <td>0.201895</td>\n",
       "    </tr>\n",
       "    <tr>\n",
       "      <th>Family</th>\n",
       "      <td>0.016639</td>\n",
       "      <td>0.065997</td>\n",
       "      <td>0.248512</td>\n",
       "      <td>0.250417</td>\n",
       "      <td>1.000000</td>\n",
       "      <td>0.200988</td>\n",
       "    </tr>\n",
       "    <tr>\n",
       "      <th>SexInt</th>\n",
       "      <td>0.543351</td>\n",
       "      <td>0.131900</td>\n",
       "      <td>0.084153</td>\n",
       "      <td>0.201895</td>\n",
       "      <td>0.200988</td>\n",
       "      <td>1.000000</td>\n",
       "    </tr>\n",
       "  </tbody>\n",
       "</table>\n",
       "</div>"
      ],
      "text/plain": [
       "          Survived    Pclass       Age      Fare    Family    SexInt\n",
       "Survived  1.000000  0.338481  0.069809  0.263998  0.016639  0.543351\n",
       "Pclass    0.338481  1.000000  0.331339  0.609222  0.065997  0.131900\n",
       "Age       0.069809  0.331339  1.000000  0.099671  0.248512  0.084153\n",
       "Fare      0.263998  0.609222  0.099671  1.000000  0.250417  0.201895\n",
       "Family    0.016639  0.065997  0.248512  0.250417  1.000000  0.200988\n",
       "SexInt    0.543351  0.131900  0.084153  0.201895  0.200988  1.000000"
      ]
     },
     "execution_count": 57,
     "metadata": {},
     "output_type": "execute_result"
    }
   ],
   "source": [
    "correlation_df = titanic_df.corr(method='pearson', min_periods=1).abs()\n",
    "correlation_df"
   ]
  },
  {
   "cell_type": "markdown",
   "metadata": {},
   "source": [
    "Foi importante adicionar a SexInt. As variáveis Sex(SexInt) e Pclass são as mais relacionadas com Survived. Faz sentido se pensarmos que a localização da cabine fez diferença e que as mulheres e criancas tem prioridade numa situação de emergencia.\n",
    "Pclass e Fare também estão correlacionadas, principalmente porque o tipo/classe cabine são fatores para composição dos valores de passagens."
   ]
  },
  {
   "cell_type": "markdown",
   "metadata": {},
   "source": [
    "**Classificação do resultado - correlação _p_**"
   ]
  },
  {
   "cell_type": "code",
   "execution_count": 63,
   "metadata": {
    "collapsed": false
   },
   "outputs": [
    {
     "data": {
      "text/plain": [
       "SexInt    SexInt      1.000000\n",
       "Family    Family      1.000000\n",
       "Pclass    Pclass      1.000000\n",
       "Age       Age         1.000000\n",
       "Fare      Fare        1.000000\n",
       "Survived  Survived    1.000000\n",
       "Fare      Pclass      0.609222\n",
       "Pclass    Fare        0.609222\n",
       "Survived  SexInt      0.543351\n",
       "SexInt    Survived    0.543351\n",
       "Pclass    Survived    0.338481\n",
       "Survived  Pclass      0.338481\n",
       "Pclass    Age         0.331339\n",
       "Age       Pclass      0.331339\n",
       "Fare      Survived    0.263998\n",
       "Survived  Fare        0.263998\n",
       "Fare      Family      0.250417\n",
       "Family    Fare        0.250417\n",
       "Age       Family      0.248512\n",
       "Family    Age         0.248512\n",
       "SexInt    Fare        0.201895\n",
       "Fare      SexInt      0.201895\n",
       "SexInt    Family      0.200988\n",
       "Family    SexInt      0.200988\n",
       "SexInt    Pclass      0.131900\n",
       "Pclass    SexInt      0.131900\n",
       "Fare      Age         0.099671\n",
       "Age       Fare        0.099671\n",
       "SexInt    Age         0.084153\n",
       "Age       SexInt      0.084153\n",
       "          Survived    0.069809\n",
       "Survived  Age         0.069809\n",
       "Pclass    Family      0.065997\n",
       "Family    Pclass      0.065997\n",
       "Survived  Family      0.016639\n",
       "Family    Survived    0.016639\n",
       "dtype: float64"
      ]
     },
     "execution_count": 63,
     "metadata": {},
     "output_type": "execute_result"
    }
   ],
   "source": [
    "correlation_df.unstack().sort_values(ascending=False)"
   ]
  },
  {
   "cell_type": "markdown",
   "metadata": {},
   "source": [
    "=> Correlação moderada _p_>0.5\n",
    "* Survived x SexInt\n",
    "* Pclass   x Fare\n",
    "\n",
    "=> Correlação fraca _p_ >0.3\n",
    "* Pclass   x Survived\n",
    "* Pclass   x Age\n",
    "\n",
    "=> Correlação desprezível\n",
    "* Survived x Fare    \n",
    "* Family   x Fare\n",
    "* Family   x Age\n",
    "* Fare     x SexInt \n",
    "* Family   x SexInt \n",
    "* Pclass   x SexInt     \n",
    "* Age      x Fare       \n",
    "* Age      x SexInt  \n",
    "* Survived x Age \n",
    "* Pclass   x Family \n",
    "* Survived x Family \n",
    "\n",
    "A correlação mais forte do grupo, Pclasse e Fare, pode ser justificada pelo fato de que o preço das passagens geralmente é definido por fatores como classe escolhida."
   ]
  },
  {
   "cell_type": "markdown",
   "metadata": {
    "collapsed": true
   },
   "source": [
    "# Visualizando os dados"
   ]
  },
  {
   "cell_type": "markdown",
   "metadata": {},
   "source": [
    "Uma visão geral de todas as colunas. Os dados estão agrupados em 0 -mortos e 1 - sobreviventes  "
   ]
  },
  {
   "cell_type": "code",
   "execution_count": 64,
   "metadata": {
    "collapsed": false
   },
   "outputs": [
    {
     "data": {
      "text/plain": [
       "<seaborn.axisgrid.PairGrid at 0x11e74e80>"
      ]
     },
     "execution_count": 64,
     "metadata": {},
     "output_type": "execute_result"
    },
    {
     "data": {
      "image/png": "[encoded data removed]",
      "text/plain": [
       "<matplotlib.figure.Figure at 0x11e74978>"
      ]
     },
     "metadata": {},
     "output_type": "display_data"
    }
   ],
   "source": [
    "# Visão geral de todas as variáveis com a ajuda do pairplot(). \n",
    "sb.pairplot(titanic_df, hue='Survived', diag_kind='kde', size=2.5, markers=['o','s'], palette=['gray','red'])\n",
    "# kind='reg'"
   ]
  },
  {
   "cell_type": "markdown",
   "metadata": {
    "collapsed": true
   },
   "source": [
    "Esta visualização geral auxilia na escolha de quais dados devem ser selecionados para exibição. Por exemplo, em SexInt está claro que mais homens morreram no Titanic. Na classe pode ser percebido um maior volume de mortos na 3º classe. "
   ]
  },
  {
   "cell_type": "markdown",
   "metadata": {
    "collapsed": true
   },
   "source": [
    "### Visualizando Age"
   ]
  },
  {
   "cell_type": "code",
   "execution_count": 71,
   "metadata": {
    "collapsed": false
   },
   "outputs": [
    {
     "data": {
      "text/plain": [
       "<matplotlib.legend.Legend at 0x18a3a978>"
      ]
     },
     "execution_count": 71,
     "metadata": {},
     "output_type": "execute_result"
    },
    {
     "data": {
      "image/png": "[encoded data removed]",
      "text/plain": [
       "<matplotlib.figure.Figure at 0x18543128>"
      ]
     },
     "metadata": {},
     "output_type": "display_data"
    }
   ],
   "source": [
    "fig = plt.figure(figsize=(18,6), dpi=1600) \n",
    "\n",
    "# criando o subplot1 \n",
    "ax1 = plt.subplot(2,2,1)\n",
    "#Histogram da coluna Age\n",
    "titanic_df.Age.hist(bins=10) \n",
    "#Definindo o label de x - Age\n",
    "plt.xlabel(\"Age\")\n",
    "#Definindo o titulo do grafico\n",
    "plt.title(\"Histrogram Age, (bin=10)\")    \n",
    "\n",
    "# criando o subplot2 \n",
    "ax2 = plt.subplot(2,2,2)\n",
    "#Plotando o grafico de densidade da coluna Age\n",
    "titanic_df['Age'].plot(kind='kde', style='k--')\n",
    "#Definindo o label do eixo y\n",
    "plt.ylabel(\"Density\")\n",
    "#Definindo o label do eixo de x\n",
    "plt.xlabel(\"Age\")\n",
    "#Definindo o titulo do grafico\n",
    "plt.title(\"Density - Age\")\n",
    "\n",
    "# criando o subplot3\n",
    "ax3 = plt.subplot(2,2,(3,4))\n",
    "#plotando a densidade por classe\n",
    "titanic_df.groupby('Pclass').Age.plot.kde()\n",
    "#Definindo o label do eixo de x\n",
    "plt.xlabel(\"Age\")  \n",
    "#Definindo o titulo do grafico\n",
    "plt.title(\"Distribuicao Age/Class\")\n",
    "#Definindo a legenda\n",
    "plt.legend(('1 Classe', '2 Classe','3 Classe'),loc='best') "
   ]
  },
  {
   "cell_type": "markdown",
   "metadata": {},
   "source": [
    "A maior parte dos passageiros tem entre 20 e 40 anos.\n",
    "A 3º classe tem a maioria dos passageiros jovens e a 1º tem uma distribuição mais uniforme das idades, inclusive com a maior parte dos passageiros idosos."
   ]
  },
  {
   "cell_type": "markdown",
   "metadata": {
    "collapsed": false
   },
   "source": []
  },
  {
   "cell_type": "code",
   "execution_count": 69,
   "metadata": {
    "collapsed": false
   },
   "outputs": [
    {
     "data": {
      "text/plain": [
       "<matplotlib.text.Text at 0x17b72d68>"
      ]
     },
     "execution_count": 69,
     "metadata": {},
     "output_type": "execute_result"
    },
    {
     "data": {
      "text/plain": [
       "<matplotlib.figure.Figure at 0x173d1e10>"
      ]
     },
     "metadata": {},
     "output_type": "display_data"
    },
    {
     "data": {
      "image/png": "[encoded data removed]",
      "text/plain": [
       "<matplotlib.figure.Figure at 0xfbbd2b0>"
      ]
     },
     "metadata": {},
     "output_type": "display_data"
    },
    {
     "data": {
      "image/png": "[encoded data removed]",
      "text/plain": [
       "<matplotlib.figure.Figure at 0x1796b8d0>"
      ]
     },
     "metadata": {},
     "output_type": "display_data"
    }
   ],
   "source": [
    "fig = plt.figure(figsize=(18,6), dpi=1600) \n",
    "# tentar subplot com sb\n",
    "sb.set(style=\"white\", palette=\"muted\", color_codes=True)\n",
    "rs = np.random.RandomState(10)\n",
    "\n",
    "# Set up the matplotlib figure\n",
    "f, axes = plt.subplots(2, 2, figsize=(7, 7), sharex=True)\n",
    "sb.despine(left=True)\n",
    "\n",
    "# Cria o subplot1 \n",
    "ax1 = plt.subplot(3,1,1)\n",
    "# Imprime gráfico com a densidade de sobreviventes por classe\n",
    "titanic_df.groupby('Pclass').Survived.plot.kde()\n",
    "\n",
    "# Define o label do eixo de x\n",
    "plt.xlabel(\"0 - Mortos  1 - Sobreviventes\")\n",
    "# Define o título do gráfico\n",
    "plt.title(\"Distribuicao Sobreviventes por Classe\")\n",
    "# Define a legenda\n",
    "plt.legend(('1 Classe', '2 Classe','3 Classe'),loc='best') \n",
    "\n",
    "# Cria o subplot2 \n",
    "ax2 = plt.subplot(3,1,2)\n",
    "# Imprime gráfico com a densidade de sobreviventes por classe\n",
    "#titanic_df.groupby('Survived').Sex.plot.kde()\n",
    "titanic_df.groupby('Sex').count()['Survived'].plot.bar()\n",
    "# Define o label do eixo de x\n",
    "plt.xlabel(\"0 - Mortos  1 - Sobreviventes\")\n",
    "# Define o título do gráfico\n",
    "plt.title(\"Distribuicao Sobreviventes por Classe\")\n",
    "# Define a legenda\n",
    "plt.legend(('Total'),loc='best') \n",
    "\n",
    "# criando o subplot3\n",
    "#ax3 = plt.subplot(3,1,3)\n",
    "# Cria série com os dados de todos os sobreviventes\n",
    "sobreviventes = titanic_df[titanic_df['Survived']==1]\n",
    "\n",
    "# Para os sobreviventes, calcula a média da idade por classe e gênero  \n",
    "#sobreviventes.groupby(['Pclass','Sex']).mean()['Age'].plot.bar()\n",
    "sb.factorplot(x=\"Sex\", y=\"Age\", hue=\"Pclass\",\n",
    "               col=\"Pclass\", data=titanic_df, kind=\"box\", size=4, aspect=.5)\n",
    "\n",
    "# Define configurações do grafico ax2\n",
    "plt.xlabel(\"Classe/Genero\")\n",
    "plt.ylabel('Idade')\n",
    "#plt.title(\"Idade media dos sobreviventes por classe/genero\")   \n",
    "##plt.legend('Media_Idade', loc='best') \n",
    "\n"
   ]
  },
  {
   "cell_type": "code",
   "execution_count": 34,
   "metadata": {
    "collapsed": false
   },
   "outputs": [
    {
     "ename": "NameError",
     "evalue": "name 'grouped_yes' is not defined",
     "output_type": "error",
     "traceback": [
      "\u001b[1;31m---------------------------------------------------------------------------\u001b[0m",
      "\u001b[1;31mNameError\u001b[0m                                 Traceback (most recent call last)",
      "\u001b[1;32m<ipython-input-34-5ecd342c1444>\u001b[0m in \u001b[0;36m<module>\u001b[1;34m()\u001b[0m\n\u001b[1;32m----> 1\u001b[1;33m \u001b[0mgrouped_yes\u001b[0m\u001b[1;33m\u001b[0m\u001b[0m\n\u001b[0m",
      "\u001b[1;31mNameError\u001b[0m: name 'grouped_yes' is not defined"
     ]
    }
   ],
   "source": [
    "grouped_yes"
   ]
  },
  {
   "cell_type": "markdown",
   "metadata": {},
   "source": [
    "### Com os dados preparados, começa a pesquisa para descobrir se uma mulher de 32 anos está na faixa média dos sobreviventes"
   ]
  },
  {
   "cell_type": "markdown",
   "metadata": {},
   "source": [
    "As mulheres na 2º classe que sobreviveram tinham uma media de idade de 28 anos. \n",
    "Mas a media pode ter sido influenciada por algum outlier\n",
    "Quantas mulheres de 32 sobreviveram? qual a classe?"
   ]
  },
  {
   "cell_type": "code",
   "execution_count": null,
   "metadata": {
    "collapsed": false
   },
   "outputs": [],
   "source": [
    "#Pesquisando por mulheres com 32 anos idependente de ter sobrevivido ou da classe\n",
    "titanic_df[(titanic_df.Age==32) &\n",
    "          (titanic_df.Sex == 0 )]"
   ]
  },
  {
   "cell_type": "markdown",
   "metadata": {},
   "source": [
    "A estatistica está a meu favor:\n",
    "- 2 das 3 (66%) mulheres de 32 anos no Titanic sobreviveram\n",
    "- A única mulher de 32 anos na segunda classe sobreviveu =)"
   ]
  },
  {
   "cell_type": "code",
   "execution_count": 68,
   "metadata": {
    "collapsed": false
   },
   "outputs": [
    {
     "ename": "NameError",
     "evalue": "name 'survived_yes' is not defined",
     "output_type": "error",
     "traceback": [
      "\u001b[1;31m---------------------------------------------------------------------------\u001b[0m",
      "\u001b[1;31mNameError\u001b[0m                                 Traceback (most recent call last)",
      "\u001b[1;32m<ipython-input-68-11f09dc27285>\u001b[0m in \u001b[0;36m<module>\u001b[1;34m()\u001b[0m\n\u001b[0;32m      5\u001b[0m \u001b[1;33m\u001b[0m\u001b[0m\n\u001b[0;32m      6\u001b[0m \u001b[1;31m#Transforma os valores do titanic_df em seu desvio padrão\u001b[0m\u001b[1;33m\u001b[0m\u001b[1;33m\u001b[0m\u001b[0m\n\u001b[1;32m----> 7\u001b[1;33m \u001b[0mtitanic_std\u001b[0m \u001b[1;33m=\u001b[0m \u001b[0msurvived_yes\u001b[0m\u001b[1;33m.\u001b[0m\u001b[0mapply\u001b[0m\u001b[1;33m(\u001b[0m\u001b[0mstd_feature\u001b[0m\u001b[1;33m)\u001b[0m\u001b[1;33m\u001b[0m\u001b[0m\n\u001b[0m\u001b[0;32m      8\u001b[0m \u001b[1;31m#Apura o desvio padrao para 32 anos\u001b[0m\u001b[1;33m\u001b[0m\u001b[1;33m\u001b[0m\u001b[0m\n\u001b[0;32m      9\u001b[0m \u001b[0mstd_32\u001b[0m \u001b[1;33m=\u001b[0m \u001b[1;33m(\u001b[0m\u001b[1;36m32\u001b[0m \u001b[1;33m-\u001b[0m \u001b[0msurvived_yes\u001b[0m\u001b[1;33m.\u001b[0m\u001b[0mAge\u001b[0m\u001b[1;33m.\u001b[0m\u001b[0mmean\u001b[0m\u001b[1;33m(\u001b[0m\u001b[1;33m)\u001b[0m\u001b[1;33m)\u001b[0m\u001b[1;33m/\u001b[0m\u001b[0msurvived_yes\u001b[0m\u001b[1;33m.\u001b[0m\u001b[0mAge\u001b[0m\u001b[1;33m.\u001b[0m\u001b[0mstd\u001b[0m\u001b[1;33m(\u001b[0m\u001b[0mddof\u001b[0m\u001b[1;33m=\u001b[0m\u001b[1;36m0\u001b[0m\u001b[1;33m)\u001b[0m\u001b[1;33m\u001b[0m\u001b[0m\n",
      "\u001b[1;31mNameError\u001b[0m: name 'survived_yes' is not defined"
     ]
    }
   ],
   "source": [
    "#Normaliza a idade. Qual o std de 32 anos?\n",
    "def std_feature(df):\n",
    "    #retorna o standard deviation do valor solicitado\n",
    "    return (df - df.mean()) / df.std(ddof=0)\n",
    "\n",
    "#Transforma os valores do titanic_df em seu desvio padrão\n",
    "titanic_std = survived_yes.apply(std_feature) \n",
    "#Apura o desvio padrao para 32 anos \n",
    "std_32 = (32 - survived_yes.Age.mean())/survived_yes.Age.std(ddof=0) "
   ]
  },
  {
   "cell_type": "markdown",
   "metadata": {},
   "source": [
    "Imprime o gráfico com o std de cada idade, destacando 32 anos"
   ]
  },
  {
   "cell_type": "code",
   "execution_count": null,
   "metadata": {
    "collapsed": false
   },
   "outputs": [],
   "source": [
    "#Imprime scatter plot do std/Age\n",
    "plt.scatter(titanic_std.Age, titanic_std.index, color='grey' )\n",
    "plt.scatter(std_32, 0, color='red' )\n",
    "\n",
    "#Configura gráfico\n",
    "plt.xlabel(\"Id\")\n",
    "plt.ylabel('STD - Idade')\n",
    "plt.title(\"Distribuicao do std/Age - sobreviventes\")   \n",
    "plt.legend(('Passageiros', 'Eu'),loc='best') "
   ]
  },
  {
   "cell_type": "markdown",
   "metadata": {},
   "source": [
    "Conforme visto através do método .describe(), existem outliers. \n",
    "Se existem outliers, qual a mediana das mulheres sobreviventes sobreviventes da 2º classe?"
   ]
  },
  {
   "cell_type": "code",
   "execution_count": null,
   "metadata": {
    "collapsed": false
   },
   "outputs": [],
   "source": [
    "#Pesquisa a mediana para registros com as características: Mulhere, na 2º classe, com 32 anos e que tenha sobrevivido\n",
    "titanic_df[(titanic_df.Age==32) &\n",
    "          (titanic_df.Sex == 0) &\n",
    "          (titanic_df.Pclass == 2)&\n",
    "          (titanic_df.Survived == 1)].median()"
   ]
  },
  {
   "cell_type": "markdown",
   "metadata": {
    "collapsed": true
   },
   "source": [
    "## <font color='Red'>Sim, eu teria sobrevivido.</font>"
   ]
  },
  {
   "cell_type": "markdown",
   "metadata": {
    "collapsed": true
   },
   "source": [
    "## Prevendo o resultado"
   ]
  },
  {
   "cell_type": "code",
   "execution_count": null,
   "metadata": {
    "collapsed": false
   },
   "outputs": [],
   "source": [
    "aux_df = titanic_df.copy()\n",
    "#X recebe todos os valores do dataset menos a coluna Survived que será usada na comparação y\n",
    "X = aux_df.drop(['Survived'], axis=1).values\n",
    "#y recebe os valores da coluna Survived\n",
    "y = aux_df['Survived'].values\n",
    "\n",
    "#Divide as matrizes em teste e treino\n",
    "X_train, X_test, y_train, y_test = model_selection.train_test_split(X,y,test_size=0.2)"
   ]
  },
  {
   "cell_type": "code",
   "execution_count": null,
   "metadata": {
    "collapsed": false
   },
   "outputs": [],
   "source": [
    "decision_tree = tree.DecisionTreeClassifier(max_depth=10)\n",
    "#cria a arvore de decisão \n",
    "decision_tree.fit(X_train, y_train)"
   ]
  },
  {
   "cell_type": "code",
   "execution_count": null,
   "metadata": {
    "collapsed": false
   },
   "outputs": [],
   "source": [
    " # Acurácia média dos dados de teste\n",
    "decision_tree.score (X_test, y_test)"
   ]
  },
  {
   "cell_type": "markdown",
   "metadata": {},
   "source": [
    "Percentual de acurácia da árvore de decisão: 85%"
   ]
  },
  {
   "cell_type": "code",
   "execution_count": null,
   "metadata": {
    "collapsed": false
   },
   "outputs": [],
   "source": [
    "#Gera a representação GraphViz da decision tree. O dado é gravado no arquivo titanic_tree.dot\n",
    "#Os dados podem ser visualizados graficamente em http://www.webgraphviz.com/\n",
    "tree.export_graphviz(decision_tree, out_file='titanic_tree.dot')"
   ]
  },
  {
   "cell_type": "markdown",
   "metadata": {},
   "source": [
    "O arquivo 'titanic_tree.dot' está no github: https://github.com/liebycardoso/Intro_Data_Analysis"
   ]
  },
  {
   "cell_type": "markdown",
   "metadata": {},
   "source": [
    "A fim de facilitar a visualização, foi gerado a representação GraphViz da decision tree com max_depth=2. Nos testes foi utilizado max_depth=10.   \n",
    "\n",
    "![alt text](Tree_depth2.jpg \"tree\")"
   ]
  },
  {
   "cell_type": "code",
   "execution_count": null,
   "metadata": {
    "collapsed": false
   },
   "outputs": [],
   "source": [
    "#cria o objeto Random Forest\n",
    "random_forest = RandomForestClassifier(n_estimators=100,oob_score=True)\n",
    "#Treina o modelo de dados\n",
    "random_forest.fit(X_train, y_train)\n",
    "\n",
    "#Prediz o resultado\n",
    "Y_pred = random_forest.predict(X_test)"
   ]
  },
  {
   "cell_type": "code",
   "execution_count": null,
   "metadata": {
    "collapsed": false
   },
   "outputs": [],
   "source": [
    "#Verifica a precisao do modelo.\n",
    "random_forest.score(X_train, y_train)"
   ]
  },
  {
   "cell_type": "markdown",
   "metadata": {
    "collapsed": true
   },
   "source": [
    "Neste caso é possível prever a sobrevivência com 98% de precisao"
   ]
  },
  {
   "cell_type": "code",
   "execution_count": null,
   "metadata": {
    "collapsed": false
   },
   "outputs": [],
   "source": [
    "#Acuracia do resultado do modelo.82 da variável dependente pode ser explicada pelos features\n",
    "random_forest.oob_score_"
   ]
  },
  {
   "cell_type": "markdown",
   "metadata": {},
   "source": [
    "De acordo com o modelo utilizado, ranking de contribuição das colunas no resultado. "
   ]
  },
  {
   "cell_type": "code",
   "execution_count": null,
   "metadata": {
    "collapsed": false
   },
   "outputs": [],
   "source": [
    "feat_import = pd.Series(random_forest.feature_importances_, index=aux_df.drop(['Survived'], axis=1).columns)\n",
    "feat_import.sort_values()\n",
    "feat_import"
   ]
  },
  {
   "cell_type": "markdown",
   "metadata": {},
   "source": [
    "### BIBLIOGRAFIA\n",
    "\n",
    "- Wes McKinney; Python for Data Analysis: Data Wrangling with Pandas, NumPy, and IPython\n",
    "\n",
    "Sites consultados:\n",
    "- http://blog.socialcops.com/engineering/machine-learning-python\n",
    "- http://developers.hekima.com/machine%20learning/python/2016/05/17/churn-prediction/\n",
    "- http://hamelg.blogspot.com.br/2015/11/python-for-data-analysis-part-14.html\n",
    "- http://nbviewer.jupyter.org/github/agconti/US_Dollar_Vehicle_Currency/blob/master/US_Dollar_Vehicle_Currency.ipynb\n",
    "- http://nbviewer.jupyter.org/github/jrjohansson/scientific-python-lectures/blob/master/Lecture-4-Matplotlib.ipynb\n",
    "- http://scott.fortmann-roe.com/docs/BiasVariance.html\n",
    "- http://stackoverflow.com/questions/36288352/how-to-get-pandas-kde-density-with-horizontal-orientation\n",
    "- http://work.caltech.edu/library/014.html\n",
    "- http://work.caltech.edu/library/index.html\n",
    "- http://www.r2d3.us/visual-intro-to-machine-learning-part-1/\n",
    "- http://www.reshamsarkar.com/projects/2016/3/30/titanic-trauma-data-cleaning-and-munging\n",
    "- http://www.ultravioletanalytics.com/2014/11/03/kaggle-titanic-competition-part-ii-missing-values/\n",
    "- https://github.com/agconti/kaggle-titanic/blob/master/Titanic.ipynb\n",
    "- https://github.com/justmarkham/scikit-learn-videos\n",
    "- https://www.dataquest.io/mission/3/list-operations\n",
    "- https://www.kaggle.com/c/titanic\n",
    "- https://www.youtube.com/watch?v=0GrciaGYzV0\n"
   ]
  },
  {
   "cell_type": "code",
   "execution_count": null,
   "metadata": {
    "collapsed": false
   },
   "outputs": [],
   "source": []
  },
  {
   "cell_type": "code",
   "execution_count": null,
   "metadata": {
    "collapsed": true
   },
   "outputs": [],
   "source": [
    "np.sqrt(metrics.mean_squared_erro(y_test, y_pred))"
   ]
  },
  {
   "cell_type": "code",
   "execution_count": null,
   "metadata": {
    "collapsed": false
   },
   "outputs": [],
   "source": []
  },
  {
   "cell_type": "code",
   "execution_count": null,
   "metadata": {
    "collapsed": true
   },
   "outputs": [],
   "source": []
  },
  {
   "cell_type": "code",
   "execution_count": null,
   "metadata": {
    "collapsed": false
   },
   "outputs": [],
   "source": []
  },
  {
   "cell_type": "code",
   "execution_count": null,
   "metadata": {
    "collapsed": false
   },
   "outputs": [],
   "source": []
  },
  {
   "cell_type": "code",
   "execution_count": null,
   "metadata": {
    "collapsed": true
   },
   "outputs": [],
   "source": []
  }
 ],
 "metadata": {
  "anaconda-cloud": {},
  "kernelspec": {
   "display_name": "Python [Root]",
   "language": "python",
   "name": "Python [Root]"
  },
  "language_info": {
   "codemirror_mode": {
    "name": "ipython",
    "version": 2
   },
   "file_extension": ".py",
   "mimetype": "text/x-python",
   "name": "python",
   "nbconvert_exporter": "python",
   "pygments_lexer": "ipython2",
   "version": "2.7.11"
  }
 },
 "nbformat": 4,
 "nbformat_minor": 0
}
